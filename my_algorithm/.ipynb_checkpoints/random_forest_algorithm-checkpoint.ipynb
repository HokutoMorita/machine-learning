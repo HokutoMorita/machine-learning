{
 "cells": [
  {
   "cell_type": "markdown",
   "metadata": {},
   "source": [
    "# ランダムフォレスト作成"
   ]
  },
  {
   "cell_type": "code",
   "execution_count": 1,
   "metadata": {},
   "outputs": [],
   "source": [
    "import numpy as np\n",
    "import matplotlib.pyplot as plt\n",
    "from matplotlib.colors import ListedColormap\n",
    "from sklearn import datasets\n",
    "from sklearn.tree import DecisionTreeClassifier\n",
    "from sklearn.ensemble import RandomForestClassifier\n",
    "from sklearn.model_selection import train_test_split\n",
    "\n",
    "from mh_tree_algorithm import DecisionTreeMH"
   ]
  },
  {
   "cell_type": "code",
   "execution_count": null,
   "metadata": {},
   "outputs": [],
   "source": [
    "class RandomForest(object):\n",
    "    def __init__(self, n_estimators=100, random_state=None):\n",
    "        self.n_estimators = n_estimators\n",
    "        self.random_state = random_state\n",
    "    \n",
    "    def reselect_samples(self, samples, targets):\n",
    "        num_samples, num_features = samples.shape\n",
    "        if self.random_state != None:\n",
    "            np.random.seed(self.random_state)\n",
    "        rs_sample_index = np.random.randint(0, num_samples, size=num_samples)\n",
    "        rs_num_features = int(np.ceil(np.sqrt(num_features)))\n",
    "        rs_feature_index = np.random.permutation(num_features)[0:rs_num_features]\n",
    "        remove_feature_index = [i for i in set(range(num_features)) - set(rs_feature_index.tolist())]\n",
    "        rs_samples = samples[rs_sample_index, :]\n",
    "        rs_samples[:, remove_feature_index] = 0.0\n",
    "        rs_targets = targets[rs_sample_index]\n",
    "        return rs_samples, rs_targets\n",
    "    \n",
    "    def fit(self, X_train, y_train):\n",
    "        num_samples, num_features = X_train.shape\n",
    "        \n",
    "        self.estimators_ = []\n",
    "        for i in range(self.n_estimators):\n",
    "            self.estimators_ .append(DecisionTreeMH(random_state=self.random_state))\n",
    "            rs_X_train, rs_y_target = self.reselect_samples(X_train, y_train)\n",
    "            self.estimators_[i].fit(rs_X_train, rs_y_target)\n",
    "        \n",
    "        self.calc_feature_importances()\n",
    "    \n",
    "    def calc_feature_importances(self):\n",
    "        self.feature_importances_ = [0.0] * len(self.estimators_[0].feature_importances_)\n",
    "        for i in range(self.n_estimators):\n",
    "            self.feature_importances_ += self.estimators_[i].feature_importances_ / self.n_estimators\n",
    "    \n",
    "    def predict(self, X_test):\n",
    "        pred = []\n",
    "        for i in range(self.n_estimators):\n",
    "            pred.append(self.estimators_[i].predict(X_test).tolist())\n",
    "        pred = np.array(pred)\n",
    "        \n",
    "        label = []\n",
    "        for j in range(X_test.shape[0]):\n",
    "            target = pred[:, j]\n",
    "            class_count = {i: len(target[target == i]) for i in np.unique(target)}\n",
    "            label.append(max(class_count.items(), key=lambda x: x[1])[0])\n",
    "        return np.array(label)\n",
    "    \n",
    "    def score(self, sample, target):\n",
    "        return np.sum(self.predict(sample) == target) / float(len(target))"
   ]
  },
  {
   "cell_type": "code",
   "execution_count": null,
   "metadata": {},
   "outputs": [],
   "source": []
  },
  {
   "cell_type": "code",
   "execution_count": null,
   "metadata": {},
   "outputs": [],
   "source": []
  },
  {
   "cell_type": "code",
   "execution_count": null,
   "metadata": {},
   "outputs": [],
   "source": []
  },
  {
   "cell_type": "code",
   "execution_count": null,
   "metadata": {},
   "outputs": [],
   "source": []
  },
  {
   "cell_type": "code",
   "execution_count": null,
   "metadata": {},
   "outputs": [],
   "source": []
  },
  {
   "cell_type": "code",
   "execution_count": null,
   "metadata": {},
   "outputs": [],
   "source": []
  },
  {
   "cell_type": "code",
   "execution_count": null,
   "metadata": {},
   "outputs": [],
   "source": []
  },
  {
   "cell_type": "code",
   "execution_count": null,
   "metadata": {},
   "outputs": [],
   "source": []
  },
  {
   "cell_type": "code",
   "execution_count": null,
   "metadata": {},
   "outputs": [],
   "source": []
  },
  {
   "cell_type": "code",
   "execution_count": null,
   "metadata": {},
   "outputs": [],
   "source": []
  },
  {
   "cell_type": "code",
   "execution_count": null,
   "metadata": {},
   "outputs": [],
   "source": []
  },
  {
   "cell_type": "code",
   "execution_count": null,
   "metadata": {},
   "outputs": [],
   "source": []
  }
 ],
 "metadata": {
  "kernelspec": {
   "display_name": "Python 3",
   "language": "python",
   "name": "python3"
  },
  "language_info": {
   "codemirror_mode": {
    "name": "ipython",
    "version": 3
   },
   "file_extension": ".py",
   "mimetype": "text/x-python",
   "name": "python",
   "nbconvert_exporter": "python",
   "pygments_lexer": "ipython3",
   "version": "3.7.6"
  }
 },
 "nbformat": 4,
 "nbformat_minor": 4
}
