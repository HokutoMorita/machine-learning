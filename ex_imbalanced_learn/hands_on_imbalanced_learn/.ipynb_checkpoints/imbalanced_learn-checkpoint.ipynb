{
 "cells": [
  {
   "cell_type": "markdown",
   "metadata": {},
   "source": [
    "# 不均衡データのサンプリング\n",
    "\n",
    "参考文献;\\\n",
    "http://tekenuko.hatenablog.com/entry/2017/12/11/214522\n",
    "\n",
    "  - Under Sampling：負例を減らす\n",
    "  - Over Sampling：正例を増やす"
   ]
  },
  {
   "cell_type": "markdown",
   "metadata": {},
   "source": [
    "## 必要なライブラリのインポート"
   ]
  },
  {
   "cell_type": "code",
   "execution_count": 34,
   "metadata": {},
   "outputs": [],
   "source": [
    "import pandas as pd\n",
    "import numpy as np\n",
    "\n",
    "from matplotlib import pyplot as plt\n",
    "# ジュピターノートブック上でグラフを表示させるための処理\n",
    "%matplotlib inline\n",
    "\n",
    "from sklearn.datasets import make_classification\n",
    "from sklearn.linear_model import LogisticRegression\n",
    "from sklearn.model_selection import train_test_split\n",
    "from sklearn.metrics import accuracy_score, confusion_matrix\n",
    "\n",
    "from imblearn.under_sampling import RandomUnderSampler\n",
    "from imblearn.over_sampling import RandomOverSampler\n",
    "from imblearn.over_sampling import SMOTE"
   ]
  },
  {
   "cell_type": "markdown",
   "metadata": {},
   "source": [
    "## サンプルデータの取得\n",
    "\n",
    "不均衡データを人工的に生成する。\n",
    "  - 今回は、10万件のデータで、正例が10件のデータを生成する。"
   ]
  },
  {
   "cell_type": "code",
   "execution_count": 2,
   "metadata": {},
   "outputs": [],
   "source": [
    "df = make_classification(\n",
    "    n_samples = 100000, n_features = 10, n_informative = 2, n_redundant = 0, \n",
    "    n_repeated = 0, n_classes = 2, n_clusters_per_class = 2, weights = [0.9999, 0.0001], \n",
    "    flip_y = 0, class_sep = 1.0, hypercube = True, shift = 0.0, \n",
    "    scale = 1.0, shuffle = True, random_state = 71)"
   ]
  },
  {
   "cell_type": "code",
   "execution_count": 3,
   "metadata": {},
   "outputs": [
    {
     "data": {
      "text/plain": [
       "array([0, 0, 0, 0, 0])"
      ]
     },
     "execution_count": 3,
     "metadata": {},
     "output_type": "execute_result"
    }
   ],
   "source": [
    "df[1][:5]"
   ]
  },
  {
   "cell_type": "code",
   "execution_count": 4,
   "metadata": {},
   "outputs": [],
   "source": [
    "df_raw = pd.DataFrame(df[0], columns = ['var1', 'var2', 'var3', 'var4', 'var5', 'var6', 'var7', 'var8', 'var9', 'var10'])\n",
    "df_raw['Class'] = df[1]"
   ]
  },
  {
   "cell_type": "code",
   "execution_count": 5,
   "metadata": {},
   "outputs": [
    {
     "data": {
      "text/html": [
       "<div>\n",
       "<style scoped>\n",
       "    .dataframe tbody tr th:only-of-type {\n",
       "        vertical-align: middle;\n",
       "    }\n",
       "\n",
       "    .dataframe tbody tr th {\n",
       "        vertical-align: top;\n",
       "    }\n",
       "\n",
       "    .dataframe thead th {\n",
       "        text-align: right;\n",
       "    }\n",
       "</style>\n",
       "<table border=\"1\" class=\"dataframe\">\n",
       "  <thead>\n",
       "    <tr style=\"text-align: right;\">\n",
       "      <th></th>\n",
       "      <th>var1</th>\n",
       "      <th>var2</th>\n",
       "      <th>var3</th>\n",
       "      <th>var4</th>\n",
       "      <th>var5</th>\n",
       "      <th>var6</th>\n",
       "      <th>var7</th>\n",
       "      <th>var8</th>\n",
       "      <th>var9</th>\n",
       "      <th>var10</th>\n",
       "      <th>Class</th>\n",
       "    </tr>\n",
       "  </thead>\n",
       "  <tbody>\n",
       "    <tr>\n",
       "      <td>0</td>\n",
       "      <td>-0.503992</td>\n",
       "      <td>0.464303</td>\n",
       "      <td>-0.006417</td>\n",
       "      <td>2.056608</td>\n",
       "      <td>-0.096649</td>\n",
       "      <td>-0.672563</td>\n",
       "      <td>-0.657623</td>\n",
       "      <td>-1.119386</td>\n",
       "      <td>-0.810968</td>\n",
       "      <td>1.031397</td>\n",
       "      <td>0</td>\n",
       "    </tr>\n",
       "    <tr>\n",
       "      <td>1</td>\n",
       "      <td>0.498462</td>\n",
       "      <td>0.189870</td>\n",
       "      <td>0.412015</td>\n",
       "      <td>0.379025</td>\n",
       "      <td>0.737429</td>\n",
       "      <td>-0.534282</td>\n",
       "      <td>0.254222</td>\n",
       "      <td>0.057172</td>\n",
       "      <td>0.091774</td>\n",
       "      <td>0.491410</td>\n",
       "      <td>0</td>\n",
       "    </tr>\n",
       "    <tr>\n",
       "      <td>2</td>\n",
       "      <td>1.376955</td>\n",
       "      <td>0.210956</td>\n",
       "      <td>-0.782417</td>\n",
       "      <td>-0.888292</td>\n",
       "      <td>-0.181500</td>\n",
       "      <td>-0.322114</td>\n",
       "      <td>0.626845</td>\n",
       "      <td>-1.009424</td>\n",
       "      <td>1.233034</td>\n",
       "      <td>-0.005474</td>\n",
       "      <td>0</td>\n",
       "    </tr>\n",
       "    <tr>\n",
       "      <td>3</td>\n",
       "      <td>0.822917</td>\n",
       "      <td>0.537098</td>\n",
       "      <td>-0.095162</td>\n",
       "      <td>-1.644453</td>\n",
       "      <td>-0.585895</td>\n",
       "      <td>0.075398</td>\n",
       "      <td>1.514316</td>\n",
       "      <td>-1.380059</td>\n",
       "      <td>-0.023705</td>\n",
       "      <td>0.781185</td>\n",
       "      <td>0</td>\n",
       "    </tr>\n",
       "    <tr>\n",
       "      <td>4</td>\n",
       "      <td>0.622078</td>\n",
       "      <td>-0.957950</td>\n",
       "      <td>-0.713356</td>\n",
       "      <td>-0.561813</td>\n",
       "      <td>-1.032842</td>\n",
       "      <td>-0.479583</td>\n",
       "      <td>-0.249271</td>\n",
       "      <td>-0.662862</td>\n",
       "      <td>0.462246</td>\n",
       "      <td>-0.450706</td>\n",
       "      <td>0</td>\n",
       "    </tr>\n",
       "  </tbody>\n",
       "</table>\n",
       "</div>"
      ],
      "text/plain": [
       "       var1      var2      var3      var4      var5      var6      var7  \\\n",
       "0 -0.503992  0.464303 -0.006417  2.056608 -0.096649 -0.672563 -0.657623   \n",
       "1  0.498462  0.189870  0.412015  0.379025  0.737429 -0.534282  0.254222   \n",
       "2  1.376955  0.210956 -0.782417 -0.888292 -0.181500 -0.322114  0.626845   \n",
       "3  0.822917  0.537098 -0.095162 -1.644453 -0.585895  0.075398  1.514316   \n",
       "4  0.622078 -0.957950 -0.713356 -0.561813 -1.032842 -0.479583 -0.249271   \n",
       "\n",
       "       var8      var9     var10  Class  \n",
       "0 -1.119386 -0.810968  1.031397      0  \n",
       "1  0.057172  0.091774  0.491410      0  \n",
       "2 -1.009424  1.233034 -0.005474      0  \n",
       "3 -1.380059 -0.023705  0.781185      0  \n",
       "4 -0.662862  0.462246 -0.450706      0  "
      ]
     },
     "execution_count": 5,
     "metadata": {},
     "output_type": "execute_result"
    }
   ],
   "source": [
    "df_raw.head()"
   ]
  },
  {
   "cell_type": "code",
   "execution_count": 6,
   "metadata": {},
   "outputs": [
    {
     "data": {
      "text/html": [
       "<div>\n",
       "<style scoped>\n",
       "    .dataframe tbody tr th:only-of-type {\n",
       "        vertical-align: middle;\n",
       "    }\n",
       "\n",
       "    .dataframe tbody tr th {\n",
       "        vertical-align: top;\n",
       "    }\n",
       "\n",
       "    .dataframe thead th {\n",
       "        text-align: right;\n",
       "    }\n",
       "</style>\n",
       "<table border=\"1\" class=\"dataframe\">\n",
       "  <thead>\n",
       "    <tr style=\"text-align: right;\">\n",
       "      <th></th>\n",
       "      <th>var1</th>\n",
       "      <th>var2</th>\n",
       "      <th>var3</th>\n",
       "      <th>var4</th>\n",
       "      <th>var5</th>\n",
       "      <th>var6</th>\n",
       "      <th>var7</th>\n",
       "      <th>var8</th>\n",
       "      <th>var9</th>\n",
       "      <th>var10</th>\n",
       "      <th>Class</th>\n",
       "    </tr>\n",
       "  </thead>\n",
       "  <tbody>\n",
       "    <tr>\n",
       "      <td>99995</td>\n",
       "      <td>-0.290064</td>\n",
       "      <td>-1.323599</td>\n",
       "      <td>0.556524</td>\n",
       "      <td>-0.927455</td>\n",
       "      <td>0.186070</td>\n",
       "      <td>-0.969655</td>\n",
       "      <td>0.266880</td>\n",
       "      <td>-0.075464</td>\n",
       "      <td>0.177064</td>\n",
       "      <td>0.457382</td>\n",
       "      <td>0</td>\n",
       "    </tr>\n",
       "    <tr>\n",
       "      <td>99996</td>\n",
       "      <td>-0.108113</td>\n",
       "      <td>0.404205</td>\n",
       "      <td>-0.197977</td>\n",
       "      <td>2.380506</td>\n",
       "      <td>0.694120</td>\n",
       "      <td>-0.527115</td>\n",
       "      <td>0.004540</td>\n",
       "      <td>-1.719724</td>\n",
       "      <td>1.377191</td>\n",
       "      <td>-0.088662</td>\n",
       "      <td>0</td>\n",
       "    </tr>\n",
       "    <tr>\n",
       "      <td>99997</td>\n",
       "      <td>0.901356</td>\n",
       "      <td>0.835339</td>\n",
       "      <td>0.063863</td>\n",
       "      <td>0.843403</td>\n",
       "      <td>0.222197</td>\n",
       "      <td>-0.099863</td>\n",
       "      <td>0.880229</td>\n",
       "      <td>0.618599</td>\n",
       "      <td>-0.993613</td>\n",
       "      <td>0.387420</td>\n",
       "      <td>0</td>\n",
       "    </tr>\n",
       "    <tr>\n",
       "      <td>99998</td>\n",
       "      <td>-1.569808</td>\n",
       "      <td>0.214372</td>\n",
       "      <td>-0.680219</td>\n",
       "      <td>0.412022</td>\n",
       "      <td>-0.860036</td>\n",
       "      <td>-1.108246</td>\n",
       "      <td>0.173310</td>\n",
       "      <td>0.248247</td>\n",
       "      <td>1.317108</td>\n",
       "      <td>-0.220288</td>\n",
       "      <td>0</td>\n",
       "    </tr>\n",
       "    <tr>\n",
       "      <td>99999</td>\n",
       "      <td>-0.518021</td>\n",
       "      <td>-0.098463</td>\n",
       "      <td>0.332940</td>\n",
       "      <td>1.284996</td>\n",
       "      <td>-0.954497</td>\n",
       "      <td>-0.147086</td>\n",
       "      <td>0.188895</td>\n",
       "      <td>-0.630520</td>\n",
       "      <td>1.655579</td>\n",
       "      <td>-1.736762</td>\n",
       "      <td>0</td>\n",
       "    </tr>\n",
       "  </tbody>\n",
       "</table>\n",
       "</div>"
      ],
      "text/plain": [
       "           var1      var2      var3      var4      var5      var6      var7  \\\n",
       "99995 -0.290064 -1.323599  0.556524 -0.927455  0.186070 -0.969655  0.266880   \n",
       "99996 -0.108113  0.404205 -0.197977  2.380506  0.694120 -0.527115  0.004540   \n",
       "99997  0.901356  0.835339  0.063863  0.843403  0.222197 -0.099863  0.880229   \n",
       "99998 -1.569808  0.214372 -0.680219  0.412022 -0.860036 -1.108246  0.173310   \n",
       "99999 -0.518021 -0.098463  0.332940  1.284996 -0.954497 -0.147086  0.188895   \n",
       "\n",
       "           var8      var9     var10  Class  \n",
       "99995 -0.075464  0.177064  0.457382      0  \n",
       "99996 -1.719724  1.377191 -0.088662      0  \n",
       "99997  0.618599 -0.993613  0.387420      0  \n",
       "99998  0.248247  1.317108 -0.220288      0  \n",
       "99999 -0.630520  1.655579 -1.736762      0  "
      ]
     },
     "execution_count": 6,
     "metadata": {},
     "output_type": "execute_result"
    }
   ],
   "source": [
    "df_raw.tail()"
   ]
  },
  {
   "cell_type": "markdown",
   "metadata": {},
   "source": [
    "### クラスの割合の確認"
   ]
  },
  {
   "cell_type": "code",
   "execution_count": 7,
   "metadata": {},
   "outputs": [
    {
     "data": {
      "text/plain": [
       "0    99990\n",
       "1       10\n",
       "Name: Class, dtype: int64"
      ]
     },
     "execution_count": 7,
     "metadata": {},
     "output_type": "execute_result"
    }
   ],
   "source": [
    "df_raw['Class'].value_counts()"
   ]
  },
  {
   "cell_type": "markdown",
   "metadata": {},
   "source": [
    "## プロトタイプモデルの作成\n",
    "\n",
    "不均衡データをサンプリングしないまま、分類のためのロジスティック回帰モデルを作成する。"
   ]
  },
  {
   "cell_type": "markdown",
   "metadata": {},
   "source": [
    "### 学習用と検証用にデータを分割"
   ]
  },
  {
   "cell_type": "code",
   "execution_count": 8,
   "metadata": {},
   "outputs": [],
   "source": [
    "X = df_raw.iloc[:, 0:10]\n",
    "y = df_raw['Class']\n",
    "X_train, X_test, y_train, y_test = train_test_split(X, y, test_size = 0.3, random_state = 71)"
   ]
  },
  {
   "cell_type": "markdown",
   "metadata": {},
   "source": [
    "### モデル構築"
   ]
  },
  {
   "cell_type": "code",
   "execution_count": 9,
   "metadata": {},
   "outputs": [
    {
     "data": {
      "text/plain": [
       "LogisticRegression(C=1.0, class_weight=None, dual=False, fit_intercept=True,\n",
       "                   intercept_scaling=1, l1_ratio=None, max_iter=100,\n",
       "                   multi_class='auto', n_jobs=None, penalty='l2',\n",
       "                   random_state=None, solver='lbfgs', tol=0.0001, verbose=0,\n",
       "                   warm_start=False)"
      ]
     },
     "execution_count": 9,
     "metadata": {},
     "output_type": "execute_result"
    }
   ],
   "source": [
    "model = LogisticRegression()\n",
    "model.fit(X_train, y_train)"
   ]
  },
  {
   "cell_type": "markdown",
   "metadata": {},
   "source": [
    "### 予測値の算出"
   ]
  },
  {
   "cell_type": "code",
   "execution_count": 10,
   "metadata": {},
   "outputs": [],
   "source": [
    "y_pred = model.predict(X_test)"
   ]
  },
  {
   "cell_type": "markdown",
   "metadata": {},
   "source": [
    "### 評価指標: 正解率(accuracy)で評価"
   ]
  },
  {
   "cell_type": "code",
   "execution_count": 11,
   "metadata": {},
   "outputs": [
    {
     "name": "stdout",
     "output_type": "stream",
     "text": [
      "Accuracy(test) : 0.99990\n"
     ]
    }
   ],
   "source": [
    "print('Accuracy(test) : %.5f' %accuracy_score(y_test, y_pred))"
   ]
  },
  {
   "cell_type": "markdown",
   "metadata": {},
   "source": [
    "⬆︎このように、正解率99.99%という、一見精度の良さそうなモデルができます。\n",
    "しかし、混同行列を出力して確認すると、"
   ]
  },
  {
   "cell_type": "code",
   "execution_count": 12,
   "metadata": {},
   "outputs": [
    {
     "data": {
      "text/plain": [
       "(29997, 0, 3, 0)"
      ]
     },
     "execution_count": 12,
     "metadata": {},
     "output_type": "execute_result"
    }
   ],
   "source": [
    "tn, fp, fn, tp = confusion_matrix(y_test, y_pred).ravel()\n",
    "(tn, fp, fn, tp)"
   ]
  },
  {
   "cell_type": "markdown",
   "metadata": {},
   "source": [
    "のように、TN(真陰性)とFN（偽陰性）のみに値があり、FP（偽陽性）とTP（真陽性）が0となっています。\\\n",
    "つまり、単にすべて0と予測するモデルになっています\n",
    "\n",
    "次に\n",
    "- Precision（正と予測したデータのうち，実際に正であるものの割合：TP / （TP + FP））\n",
    "- Recall（実際に正であるもののうち，正であると予測されたものの割合：TP / （TP + FN））\n",
    "\n",
    "を評価してみます。"
   ]
  },
  {
   "cell_type": "code",
   "execution_count": 13,
   "metadata": {},
   "outputs": [
    {
     "name": "stdout",
     "output_type": "stream",
     "text": [
      "precision : nan\n",
      "recall : 0.0000\n"
     ]
    },
    {
     "name": "stderr",
     "output_type": "stream",
     "text": [
      "/opt/anaconda3/lib/python3.7/site-packages/ipykernel_launcher.py:1: RuntimeWarning: invalid value encountered in long_scalars\n",
      "  \"\"\"Entry point for launching an IPython kernel.\n"
     ]
    }
   ],
   "source": [
    "print('precision : %.4f'%(tp / (tp + fp)))\n",
    "print('recall : %.4f'%(tp / (tp + fn)))"
   ]
  },
  {
   "cell_type": "markdown",
   "metadata": {},
   "source": [
    "⬆︎計算が不能になっているか、0になっているという、ひどい結果です。"
   ]
  },
  {
   "cell_type": "markdown",
   "metadata": {},
   "source": [
    "## Under Sampling\n",
    "\n",
    "RandomUnderSampler: 負例サンプルをランダムに減らし、正例サンプルの割合を10%まで上げる。"
   ]
  },
  {
   "cell_type": "markdown",
   "metadata": {},
   "source": [
    "### 正例の数を保存"
   ]
  },
  {
   "cell_type": "code",
   "execution_count": 14,
   "metadata": {},
   "outputs": [
    {
     "name": "stdout",
     "output_type": "stream",
     "text": [
      "positive count:7\n"
     ]
    }
   ],
   "source": [
    "# 正例が1、負例が0のため、sum関数で数値の合計を取ることで、正例の数が分かる。\n",
    "positive_count_train = y_train.sum()\n",
    "print('positive count:{}'.format(positive_count_train))"
   ]
  },
  {
   "cell_type": "markdown",
   "metadata": {},
   "source": [
    "### 正例が10%になるまで負例をダウンサンプリング"
   ]
  },
  {
   "cell_type": "code",
   "execution_count": 16,
   "metadata": {},
   "outputs": [],
   "source": [
    "# 今回の場合は、positive_count_train=7のため、positive_count_train*9 = 63になる。\n",
    "rus = RandomUnderSampler(sampling_strategy={0:positive_count_train*9, 1:positive_count_train}, random_state=71)"
   ]
  },
  {
   "cell_type": "code",
   "execution_count": 17,
   "metadata": {},
   "outputs": [
    {
     "data": {
      "text/plain": [
       "RandomUnderSampler(random_state=71, replacement=False,\n",
       "                   sampling_strategy={0: 63, 1: 7})"
      ]
     },
     "execution_count": 17,
     "metadata": {},
     "output_type": "execute_result"
    }
   ],
   "source": [
    "rus"
   ]
  },
  {
   "cell_type": "markdown",
   "metadata": {},
   "source": [
    "### 学習用データに反映"
   ]
  },
  {
   "cell_type": "code",
   "execution_count": 18,
   "metadata": {},
   "outputs": [],
   "source": [
    "X_train_resampled, y_train_resampled = rus.fit_sample(X_train, y_train)"
   ]
  },
  {
   "cell_type": "markdown",
   "metadata": {},
   "source": [
    "### モデルに反映"
   ]
  },
  {
   "cell_type": "code",
   "execution_count": 20,
   "metadata": {},
   "outputs": [],
   "source": [
    "model2 = LogisticRegression()\n",
    "model2.fit(X_train_resampled, y_train_resampled)\n",
    "\n",
    "# 予測値算出\n",
    "y_pred = model2.predict(X_test)"
   ]
  },
  {
   "cell_type": "markdown",
   "metadata": {},
   "source": [
    "### Accuracyと混同行列"
   ]
  },
  {
   "cell_type": "code",
   "execution_count": 21,
   "metadata": {},
   "outputs": [
    {
     "name": "stdout",
     "output_type": "stream",
     "text": [
      "Confusion matrix(test):\n",
      "[[29515   482]\n",
      " [    1     2]]\n",
      "Accuracy(test) : 0.98390\n"
     ]
    }
   ],
   "source": [
    "print('Confusion matrix(test):\\n{}'.format(confusion_matrix(y_test, y_pred)))\n",
    "print('Accuracy(test) : %.5f' %accuracy_score(y_test, y_pred))"
   ]
  },
  {
   "cell_type": "markdown",
   "metadata": {},
   "source": [
    "### PrecisionとRecall"
   ]
  },
  {
   "cell_type": "code",
   "execution_count": 22,
   "metadata": {},
   "outputs": [
    {
     "name": "stdout",
     "output_type": "stream",
     "text": [
      "precision : 0.0041\n",
      "recall : 0.6667\n"
     ]
    }
   ],
   "source": [
    "tn, fp, fn, tp = confusion_matrix(y_test, y_pred).ravel()\n",
    "print('precision : %.4f'%(tp / (tp + fp)))\n",
    "print('recall : %.4f'%(tp / (tp + fn)))"
   ]
  },
  {
   "cell_type": "markdown",
   "metadata": {},
   "source": [
    "正解率は落ちたものの、PrecisionとRecallが0でない値になりました。混同行列を見ても、TPが0でなくなっており、FNが小さくなっていることがわかります。しかし、その代償としてFPが927件と大きくなってしまい、それが小さいPrecisionとして跳ね返っています。"
   ]
  },
  {
   "cell_type": "markdown",
   "metadata": {},
   "source": [
    "## Over Sampling\n",
    "\n",
    "次は、逆に正例を水増しして正例サンプルの割合を10%まで上げる。"
   ]
  },
  {
   "cell_type": "markdown",
   "metadata": {},
   "source": [
    "### 正例を10%まであげる"
   ]
  },
  {
   "cell_type": "code",
   "execution_count": 27,
   "metadata": {},
   "outputs": [],
   "source": [
    "# 「//」 は切り捨て除算\n",
    "# shape[0]で行数を取得して、切り捨て除算をしている\n",
    "ros = RandomOverSampler(sampling_strategy = {0:X_train.shape[0], 1:X_train.shape[0]//9}, random_state = 71)"
   ]
  },
  {
   "cell_type": "code",
   "execution_count": 28,
   "metadata": {},
   "outputs": [
    {
     "data": {
      "text/plain": [
       "7777"
      ]
     },
     "execution_count": 28,
     "metadata": {},
     "output_type": "execute_result"
    }
   ],
   "source": [
    "X_train.shape[0]//9"
   ]
  },
  {
   "cell_type": "code",
   "execution_count": 29,
   "metadata": {},
   "outputs": [
    {
     "data": {
      "text/plain": [
       "70000"
      ]
     },
     "execution_count": 29,
     "metadata": {},
     "output_type": "execute_result"
    }
   ],
   "source": [
    "X_train.shape[0]"
   ]
  },
  {
   "cell_type": "markdown",
   "metadata": {},
   "source": [
    "### 学習用データに反映"
   ]
  },
  {
   "cell_type": "code",
   "execution_count": 30,
   "metadata": {},
   "outputs": [
    {
     "name": "stderr",
     "output_type": "stream",
     "text": [
      "/opt/anaconda3/lib/python3.7/site-packages/imblearn/utils/_validation.py:324: UserWarning: After over-sampling, the number of samples (70000) in class 0 will be larger than the number of samples in the majority class (class #0 -> 69993)\n",
      "  n_samples_majority,\n"
     ]
    }
   ],
   "source": [
    "X_train_resampled, y_train_resampled = ros.fit_sample(X_train, y_train)"
   ]
  },
  {
   "cell_type": "markdown",
   "metadata": {},
   "source": [
    "### モデルに反映"
   ]
  },
  {
   "cell_type": "code",
   "execution_count": 31,
   "metadata": {},
   "outputs": [],
   "source": [
    "# モデル作成\n",
    "model3 = LogisticRegression()\n",
    "model3.fit(X_train_resampled, y_train_resampled)\n",
    "\n",
    "# 予測値算出\n",
    "y_pred = model3.predict(X_test)"
   ]
  },
  {
   "cell_type": "markdown",
   "metadata": {},
   "source": [
    "### Accuracyと混同行列"
   ]
  },
  {
   "cell_type": "code",
   "execution_count": 32,
   "metadata": {},
   "outputs": [
    {
     "name": "stdout",
     "output_type": "stream",
     "text": [
      "Confusion matrix(test):\n",
      "[[29694   303]\n",
      " [    1     2]]\n",
      "Accuracy(test) : 0.98987\n"
     ]
    }
   ],
   "source": [
    "print('Confusion matrix(test):\\n{}'.format(confusion_matrix(y_test, y_pred)))\n",
    "print('Accuracy(test) : %.5f' %accuracy_score(y_test, y_pred))"
   ]
  },
  {
   "cell_type": "markdown",
   "metadata": {},
   "source": [
    "### PrecisionとRecall"
   ]
  },
  {
   "cell_type": "code",
   "execution_count": 33,
   "metadata": {},
   "outputs": [
    {
     "name": "stdout",
     "output_type": "stream",
     "text": [
      "precision : 0.0066\n",
      "recall : 0.6667\n"
     ]
    }
   ],
   "source": [
    "tn, fp, fn, tp = confusion_matrix(y_test, y_pred).ravel()\n",
    "print('precision : %.4f'%(tp / (tp + fp)))\n",
    "print('recall : %.4f'%(tp / (tp + fn)))"
   ]
  },
  {
   "cell_type": "markdown",
   "metadata": {},
   "source": [
    "Under Samplingの場合と比較して、FPの数が若干抑えられており（304件）、Precisionが若干良くなっています。"
   ]
  },
  {
   "cell_type": "markdown",
   "metadata": {},
   "source": [
    "## SMOTE\n",
    "\n",
    "上記のOver Samplingでは、正例を単に水増ししていたのですが、負例を減らし、正例を増やす、といった考えもある。\n",
    "\n",
    "こういった方法の一つに、SMOTE(Synthetic Minority Over-sampling Technique)というアルゴリズムがある。"
   ]
  },
  {
   "cell_type": "code",
   "execution_count": 35,
   "metadata": {},
   "outputs": [
    {
     "name": "stderr",
     "output_type": "stream",
     "text": [
      "/opt/anaconda3/lib/python3.7/site-packages/imblearn/utils/_validation.py:324: UserWarning: After over-sampling, the number of samples (70000) in class 0 will be larger than the number of samples in the majority class (class #0 -> 69993)\n",
      "  n_samples_majority,\n"
     ]
    }
   ],
   "source": [
    "smote = SMOTE(sampling_strategy={0:X_train.shape[0], 1:X_train.shape[0]//9}, random_state=71)\n",
    "X_train_resampled, y_train_resampled = smote.fit_sample(X_train, y_train)"
   ]
  },
  {
   "cell_type": "markdown",
   "metadata": {},
   "source": [
    "### モデルに反映"
   ]
  },
  {
   "cell_type": "code",
   "execution_count": null,
   "metadata": {},
   "outputs": [],
   "source": [
    "# モデル作成\n",
    "model4 = LogisticRegression()\n",
    "model4.fit(X_train_resampled, y_train_resampled)\n",
    "\n",
    "# 予測値算出\n",
    "y_pred = model4.predict(X_test)"
   ]
  },
  {
   "cell_type": "code",
   "execution_count": null,
   "metadata": {},
   "outputs": [],
   "source": []
  },
  {
   "cell_type": "code",
   "execution_count": null,
   "metadata": {},
   "outputs": [],
   "source": []
  },
  {
   "cell_type": "code",
   "execution_count": null,
   "metadata": {},
   "outputs": [],
   "source": []
  },
  {
   "cell_type": "code",
   "execution_count": null,
   "metadata": {},
   "outputs": [],
   "source": []
  },
  {
   "cell_type": "code",
   "execution_count": null,
   "metadata": {},
   "outputs": [],
   "source": []
  },
  {
   "cell_type": "code",
   "execution_count": null,
   "metadata": {},
   "outputs": [],
   "source": []
  },
  {
   "cell_type": "code",
   "execution_count": null,
   "metadata": {},
   "outputs": [],
   "source": []
  }
 ],
 "metadata": {
  "kernelspec": {
   "display_name": "Python 3",
   "language": "python",
   "name": "python3"
  },
  "language_info": {
   "codemirror_mode": {
    "name": "ipython",
    "version": 3
   },
   "file_extension": ".py",
   "mimetype": "text/x-python",
   "name": "python",
   "nbconvert_exporter": "python",
   "pygments_lexer": "ipython3",
   "version": "3.7.4"
  }
 },
 "nbformat": 4,
 "nbformat_minor": 2
}
