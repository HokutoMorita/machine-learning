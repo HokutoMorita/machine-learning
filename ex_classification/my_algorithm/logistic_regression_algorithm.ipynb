{
 "cells": [
  {
   "cell_type": "code",
   "execution_count": 3,
   "metadata": {},
   "outputs": [],
   "source": [
    "import pandas as pd\n",
    "import numpy as np\n",
    "from numpy.random import seed\n",
    "from matplotlib import pyplot as plt\n",
    "# ジュピターノートブック上でグラフを表示させるための処理\n",
    "%matplotlib inline\n",
    "\n",
    "from sklearn import datasets\n",
    "from sklearn.model_selection import train_test_split\n",
    "from sklearn.preprocessing import StandardScaler"
   ]
  },
  {
   "cell_type": "code",
   "execution_count": null,
   "metadata": {},
   "outputs": [],
   "source": []
  },
  {
   "cell_type": "markdown",
   "metadata": {},
   "source": [
    "# ロジスティック回帰分類器"
   ]
  },
  {
   "cell_type": "code",
   "execution_count": 57,
   "metadata": {},
   "outputs": [],
   "source": [
    "class LogisticRegressionMH(object):\n",
    "    '''\n",
    "    ロジスティック回帰分類器\n",
    "    \n",
    "    パラメータ\n",
    "    =========\n",
    "    eta : float\n",
    "           学習率（0.0より大きく1.0以下の値）\n",
    "    n_iter : int\n",
    "            トレーニングデータのトレーニング回数\n",
    "    \n",
    "    属性\n",
    "    =========\n",
    "    w_ : 1次元配列\n",
    "            適合後の重み\n",
    "    errors_ : リスト\n",
    "            各エポックでの誤分類数\n",
    "    shuffle : bool （デフォルト : True）\n",
    "            循環を回避するために各エポックでトレーニングデータをシャッフル\n",
    "    random_state : int （デフォルト : None）\n",
    "            シャッフルに使用するランダムステートを設定し、重みを初期化\n",
    "            \n",
    "    '''\n",
    "    def __init__(self, eta=0.01, n_iter=10, shuffle=True, random_state=None):\n",
    "        # 学習の初期化\n",
    "        self.eta = eta\n",
    "        \n",
    "        # トレーニング回数の初期化\n",
    "        self.n_iter = n_iter\n",
    "        \n",
    "        # 重みの初期化フラグはFalseに設定\n",
    "        self.w_initialized = False\n",
    "        \n",
    "        # 各エポックでトレーニングデータをシャッフルするかどうかのフラグを初期化\n",
    "        self.shuffle = shuffle\n",
    "        \n",
    "        # 引数random_stateが指定された場合は乱数種を設定\n",
    "        if random_state:\n",
    "            seed(random_state)\n",
    "    \n",
    "    def fit(self, X, y):\n",
    "        '''\n",
    "        トレーニングデータに適合させる\n",
    "        \n",
    "        パラメータ\n",
    "        =========\n",
    "        X : {配列のようなデータ構造}、shape = [n_samples, n_features]\n",
    "                トレーニングデータ\n",
    "        y : 配列のようなデータ構造、shape = [n_samples]\n",
    "                目的変数\n",
    "        \n",
    "        戻り値\n",
    "        =========\n",
    "        self : object\n",
    "        '''\n",
    "        # 重みベクトルの生成\n",
    "        self._initialize_weights(X.shape[1])\n",
    "        \n",
    "        # コストを格納するリストの生成\n",
    "        self.cost_ = []\n",
    "        \n",
    "        # トレーニング回数分トレーニングデータを反復\n",
    "        for i in range(self.n_iter):\n",
    "            # 指定された場合はトレーニングデータをシャッフル\n",
    "            if self.shuffle:\n",
    "                X, y = self._shuffle(X, y)\n",
    "            \n",
    "            # 各サンプルのコストを格納するリストの生成\n",
    "            cost = []\n",
    "            \n",
    "            # 各サンプルに対する計算\n",
    "            for xi, target in zip(X, y):\n",
    "                # 特徴量xiと目的変数yを用いた重みの更新とコストの計算\n",
    "                cost.append(self._update_weights(xi, target))\n",
    "                \n",
    "            # サンプルの平均コストの計算\n",
    "            avg_cost = sum(cost) / len(y)\n",
    "            \n",
    "            # 平均コストを格納\n",
    "            self.cost_.append(avg_cost)\n",
    "            \n",
    "            return self\n",
    "    \n",
    "    def partial_fit(self, X, y):\n",
    "        '''\n",
    "        重みを再初期化することなくトレーニングデータに適合させる\n",
    "        partialの意味: 部分的\n",
    "        '''\n",
    "        # 初期化されていない場合は初期化を実行\n",
    "        if not self.w_initialized:\n",
    "            self._initialize_weights(X.shape[1])\n",
    "            \n",
    "        # 目的変数yの要素数が2以上の場合は各サンプルの特徴量xiと目的変数targetで重みを更新\n",
    "        if y.ravel().shape[0] > 1:\n",
    "            for xi, target in zip(X, y):\n",
    "                self._update_weights(xi, target)\n",
    "                \n",
    "        # 目的変数yの要素数が1の場合は、サンプル全体の特徴量Xと目的変数yで重みを更新\n",
    "        else:\n",
    "                self._update_weights(X, y)\n",
    "                \n",
    "        return self\n",
    "    \n",
    "    def _shuffle(self, X, y):\n",
    "        '''\n",
    "        トレーニングデータをシャッフル\n",
    "        '''\n",
    "        r = np.random.permutation(len(y))\n",
    "        return X[r], y[r]\n",
    "    \n",
    "    def _initialize_weights(self, m):\n",
    "        \"\"\"\n",
    "        重みを0に初期化\n",
    "        \"\"\"\n",
    "        self.w_ = np.zeros(1 + m)\n",
    "        self.w_initialized = True\n",
    "        \n",
    "    def _update_weights(self, xi, target):\n",
    "        '''\n",
    "        ロジスティック回帰の学習規則を用いて重みを更新\n",
    "        target: yi\n",
    "        '''\n",
    "        # φ(z) = シグモイド関数: 活性化関数の出力の計算\n",
    "        # output = φ(z)\n",
    "        output = self.net_input(xi)\n",
    "        \n",
    "        # 誤差の計算\n",
    "        error = (target - output)\n",
    "        \n",
    "        # 重み　w1, ... , wmの更新\n",
    "        ## Δwj = ηΣ(yi - φ(zi)) * xij\n",
    "        ## w := w + Δw\n",
    "        self.w_[1:] += self.eta * xi.dot(error)\n",
    "        \n",
    "        # 重み　w0の更新\n",
    "        self.w_[0] += self.eta * error\n",
    "        \n",
    "        # コストの計算 \n",
    "        ## J(w) = - Σ { yi * log(φ(zi)) + (1 - yi)*log(1 - φ(zi)) }\n",
    "        cost = - (target * np.log(output) + (1 - target) * np.log(1 - output))\n",
    "        \n",
    "        return cost\n",
    "    \n",
    "    def net_input(self, X):\n",
    "        '''\n",
    "        総入力を計算\n",
    "        '''\n",
    "        return np.dot(X, self.w_[1:] + self.w_[0])\n",
    "  \n",
    "    def sigmoid(z):\n",
    "        '''\n",
    "        シグモイド関数\n",
    "        '''\n",
    "        return 1.0 / (1.0 + np.exp(-z))\n",
    "\n",
    "    def activation(self, X):\n",
    "        '''\n",
    "        線形活性化関数の出力を計算\n",
    "        '''\n",
    "        z = self.net_input(X)\n",
    "        return sigmoid(z)\n",
    "    \n",
    "    def predict_proba(self, X):\n",
    "        return self.activation(X)\n",
    "        \n",
    "    def predict(self, X):\n",
    "        '''\n",
    "        1ステップ後のクラスラベルを返す\n",
    "        '''\n",
    "        return np.where(self.activation(X) >= 0.0, 1, -1)"
   ]
  },
  {
   "cell_type": "markdown",
   "metadata": {},
   "source": [
    "## Irisデータセットの取得と整形"
   ]
  },
  {
   "cell_type": "code",
   "execution_count": 46,
   "metadata": {},
   "outputs": [],
   "source": [
    "# Irisデータセットをロード\n",
    "iris = datasets.load_iris()\n",
    "\n",
    "# 3, 4列目の特徴量を抽出\n",
    "X = iris.data[:, [2, 3]]\n",
    "\n",
    "# クラスラベルを取得\n",
    "y = iris.target\n",
    "\n",
    "# トレーニングデータとテストデータに分割\n",
    "## 全体の30%をテストデータにする\n",
    "X_train, X_test, y_train, y_test = train_test_split(X, y, test_size=0.3, random_state=0)\n",
    "\n",
    "# Irisデータセットを標準化\n",
    "sc = StandardScaler()\n",
    "\n",
    "# トレーニングデータの平均と標準偏差を計算\n",
    "sc.fit(X_train)\n",
    "\n",
    "# 平均と標準偏差を用いて標準化\n",
    "X_train_std = sc.transform(X_train)\n",
    "X_test_std = sc.transform(X_test)"
   ]
  },
  {
   "cell_type": "markdown",
   "metadata": {},
   "source": [
    "## ロジスティック回帰分類器にデータを適用"
   ]
  },
  {
   "cell_type": "code",
   "execution_count": 47,
   "metadata": {},
   "outputs": [],
   "source": [
    "lg_mh = LogisticRegressionMH(n_iter=15, eta=0.01, random_state=1)"
   ]
  },
  {
   "cell_type": "code",
   "execution_count": 48,
   "metadata": {},
   "outputs": [
    {
     "data": {
      "text/plain": [
       "<__main__.LogisticRegressionMH at 0x1a1b9a0dd0>"
      ]
     },
     "execution_count": 48,
     "metadata": {},
     "output_type": "execute_result"
    }
   ],
   "source": [
    "lg_mh.fit(X_train_std, y_train)"
   ]
  },
  {
   "cell_type": "code",
   "execution_count": 49,
   "metadata": {},
   "outputs": [
    {
     "data": {
      "text/plain": [
       "[2.1681139006661487]"
      ]
     },
     "execution_count": 49,
     "metadata": {},
     "output_type": "execute_result"
    }
   ],
   "source": [
    "lg_mh.cost_"
   ]
  },
  {
   "cell_type": "code",
   "execution_count": 53,
   "metadata": {},
   "outputs": [
    {
     "data": {
      "text/plain": [
       "LogisticRegression(C=1.0, class_weight=None, dual=False, fit_intercept=True,\n",
       "                   intercept_scaling=1, l1_ratio=None, max_iter=100,\n",
       "                   multi_class='auto', n_jobs=None, penalty='l2',\n",
       "                   random_state=1, solver='lbfgs', tol=0.0001, verbose=0,\n",
       "                   warm_start=False)"
      ]
     },
     "execution_count": 53,
     "metadata": {},
     "output_type": "execute_result"
    }
   ],
   "source": [
    "from sklearn.linear_model import LogisticRegression\n",
    "\n",
    "# ロジスティック回帰のインスタンスを生成\n",
    "lr = LogisticRegression(random_state=1)\n",
    "\n",
    "# トレーニングデータをモデルに適合させる\n",
    "lr.fit(X_train_std, y_train)"
   ]
  },
  {
   "cell_type": "code",
   "execution_count": 55,
   "metadata": {},
   "outputs": [
    {
     "data": {
      "text/plain": [
       "array([2, 1, 0, 2, 0, 2, 0, 1, 1, 1, 1, 1, 1, 1, 1, 0, 1, 1, 0, 0, 2, 1,\n",
       "       0, 0, 2, 0, 0, 1, 1, 0, 2, 1, 0, 2, 2, 1, 0, 2, 1, 1, 2, 0, 2, 0,\n",
       "       0])"
      ]
     },
     "execution_count": 55,
     "metadata": {},
     "output_type": "execute_result"
    }
   ],
   "source": [
    "lr.predict(X_test_std)"
   ]
  },
  {
   "cell_type": "code",
   "execution_count": 56,
   "metadata": {},
   "outputs": [
    {
     "data": {
      "text/plain": [
       "array([1, 1, 1, 1, 1, 1, 1, 1, 1, 1, 1, 1, 1, 1, 1, 1, 1, 1, 1, 1, 1, 1,\n",
       "       1, 1, 1, 1, 1, 1, 1, 1, 1, 1, 1, 1, 1, 1, 1, 1, 1, 1, 1, 1, 1, 1,\n",
       "       1])"
      ]
     },
     "execution_count": 56,
     "metadata": {},
     "output_type": "execute_result"
    }
   ],
   "source": [
    "lg_mh.predict(X_test_std)"
   ]
  },
  {
   "cell_type": "code",
   "execution_count": null,
   "metadata": {},
   "outputs": [],
   "source": []
  }
 ],
 "metadata": {
  "kernelspec": {
   "display_name": "Python 3",
   "language": "python",
   "name": "python3"
  },
  "language_info": {
   "codemirror_mode": {
    "name": "ipython",
    "version": 3
   },
   "file_extension": ".py",
   "mimetype": "text/x-python",
   "name": "python",
   "nbconvert_exporter": "python",
   "pygments_lexer": "ipython3",
   "version": "3.7.6"
  }
 },
 "nbformat": 4,
 "nbformat_minor": 4
}
