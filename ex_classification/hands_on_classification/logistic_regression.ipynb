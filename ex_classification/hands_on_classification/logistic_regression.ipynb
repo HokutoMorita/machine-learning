{
 "cells": [
  {
   "cell_type": "markdown",
   "metadata": {},
   "source": [
    "# ロジスティック回帰分析"
   ]
  },
  {
   "cell_type": "code",
   "execution_count": 4,
   "metadata": {},
   "outputs": [],
   "source": [
    "import pandas as pd\n",
    "import numpy as np\n",
    "from matplotlib import pyplot as plt\n",
    "# ジュピターノートブック上でグラフを表示させるための処理\n",
    "%matplotlib inline\n",
    "\n",
    "from sklearn import datasets\n",
    "from sklearn.model_selection import train_test_split\n",
    "from sklearn.preprocessing import StandardScaler"
   ]
  },
  {
   "cell_type": "markdown",
   "metadata": {},
   "source": [
    "まずはサンプルが特定のクラスに属している確率を予測するシグモイド関数（ロジスティック関数）をプロットする。"
   ]
  },
  {
   "cell_type": "code",
   "execution_count": 2,
   "metadata": {},
   "outputs": [],
   "source": [
    "# シグモイド関数を定義\n",
    "def sigmoid(z):\n",
    "    return 1.0 / (1.0 + np.exp(-z))"
   ]
  },
  {
   "cell_type": "code",
   "execution_count": 3,
   "metadata": {},
   "outputs": [
    {
     "name": "stderr",
     "output_type": "stream",
     "text": [
      "findfont: Font family ['IPAexGothic'] not found. Falling back to DejaVu Sans.\n"
     ]
    },
    {
     "data": {
      "image/png": "[encoded data removed]",
      "text/plain": [
       "<Figure size 432x288 with 1 Axes>"
      ]
     },
     "metadata": {
      "needs_background": "light"
     },
     "output_type": "display_data"
    }
   ],
   "source": [
    "# 0.1間隔で-7以上7未満のデータを生成\n",
    "z = np.arange(-7, 7, 0.1)\n",
    "\n",
    "# 生成したデータでシグモイド関数を実行\n",
    "phi_z = sigmoid(z)\n",
    "\n",
    "# 元のデータとシグモイド関数の出力をプロット\n",
    "plt.plot(z, phi_z)\n",
    "\n",
    "# 垂直線の追加（z = 0）\n",
    "plt.axvline(0.0, color='k')\n",
    "\n",
    "# y軸の上限と下限を設定\n",
    "plt.ylim(-0.1, 1.1)\n",
    "\n",
    "# 軸のラベルを設定\n",
    "plt.xlabel('z')\n",
    "plt.ylabel('$\\phi (z)$')\n",
    "\n",
    "# y軸の目盛を追加\n",
    "plt.yticks([0.0, 0.5, 1.0])\n",
    "\n",
    "# Axesクラスのオブジェクトの取得\n",
    "ax = plt.gca()\n",
    "\n",
    "# y軸の目盛に合わせて水平グリッド線を追加\n",
    "ax.yaxis.grid(True)\n",
    "\n",
    "# グラフを表示\n",
    "plt.show()"
   ]
  },
  {
   "cell_type": "markdown",
   "metadata": {},
   "source": [
    "尤度L(ゆうど: 結果から見たところの条件のもっともらしさ)"
   ]
  },
  {
   "cell_type": "markdown",
   "metadata": {},
   "source": [
    "## Irisデータセットの取得と整形"
   ]
  },
  {
   "cell_type": "code",
   "execution_count": 8,
   "metadata": {},
   "outputs": [],
   "source": [
    "# Irisデータセットをロード\n",
    "iris = datasets.load_iris()\n",
    "\n",
    "# 3, 4列目の特徴量を抽出\n",
    "X = iris.data[:, [2, 3]]\n",
    "\n",
    "# クラスラベルを取得\n",
    "y = iris.target\n",
    "\n",
    "# トレーニングデータとテストデータに分割\n",
    "## 全体の30%をテストデータにする\n",
    "X_train, X_test, y_train, y_test = train_test_split(X, y, test_size=0.3, random_state=0)\n",
    "\n",
    "# Irisデータセットを標準化\n",
    "sc = StandardScaler()\n",
    "\n",
    "# トレーニングデータの平均と標準偏差を計算\n",
    "sc.fit(X_train)\n",
    "\n",
    "# 平均と標準偏差を用いて標準化\n",
    "X_train_std = sc.transform(X_train)\n",
    "X_test_std = sc.transform(X_test)"
   ]
  },
  {
   "cell_type": "markdown",
   "metadata": {},
   "source": [
    "## 2次元のデータセットの決定境界の可視化"
   ]
  },
  {
   "cell_type": "code",
   "execution_count": 9,
   "metadata": {},
   "outputs": [],
   "source": [
    "# 色のリストからカラーマップを作成するためにListedColormapをインポート\n",
    "from matplotlib.colors import ListedColormap\n",
    "\n",
    "def plot_decision_regions(X, y, classifier, test_idx=None, resolution=0.02):\n",
    "    # マーカーとカラーマップの準備\n",
    "    markers = ('s', 'x', 'o', '^', 'v')\n",
    "    colors = ('red', 'blue', 'lightgreen', 'gray', 'cyan')\n",
    "    cmap = ListedColormap(colors[:len(np.unique(y))])\n",
    "    \n",
    "    # 決定領域のプロット\n",
    "    x1_min, x1_max = X[:, 0].min() - 1, X[:, 0].max() + 1\n",
    "    x2_min, x2_max = X[:, 1].min() - 1, X[:, 1].max() + 1\n",
    "    # グリッドポイントの生成\n",
    "    ## meshgrid関数を使用し、Irisデータセットと同じ個数の列を持つ行列を作成\n",
    "    xx1, xx2 = np.meshgrid(np.arange(x1_min, x1_max, resolution), \n",
    "                                              np.arange(x2_min, x2_max, resolution))\n",
    "    \n",
    "   # 各特徴量を1次元配列に変換して予測を実行 \n",
    "    Z = classifier.predict(np.array([xx1.ravel(), xx2.ravel()]).T)\n",
    "    \n",
    "    # 予測結果を元のグリッドポイントのデータサイズに変換\n",
    "    Z = Z.reshape(xx1.shape)\n",
    "    \n",
    "    # グリッドポイントの等高線のプロット\n",
    "    ## グリッド配列内の予測されたクラスごとに、決定領域をそれぞれ異なる色にマッピングする。\n",
    "    plt.contourf(xx1, xx2, Z, alpha=0.4, cmap=cmap)\n",
    "    \n",
    "    # 軸の範囲の設定\n",
    "    plt.xlim(xx1.min(), xx1.max())\n",
    "    plt.ylim(xx2.min(), xx2.max())\n",
    "    \n",
    "    # クラスごとにサンプルをプロット\n",
    "    for idx, cl in enumerate(np.unique(y)):\n",
    "        plt.scatter(x=X[y == cl, 0], y=X[y == cl, 1], alpha=0.8, c=cmap(idx), marker=markers[idx], label=cl)\n",
    "    \n",
    "    # テストサンプルを目立たせる（点をoで表示）\n",
    "    if test_idx:\n",
    "        X_test, y_test, = X[test_idx, :], y[test_idx]\n",
    "        plt.scatter(X_test[:, 0], X_test[:, 1], c='', alpha=1.0, linewidths=1, marker='o', s=55, label='test set')"
   ]
  },
  {
   "cell_type": "code",
   "execution_count": 10,
   "metadata": {},
   "outputs": [],
   "source": [
    "# トレーニングデータとテストデータの特徴量の行方向に結合\n",
    "X_combined_std = np.vstack((X_train_std, X_test_std))\n",
    "\n",
    "# トレーニングデータとテストデータのクラスラベルを結合\n",
    "y_combined = np.hstack((y_train, y_test))"
   ]
  },
  {
   "cell_type": "markdown",
   "metadata": {},
   "source": [
    "## scikit-learnによるロジスティック回帰モデルのトレーニング"
   ]
  },
  {
   "cell_type": "code",
   "execution_count": 12,
   "metadata": {},
   "outputs": [
    {
     "name": "stderr",
     "output_type": "stream",
     "text": [
      "/opt/anaconda3/lib/python3.7/site-packages/sklearn/linear_model/logistic.py:432: FutureWarning: Default solver will be changed to 'lbfgs' in 0.22. Specify a solver to silence this warning.\n",
      "  FutureWarning)\n",
      "/opt/anaconda3/lib/python3.7/site-packages/sklearn/linear_model/logistic.py:469: FutureWarning: Default multi_class will be changed to 'auto' in 0.22. Specify the multi_class option to silence this warning.\n",
      "  \"this warning.\", FutureWarning)\n",
      "'c' argument looks like a single numeric RGB or RGBA sequence, which should be avoided as value-mapping will have precedence in case its length matches with 'x' & 'y'.  Please use a 2-D array with a single row if you really want to specify the same RGB or RGBA value for all points.\n",
      "'c' argument looks like a single numeric RGB or RGBA sequence, which should be avoided as value-mapping will have precedence in case its length matches with 'x' & 'y'.  Please use a 2-D array with a single row if you really want to specify the same RGB or RGBA value for all points.\n",
      "'c' argument looks like a single numeric RGB or RGBA sequence, which should be avoided as value-mapping will have precedence in case its length matches with 'x' & 'y'.  Please use a 2-D array with a single row if you really want to specify the same RGB or RGBA value for all points.\n"
     ]
    },
    {
     "data": {
      "image/png": "[encoded data removed]",
      "text/plain": [
       "<Figure size 432x288 with 1 Axes>"
      ]
     },
     "metadata": {
      "needs_background": "light"
     },
     "output_type": "display_data"
    }
   ],
   "source": [
    "from sklearn.linear_model import LogisticRegression\n",
    "\n",
    "# ロジスティック回帰のインスタンスを生成\n",
    "lr = LogisticRegression(C=1000.0, random_state=0)\n",
    "\n",
    "# トレーニングデータをモデルに適合させる\n",
    "lr.fit(X_train_std, y_train)\n",
    "\n",
    "# 決定境界をプロット\n",
    "#plot_decision_regions(X_combined_std, y_combined, classifier=lr, test_idx=range(105, 150))\n",
    "plot_decision_regions(X_combined_std, y_combined, classifier=lr)\n",
    "\n",
    "# 軸のラベルを設定\n",
    "plt.xlabel('petal length [standardized]')\n",
    "plt.ylabel('petal width [standardized]')\n",
    "\n",
    "# 凡例を設定（左上に配置）\n",
    "plt.legend(loc='upper left')\n",
    "\n",
    "# グラフを表示\n",
    "plt.show()"
   ]
  },
  {
   "cell_type": "markdown",
   "metadata": {},
   "source": [
    "### 次にpredict_probaメソッドを使ってサンプルの所属関係の確率を予測する"
   ]
  },
  {
   "cell_type": "code",
   "execution_count": 22,
   "metadata": {},
   "outputs": [
    {
     "data": {
      "text/plain": [
       "array([[1.78177322e-11, 6.12453348e-02, 9.38754665e-01],\n",
       "       [6.52443574e-04, 9.99242776e-01, 1.04780543e-04],\n",
       "       [8.15905531e-01, 1.84094469e-01, 6.46700211e-14],\n",
       "       [1.77343552e-11, 4.15366939e-01, 5.84633061e-01],\n",
       "       [7.98915241e-01, 2.01084759e-01, 1.07274231e-13],\n",
       "       [1.86631492e-13, 1.36009899e-01, 8.63990101e-01],\n",
       "       [8.64521291e-01, 1.35478709e-01, 9.26434600e-14],\n",
       "       [5.04386467e-07, 7.62276348e-01, 2.37723147e-01],\n",
       "       [6.99143083e-07, 8.44028823e-01, 1.55970478e-01],\n",
       "       [8.12729858e-05, 9.97738935e-01, 2.17979244e-03],\n",
       "       [1.02534042e-08, 4.63696185e-01, 5.36303804e-01],\n",
       "       [1.55343778e-06, 8.75637634e-01, 1.24360813e-01],\n",
       "       [5.68497788e-06, 9.81998082e-01, 1.79962332e-02],\n",
       "       [8.91851015e-07, 8.25082649e-01, 1.74916459e-01],\n",
       "       [1.18711224e-06, 8.91117525e-01, 1.08881288e-01],\n",
       "       [7.79083776e-01, 2.20916224e-01, 2.69623805e-14],\n",
       "       [1.55343778e-06, 8.75637634e-01, 1.24360813e-01],\n",
       "       [2.31484148e-05, 9.95392403e-01, 4.58444816e-03],\n",
       "       [8.49883095e-01, 1.50116905e-01, 1.54290980e-13],\n",
       "       [8.92571238e-01, 1.07428762e-01, 2.19094142e-13],\n",
       "       [1.27014365e-09, 1.36053981e-01, 8.63946017e-01],\n",
       "       [1.55343778e-06, 8.75637634e-01, 1.24360813e-01],\n",
       "       [7.27761400e-01, 2.72238600e-01, 8.05099039e-13],\n",
       "       [8.15905531e-01, 1.84094469e-01, 6.46700211e-14],\n",
       "       [1.27564051e-08, 2.32130255e-01, 7.67869733e-01],\n",
       "       [8.76445731e-01, 1.23554269e-01, 8.43535453e-15],\n",
       "       [8.03010141e-01, 1.96989859e-01, 4.67272333e-12],\n",
       "       [1.83508971e-05, 9.92064087e-01, 7.91756246e-03],\n",
       "       [1.92914322e-02, 9.80703828e-01, 4.73953671e-06],\n",
       "       [8.51796583e-01, 1.48203417e-01, 1.01715074e-12],\n",
       "       [5.19727981e-10, 3.06324602e-01, 6.93675398e-01],\n",
       "       [1.55343778e-06, 8.75637634e-01, 1.24360813e-01],\n",
       "       [7.98915241e-01, 2.01084759e-01, 1.07274231e-13],\n",
       "       [7.62983320e-09, 2.31115990e-01, 7.68884003e-01],\n",
       "       [1.23068080e-11, 1.72714088e-01, 8.27285912e-01],\n",
       "       [7.04421699e-05, 9.95811211e-01, 4.11834651e-03],\n",
       "       [8.01148607e-01, 1.98851393e-01, 7.07350640e-13],\n",
       "       [1.82337090e-08, 3.83600804e-01, 6.16399178e-01],\n",
       "       [7.72748834e-06, 9.60209051e-01, 3.97832218e-02],\n",
       "       [1.59324343e-04, 9.99064638e-01, 7.76037184e-04],\n",
       "       [4.31630843e-11, 1.91641972e-01, 8.08358028e-01],\n",
       "       [8.32263533e-01, 1.67736467e-01, 3.89401991e-14],\n",
       "       [4.20406602e-11, 7.97478369e-02, 9.20252163e-01],\n",
       "       [9.06651854e-01, 9.33481456e-02, 5.70698808e-12],\n",
       "       [7.98915241e-01, 2.01084759e-01, 1.07274231e-13]])"
      ]
     },
     "execution_count": 22,
     "metadata": {},
     "output_type": "execute_result"
    }
   ],
   "source": [
    "# Iris-Setosaの先頭にあるサンプルの確率を予測\n",
    "lr.predict_proba(X_test_std)"
   ]
  },
  {
   "cell_type": "code",
   "execution_count": null,
   "metadata": {},
   "outputs": [],
   "source": []
  }
 ],
 "metadata": {
  "kernelspec": {
   "display_name": "Python 3",
   "language": "python",
   "name": "python3"
  },
  "language_info": {
   "codemirror_mode": {
    "name": "ipython",
    "version": 3
   },
   "file_extension": ".py",
   "mimetype": "text/x-python",
   "name": "python",
   "nbconvert_exporter": "python",
   "pygments_lexer": "ipython3",
   "version": "3.7.4"
  }
 },
 "nbformat": 4,
 "nbformat_minor": 2
}
