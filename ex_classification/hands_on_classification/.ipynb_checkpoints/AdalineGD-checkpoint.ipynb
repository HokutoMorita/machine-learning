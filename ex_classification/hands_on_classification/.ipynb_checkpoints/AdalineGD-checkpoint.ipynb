{
 "cells": [
  {
   "cell_type": "code",
   "execution_count": 1,
   "metadata": {},
   "outputs": [],
   "source": [
    "import pandas as pd\n",
    "import numpy as np\n",
    "from matplotlib import pyplot as plt\n",
    "# ジュピターノートブック上でグラフを表示させるための処理\n",
    "%matplotlib inline"
   ]
  },
  {
   "cell_type": "markdown",
   "metadata": {},
   "source": [
    "## ADALINEアルゴリズムを使用するためのインターフェースの作成"
   ]
  },
  {
   "cell_type": "code",
   "execution_count": 3,
   "metadata": {},
   "outputs": [],
   "source": [
    "class AdalineGD(object):\n",
    "    \"\"\"\n",
    "    ADAptive LInear NEuronの分類器\n",
    "    \n",
    "    パラメータ:\n",
    "      eta: float\n",
    "             学習率（0.0より大きく1.0以下の値）\n",
    "             \n",
    "      n_iter: int\n",
    "                  トレーニングデータのトレーニング回数\n",
    "    \n",
    "    属性:\n",
    "      w_: 1次元配列\n",
    "             適合後の重み\n",
    "             \n",
    "      errors_: リスト\n",
    "                     各エポックでの誤分類数\n",
    "    \"\"\"\n",
    "    \n",
    "    def __init__(self, eta=0.01, n_iter=50):\n",
    "        self.eta = eta\n",
    "        self.n_iter = n_iter\n",
    "        \n",
    "    def fit(self, X, y):\n",
    "        \"\"\"\n",
    "        トレーニングデータに適合させる\n",
    "        \n",
    "        パラメータ:\n",
    "          X: {配列のようなデータ構造}, shape = [n_samples, n_features]\n",
    "              トレーニングデータ\n",
    "              n_samplesはサンプルの個数\n",
    "              n_featuresは特徴量の個数\n",
    "          \n",
    "          y: 配列のようなデータ構造, shape = [n_samples]\n",
    "              目的変数\n",
    "        \n",
    "        戻り値:\n",
    "          self: object\n",
    "        \"\"\"\n",
    "        \n",
    "        # 1 + X.shape[1]の長さの配列を各要素の初期値を0で作成\n",
    "        self.w_ = np.zeros(1 + X.shape[1])\n",
    "        self.cost_ = []\n",
    "        \n",
    "        # トレーニング回数分トレーニングデータを反復\n",
    "        for i in range(self.n_iter):\n",
    "            # 活性化関数の出力の計算 φ(wTx) = xTx\n",
    "            output = self.net_input(X)\n",
    "            \n",
    "            # 誤差 y(i) - φ(z(i))の計算\n",
    "            errors = (y - output)\n",
    "            \n",
    "            # w1, ... , wmの更新\n",
    "            ## Δwj = ηΣ(y(i) - φ(z(i)))xj(i) {j = 1, ... , m}\n",
    "            self.w_[1:] += self.eta * X.T.dot(errors)\n",
    "            \n",
    "            # w0の更新 Δw0 = ηΣ(y(i) - φ(z(i)))\n",
    "            self.w_[0] += self.eta * errors.sum()\n",
    "            \n",
    "            # コスト関数の計算 j(w) = 1/2 * Σ(y(i) - φ(z(i)))^2\n",
    "            cost = (errors**2).sum() / 2.0\n",
    "            \n",
    "            # コストの格納（学習数（エポック数）によりコストがどのように変動するかを把握するため）\n",
    "            self.cost_.append(cost)\n",
    "            \n",
    "        return self\n",
    "    \n",
    "    def net_input(self, X):\n",
    "        \"\"\"\n",
    "        総入力を計算\n",
    "        \"\"\"\n",
    "        return np.dot(X, self.w_[1:]) + self.w_[0]\n",
    "\n",
    "    def activation(self, X):\n",
    "        \"\"\"\n",
    "        線形活性化関数の出力を計算\n",
    "        \"\"\"\n",
    "        return self.net_input(X)\n",
    "\n",
    "    def predict(self, X):\n",
    "        \"\"\"\n",
    "        1ステップ後のクラスラベルを返す\n",
    "        \"\"\"\n",
    "        # 三項演算子の計算をしている\n",
    "        return np.where(self.activation(X) >= 0.0, 1, -1)"
   ]
  },
  {
   "cell_type": "markdown",
   "metadata": {},
   "source": [
    "⬆︎ADALINEはパーセプトロンのように、個々のトレーニングサンプルを評価した後に重みを更新するのではなく、トレーニングデータセット全体を用いて勾配を計算する"
   ]
  },
  {
   "cell_type": "markdown",
   "metadata": {},
   "source": [
    "## 2次元のデータセットの決定境界の可視化"
   ]
  },
  {
   "cell_type": "code",
   "execution_count": 24,
   "metadata": {},
   "outputs": [],
   "source": [
    "# 色のリストからカラーマップを作成するためにListedColormapをインポート\n",
    "from matplotlib.colors import ListedColormap\n",
    "\n",
    "def plot_decision_regions(X, y, classifier, resolution=0.02):\n",
    "    # マーカーとカラーマップの準備\n",
    "    markers = ('s', 'x', 'o', '^', 'v')\n",
    "    colors = ('red', 'blue', 'lightgreen', 'gray', 'cyan')\n",
    "    cmap = ListedColormap(colors[:len(np.unique(y))])\n",
    "    \n",
    "    # 決定領域のプロット\n",
    "    x1_min, x1_max = X[:, 0].min() - 1, X[:, 0].max() + 1\n",
    "    x2_min, x2_max = X[:, 1].min() - 1, X[:, 1].max() + 1\n",
    "    # グリッドポイントの生成\n",
    "    ## meshgrid関数を使用し、Irisデータセットと同じ個数の列を持つ行列を作成\n",
    "    xx1, xx2 = np.meshgrid(np.arange(x1_min, x1_max, resolution), \n",
    "                                              np.arange(x2_min, x2_max, resolution))\n",
    "    \n",
    "   # 各特徴量を1次元配列に変換して予測を実行 \n",
    "    Z = classifier.predict(np.array([xx1.ravel(), xx2.ravel()]).T)\n",
    "    \n",
    "    # 予測結果を元のグリッドポイントのデータサイズに変換\n",
    "    Z = Z.reshape(xx1.shape)\n",
    "    \n",
    "    # グリッドポイントの等高線のプロット\n",
    "    ## グリッド配列内の予測されたクラスごとに、決定領域をそれぞれ異なる色にマッピングする。\n",
    "    plt.contourf(xx1, xx2, Z, alpha=0.4, cmap=cmap)\n",
    "    \n",
    "    # 軸の範囲の設定\n",
    "    plt.xlim(xx1.min(), xx1.max())\n",
    "    plt.ylim(xx2.min(), xx2.max())\n",
    "    \n",
    "    # クラスごとにサンプルをプロット\n",
    "    for idx, cl in enumerate(np.unique(y)):\n",
    "        plt.scatter(x=X[y == cl, 0], y=X[y == cl, 1], alpha=0.8, c=cmap(idx), marker=markers[idx], label=cl)"
   ]
  },
  {
   "cell_type": "markdown",
   "metadata": {},
   "source": [
    "## Irisデータセットの読み込みと整形"
   ]
  },
  {
   "cell_type": "code",
   "execution_count": 4,
   "metadata": {},
   "outputs": [
    {
     "name": "stderr",
     "output_type": "stream",
     "text": [
      "findfont: Font family ['IPAexGothic'] not found. Falling back to DejaVu Sans.\n"
     ]
    },
    {
     "data": {
      "image/png": "[encoded data removed]",
      "text/plain": [
       "<Figure size 432x288 with 1 Axes>"
      ]
     },
     "metadata": {
      "needs_background": "light"
     },
     "output_type": "display_data"
    }
   ],
   "source": [
    "# Irisデータセットの読み込み\n",
    "df = pd.read_csv('http://archive.ics.uci.edu/ml/machine-learning-databases/iris/iris.data', header=None)\n",
    "\n",
    "# 1-100行目の目的変数の抽出\n",
    "y = df.iloc[0:100, 4].values\n",
    "\n",
    "# Iris-setosaを-1、Iris-virginicaを1に変換\n",
    "## Iris-setosaの場合は-1に、それ以外は1に設定する。\n",
    "y = np.where(y == 'Iris-setosa', -1, 1)\n",
    "\n",
    "# 1-100行目の1, 3列目を特徴として抽出\n",
    "X = df.iloc[0:100, [0, 2]].values\n",
    "\n",
    "# 品種setosaのプロット（赤の◯）\n",
    "plt.scatter(X[:50, 0], X[:50, 1], color='red', marker='o', label='setosa')\n",
    "# 品種versicolorのプロット（青の×）\n",
    "plt.scatter(X[50:100, 0], X[50:100, 1], color='blue', marker='x', label='versicolor')\n",
    "\n",
    "# 軸のラベルの設定\n",
    "plt.xlabel('sepal length [cm]')\n",
    "plt.ylabel('petal length [cm]')\n",
    "\n",
    "# 凡例の設定（左上に配置）\n",
    "plt.legend(loc='upper left')\n",
    "\n",
    "# 図の表示\n",
    "plt.show()"
   ]
  },
  {
   "cell_type": "markdown",
   "metadata": {},
   "source": [
    "## 二つの学習率を用いて学習させて、エポック数に対するコストをプロット"
   ]
  },
  {
   "cell_type": "code",
   "execution_count": 18,
   "metadata": {},
   "outputs": [
    {
     "ename": "SyntaxError",
     "evalue": "positional argument follows keyword argument (<ipython-input-18-6e89553efafa>, line 2)",
     "output_type": "error",
     "traceback": [
      "\u001b[0;36m  File \u001b[0;32m\"<ipython-input-18-6e89553efafa>\"\u001b[0;36m, line \u001b[0;32m2\u001b[0m\n\u001b[0;31m    plt.subplots(nrows=1, ncols=2, figsize(8, 4))\u001b[0m\n\u001b[0m                                  ^\u001b[0m\n\u001b[0;31mSyntaxError\u001b[0m\u001b[0;31m:\u001b[0m positional argument follows keyword argument\n"
     ]
    }
   ],
   "source": [
    "#plt.subplots(nrows=1, ncols=2, figsize(8, 4))\n",
    "#plt.subplots(nrows=1, ncols=2, figsize(8, 4))"
   ]
  },
  {
   "cell_type": "code",
   "execution_count": 21,
   "metadata": {},
   "outputs": [
    {
     "data": {
      "image/png": "[encoded data removed]",
      "text/plain": [
       "<Figure size 432x288 with 2 Axes>"
      ]
     },
     "metadata": {
      "needs_background": "light"
     },
     "output_type": "display_data"
    }
   ],
   "source": [
    "# 描画領域を1行2列に分割\n",
    "fig, ax = plt.subplots(nrows=1, ncols=2)\n",
    "\n",
    "# 勾配降下法によるADALINEの学習（学習率 eta = 0.01）\n",
    "ada1 = AdalineGD(n_iter=10, eta=0.01)\n",
    "ada1.fit(X, y)\n",
    "\n",
    "# エポック数とコストの関係を表す折れ線グラフのプロット（縦軸のコストは常用対数）\n",
    "ax[0].plot(range(1, len(ada1.cost_) + 1), np.log10(ada1.cost_), marker='o')\n",
    "\n",
    "# 軸のラベルの設定\n",
    "ax[0].set_xlabel('Epochs')\n",
    "ax[0].set_ylabel('log(Sum-squared-error)')\n",
    "\n",
    "# タイトルの設定\n",
    "ax[0].set_title('Adaline - Learning rate 0.01')\n",
    "\n",
    "###########################\n",
    "\n",
    "# 勾配降下法によるADALINEの学習（学習率 eta = 0.0001）\n",
    "ada2 = AdalineGD(n_iter=10, eta=0.0001)\n",
    "ada2.fit(X, y)\n",
    "\n",
    "# エポック数とコストの関係を表す折れ線グラフのプロット\n",
    "ax[1].plot(range(1, len(ada2.cost_) + 1), ada2.cost_, marker='o')\n",
    "\n",
    "# 軸のラベルの設定\n",
    "ax[1].set_xlabel('Epochs')\n",
    "ax[1].set_ylabel('Sum-squared-error')\n",
    "\n",
    "# タイトルの設定\n",
    "ax[1].set_title('Adaline - Learning rate 0.0001')\n",
    "\n",
    "# 図の表示\n",
    "plt.show()"
   ]
  },
  {
   "cell_type": "markdown",
   "metadata": {},
   "source": [
    "⬆︎\\\n",
    "左側のグラフは選択した学習率が非常に大きく大局的最小値を超えてしまうため、コスト関数を最小化するどころか、エポックごとに誤差平方和が増えている。\n",
    "\n",
    "右側のグラフはコストが減少することがわかるが、選択された学習率η=0.0001は非常に小さいため、アルゴリズムを収束させるには、相当な数のエポック数が必要になる。"
   ]
  },
  {
   "cell_type": "markdown",
   "metadata": {},
   "source": [
    "## スケーリング手法の一つである標準化（standardization）を行う"
   ]
  },
  {
   "cell_type": "markdown",
   "metadata": {},
   "source": [
    "標準化とは、データに標準正規分布の特性を与えることである。\n",
    "- その特性とは、各特徴量の平均を0とし、標準偏差を1にするというものである。\n",
    "\n",
    "例えば、j番目の特徴量を標準化するには、サンプルの平均μiをすべてのトレーニングサンプルから引き、標準偏差ρjで割ればよい。\n",
    "- x'j = (xj - μj) / ρj\n",
    "\n",
    "この場合、xjはすべてのトレーニングサンプルのj番目の特徴量の値からなるベクトルである。\n",
    "\n",
    "標準化はnumpyの平均値を求めるmeanメソッドと標準偏差を求めるstdメソッドを利用すれば簡単に実現できる。"
   ]
  },
  {
   "cell_type": "code",
   "execution_count": 22,
   "metadata": {},
   "outputs": [],
   "source": [
    "# データのコピー\n",
    "X_std = np.copy(X)\n",
    "# 各列の標準化\n",
    "X_std[:, 0] = (X[:, 0] - X[:, 0].mean()) / X[:, 0].std()\n",
    "X_std[:, 1] = (X[:, 1] - X[:, 1].mean()) / X[:, 1].std()"
   ]
  },
  {
   "cell_type": "markdown",
   "metadata": {},
   "source": [
    "## 標準化後に再び学習させる"
   ]
  },
  {
   "cell_type": "code",
   "execution_count": 25,
   "metadata": {},
   "outputs": [
    {
     "name": "stderr",
     "output_type": "stream",
     "text": [
      "'c' argument looks like a single numeric RGB or RGBA sequence, which should be avoided as value-mapping will have precedence in case its length matches with 'x' & 'y'.  Please use a 2-D array with a single row if you really want to specify the same RGB or RGBA value for all points.\n",
      "'c' argument looks like a single numeric RGB or RGBA sequence, which should be avoided as value-mapping will have precedence in case its length matches with 'x' & 'y'.  Please use a 2-D array with a single row if you really want to specify the same RGB or RGBA value for all points.\n"
     ]
    },
    {
     "data": {
      "image/png": "[encoded data removed]",
      "text/plain": [
       "<Figure size 432x288 with 1 Axes>"
      ]
     },
     "metadata": {
      "needs_background": "light"
     },
     "output_type": "display_data"
    },
    {
     "data": {
      "image/png": "[encoded data removed]",
      "text/plain": [
       "<Figure size 432x288 with 1 Axes>"
      ]
     },
     "metadata": {
      "needs_background": "light"
     },
     "output_type": "display_data"
    }
   ],
   "source": [
    "# 勾配降下法によるADALINEの学習（標準化後の学習率 eta=0.01）\n",
    "ada = AdalineGD(n_iter=15, eta=0.01)\n",
    "\n",
    "# モデルの適合\n",
    "ada.fit(X_std, y)\n",
    "\n",
    "# 境界領域のプロット\n",
    "plot_decision_regions(X_std, y, classifier=ada)\n",
    "\n",
    "# タイトルの設定\n",
    "plt.title('Adaline - Gradient Descent')\n",
    "\n",
    "# 軸のラベルの設定\n",
    "plt.xlabel('sepal length [standardized]')\n",
    "plt.ylabel('petal length [standardized]')\n",
    "\n",
    "# 凡例の設定（左上に配置）\n",
    "plt.legend(loc='upper left')\n",
    "\n",
    "# 図の表示\n",
    "plt.show()\n",
    "\n",
    "# エポック数とコストの関係を表す折れ線グラフのプロット\n",
    "plt.plot(range(1, len(ada.cost_) + 1), ada.cost_, marker='o')\n",
    "\n",
    "# 軸のラベルの設定\n",
    "plt.xlabel('Epochs')\n",
    "plt.ylabel('Sum-squared-error')\n",
    "\n",
    "# 図の表示\n",
    "plt.show()"
   ]
  },
  {
   "cell_type": "markdown",
   "metadata": {},
   "source": [
    "⬆︎標準化された特徴量を学習率η=00.1でトレーニングした結果は標準化する前の結果と比べて、少ないエポック数で収束していることがわかる。"
   ]
  },
  {
   "cell_type": "markdown",
   "metadata": {},
   "source": [
    "## 確率的勾配降下法を用いたADALINEアルゴリズムを使用するためのインターフェースの作成"
   ]
  },
  {
   "cell_type": "code",
   "execution_count": 28,
   "metadata": {},
   "outputs": [],
   "source": [
    "class AdalineSGD(object):\n",
    "    \"\"\"\n",
    "    確率的勾配降下法を用いたADAptive LInear NEuronの分類器\n",
    "    \n",
    "    パラメータ:\n",
    "      eta: float\n",
    "             学習率（0.0より大きく1.0以下の値）\n",
    "             \n",
    "      n_iter: int\n",
    "                  トレーニングデータのトレーニング回数\n",
    "    \n",
    "    属性:\n",
    "      w_: 1次元配列\n",
    "             適合後の重み\n",
    "             \n",
    "      errors_: リスト\n",
    "                     各エポックでの誤分類数\n",
    "                     \n",
    "      shuffle: bool（デフォルト: True）\n",
    "                    循環を回避するために各エポックでトレーニングデータをシャッフル\n",
    "      \n",
    "      random_state: int（デフォルト: None）\n",
    "                                シャッフルに使用するランダムステートを設定し、重みを初期化\n",
    "    \"\"\"\n",
    "    \n",
    "    def __init__(self, eta=0.01, n_iter=10, shuffle=True, random_state=None):\n",
    "        # 学習率の初期化\n",
    "        self.eta = eta\n",
    "        \n",
    "        # トレーニング回数の初期化\n",
    "        self.n_iter = n_iter\n",
    "        \n",
    "        # 重みの初期化フラグはFalseに設定\n",
    "        self.w_initialized = False\n",
    "        \n",
    "        # 各エポックでトレーニングデータをシャッフルするかどうかのフラグを初期化\n",
    "        self.shuffle = shuffle\n",
    "        \n",
    "        # 引数 random_stateが指定された場合は乱数種を設定\n",
    "        if random_state:\n",
    "            np.random.seed(random_state)\n",
    "        \n",
    "    def fit(self, X, y):\n",
    "        \"\"\"\n",
    "        トレーニングデータに適合させる\n",
    "        \n",
    "        パラメータ:\n",
    "          X: {配列のようなデータ構造}, shape = [n_samples, n_features]\n",
    "              トレーニングデータ\n",
    "              n_samplesはサンプルの個数\n",
    "              n_featuresは特徴量の個数\n",
    "          \n",
    "          y: 配列のようなデータ構造, shape = [n_samples]\n",
    "              目的変数\n",
    "        \n",
    "        戻り値:\n",
    "          self: object\n",
    "        \"\"\"\n",
    "        # 重みベクトルの生成\n",
    "        self._initialize_weights(X.shape[1])\n",
    "        \n",
    "        # コストを格納するリストの生成\n",
    "        self.cost_ = []\n",
    "        \n",
    "        # トレーニング回数分トレーニングデータを反復\n",
    "        for i in range(self.n_iter):\n",
    "            # 指定された場合はトレーニングデータをシャッフル\n",
    "            if self.shuffle:\n",
    "                X, y = self._shuffle(X, y)\n",
    "            \n",
    "            # 各サンプルのコストを格納するリストの作成\n",
    "            cost = []\n",
    "            \n",
    "            # 各サンプルに対する計算\n",
    "            for xi, target in zip(X, y):\n",
    "                # 特徴量xiと目的変数yを用いた重みの更新とコストの計算\n",
    "                cost.append(self._update_weights(xi, target))\n",
    "                \n",
    "            # サンプルの平均コストの計算\n",
    "            avg_cost = sum(cost) / len(y)\n",
    "            \n",
    "            # 平均コストを格納\n",
    "            self.cost_.append(avg_cost)\n",
    "            \n",
    "        return self\n",
    "    \n",
    "    def partial_fit(self, X, y):\n",
    "        \"\"\"\n",
    "        重みを再初期化することなくトレーニングデータに適合させる\n",
    "        \"\"\"\n",
    "        # 初期化されていない場合は初期化を実行\n",
    "        if not self.w_initialized:\n",
    "            self._initialize_weights(X.shape[1])\n",
    "        \n",
    "        # 目的変数yの要素数が2以上の場合は各サンプルの特徴量xiと目的変数targetで重みを更新\n",
    "        if y.ravel().shape[0] > 1:\n",
    "            for xi, target in zip(X, y):\n",
    "                self._update_weights(xi, target)\n",
    "        \n",
    "        # 目的変数yの要素数が1の場合はサンプル全体の特徴量Xと目的変数yで重みを更新\n",
    "        else:\n",
    "            self._update_weights(X, y)\n",
    "        \n",
    "        return self\n",
    "    \n",
    "    def _shuffle(self, X, y):\n",
    "        \"\"\"\n",
    "        トレーニングデータをシャッフル\n",
    "        \"\"\"\n",
    "        r = np.random.permutation(len(y))\n",
    "        return X[r], y[r]\n",
    "    \n",
    "    def _initialize_weights(self, m):\n",
    "        \"\"\"\n",
    "        重みを0に初期化\n",
    "        \"\"\"\n",
    "        self.w_ = np.zeros(1 + m)\n",
    "        self.w_initialized = True\n",
    "    \n",
    "    def _update_weights(self, xi, target):\n",
    "        \"\"\"\n",
    "        ADALINEの学習規則を用いて重みを更新\n",
    "        \"\"\"\n",
    "        # 活性化関数の出力の計算\n",
    "        output = self.net_input(xi)\n",
    "        \n",
    "        # 誤差の計算\n",
    "        error = (target - output)\n",
    "        \n",
    "        # 重みw1, ... , wmの更新\n",
    "        self.w_[1:] += self.eta * xi.dot(error)\n",
    "        \n",
    "        # 重みw0の更新\n",
    "        self.w_[0] += self.eta * error\n",
    "        \n",
    "        # コストの計算\n",
    "        cost = 0.5 * error**2\n",
    "        \n",
    "        return cost\n",
    "    \n",
    "    def net_input(self, X):\n",
    "        \"\"\"\n",
    "        総入力を計算\n",
    "        \"\"\"\n",
    "        return np.dot(X, self.w_[1:]) + self.w_[0]\n",
    "\n",
    "    def activation(self, X):\n",
    "        \"\"\"\n",
    "        線形活性化関数の出力を計算\n",
    "        \"\"\"\n",
    "        return self.net_input(X)\n",
    "\n",
    "    def predict(self, X):\n",
    "        \"\"\"\n",
    "        1ステップ後のクラスラベルを返す\n",
    "        \"\"\"\n",
    "        # 三項演算子の計算をしている\n",
    "        return np.where(self.activation(X) >= 0.0, 1, -1)"
   ]
  },
  {
   "cell_type": "markdown",
   "metadata": {},
   "source": [
    "⬆︎_shuffleメソッドは、numpy.randomのpermutation関数を使って0以上99以下で重複のない整数の乱数からなる順列を生成する。この乱数は、特徴行列とクラスラベルベクトルをシャッフルするためのインデックスとして使用する。"
   ]
  },
  {
   "cell_type": "markdown",
   "metadata": {},
   "source": [
    "### AdalineSGD分類器のトレーニング結果をplot_decision_regions関数を使ってプロット"
   ]
  },
  {
   "cell_type": "code",
   "execution_count": 29,
   "metadata": {},
   "outputs": [
    {
     "ename": "NameError",
     "evalue": "name 'selt' is not defined",
     "output_type": "error",
     "traceback": [
      "\u001b[0;31m---------------------------------------------------------------------------\u001b[0m",
      "\u001b[0;31mNameError\u001b[0m                                 Traceback (most recent call last)",
      "\u001b[0;32m<ipython-input-29-f8cd0ece4848>\u001b[0m in \u001b[0;36m<module>\u001b[0;34m\u001b[0m\n\u001b[1;32m      4\u001b[0m \u001b[0;34m\u001b[0m\u001b[0m\n\u001b[1;32m      5\u001b[0m \u001b[0;31m# モデルへの適合\u001b[0m\u001b[0;34m\u001b[0m\u001b[0;34m\u001b[0m\u001b[0;34m\u001b[0m\u001b[0m\n\u001b[0;32m----> 6\u001b[0;31m \u001b[0madaSGD\u001b[0m\u001b[0;34m.\u001b[0m\u001b[0mfit\u001b[0m\u001b[0;34m(\u001b[0m\u001b[0mX_std\u001b[0m\u001b[0;34m,\u001b[0m \u001b[0my\u001b[0m\u001b[0;34m)\u001b[0m\u001b[0;34m\u001b[0m\u001b[0;34m\u001b[0m\u001b[0m\n\u001b[0m\u001b[1;32m      7\u001b[0m \u001b[0;34m\u001b[0m\u001b[0m\n\u001b[1;32m      8\u001b[0m \u001b[0;31m# 境界領域のプロット\u001b[0m\u001b[0;34m\u001b[0m\u001b[0;34m\u001b[0m\u001b[0;34m\u001b[0m\u001b[0m\n",
      "\u001b[0;32m<ipython-input-28-7d0bb9cd8a8e>\u001b[0m in \u001b[0;36mfit\u001b[0;34m(self, X, y)\u001b[0m\n\u001b[1;32m     75\u001b[0m             \u001b[0;32mfor\u001b[0m \u001b[0mxi\u001b[0m\u001b[0;34m,\u001b[0m \u001b[0mtarget\u001b[0m \u001b[0;32min\u001b[0m \u001b[0mzip\u001b[0m\u001b[0;34m(\u001b[0m\u001b[0mX\u001b[0m\u001b[0;34m,\u001b[0m \u001b[0my\u001b[0m\u001b[0;34m)\u001b[0m\u001b[0;34m:\u001b[0m\u001b[0;34m\u001b[0m\u001b[0;34m\u001b[0m\u001b[0m\n\u001b[1;32m     76\u001b[0m                 \u001b[0;31m# 特徴量xiと目的変数yを用いた重みの更新とコストの計算\u001b[0m\u001b[0;34m\u001b[0m\u001b[0;34m\u001b[0m\u001b[0;34m\u001b[0m\u001b[0m\n\u001b[0;32m---> 77\u001b[0;31m                 \u001b[0mcost\u001b[0m\u001b[0;34m.\u001b[0m\u001b[0mappend\u001b[0m\u001b[0;34m(\u001b[0m\u001b[0mself\u001b[0m\u001b[0;34m.\u001b[0m\u001b[0m_update_weights\u001b[0m\u001b[0;34m(\u001b[0m\u001b[0mxi\u001b[0m\u001b[0;34m,\u001b[0m \u001b[0mtarget\u001b[0m\u001b[0;34m)\u001b[0m\u001b[0;34m)\u001b[0m\u001b[0;34m\u001b[0m\u001b[0;34m\u001b[0m\u001b[0m\n\u001b[0m\u001b[1;32m     78\u001b[0m \u001b[0;34m\u001b[0m\u001b[0m\n\u001b[1;32m     79\u001b[0m             \u001b[0;31m# サンプルの平均コストの計算\u001b[0m\u001b[0;34m\u001b[0m\u001b[0;34m\u001b[0m\u001b[0;34m\u001b[0m\u001b[0m\n",
      "\u001b[0;32m<ipython-input-28-7d0bb9cd8a8e>\u001b[0m in \u001b[0;36m_update_weights\u001b[0;34m(self, xi, target)\u001b[0m\n\u001b[1;32m    123\u001b[0m         \"\"\"\n\u001b[1;32m    124\u001b[0m         \u001b[0;31m# 活性化関数の出力の計算\u001b[0m\u001b[0;34m\u001b[0m\u001b[0;34m\u001b[0m\u001b[0;34m\u001b[0m\u001b[0m\n\u001b[0;32m--> 125\u001b[0;31m         \u001b[0moutput\u001b[0m \u001b[0;34m=\u001b[0m \u001b[0mselt\u001b[0m\u001b[0;34m.\u001b[0m\u001b[0mnet_input\u001b[0m\u001b[0;34m(\u001b[0m\u001b[0mxi\u001b[0m\u001b[0;34m)\u001b[0m\u001b[0;34m\u001b[0m\u001b[0;34m\u001b[0m\u001b[0m\n\u001b[0m\u001b[1;32m    126\u001b[0m \u001b[0;34m\u001b[0m\u001b[0m\n\u001b[1;32m    127\u001b[0m         \u001b[0;31m# 誤差の計算\u001b[0m\u001b[0;34m\u001b[0m\u001b[0;34m\u001b[0m\u001b[0;34m\u001b[0m\u001b[0m\n",
      "\u001b[0;31mNameError\u001b[0m: name 'selt' is not defined"
     ]
    }
   ],
   "source": [
    "# 確率的勾配降下法によるADALINEの学習\n",
    "## データは標準化したものを使用する\n",
    "adaSGD = AdalineSGD(n_iter=15, eta=0.01, random_state=1)\n",
    "\n",
    "# モデルへの適合\n",
    "adaSGD.fit(X_std, y)\n",
    "\n",
    "# 境界領域のプロット\n",
    "plot_decision_regions(X_std, y, classifier=adaSGD)\n",
    "\n",
    "# タイトルの設定\n",
    "plt.title('Adaline - Stochastic Gradient Descent')\n",
    "\n",
    "# 軸のラベルの設定\n",
    "plt.xlabel('sepal length [standardized]')\n",
    "plt.ylabel('petal length [standardized]')\n",
    "\n",
    "# 凡例の設定（左上に配置）\n",
    "plt.legend(loc='upper left')\n",
    "plt.tight_layout()\n",
    "\n",
    "# プロットの表示\n",
    "plt.show()\n",
    "\n",
    "# エポックとコストの折れ線グラフのプロット\n",
    "plt.plot(range(1, len(ada.cost_) + 1), ada.cost_, marker='o')\n",
    "\n",
    "# 軸のラベルの設定\n",
    "plt.xlabel('Epochs')\n",
    "plt.ylabel('Average Cost')\n",
    "\n",
    "# プロットの表示\n",
    "plt.show()"
   ]
  },
  {
   "cell_type": "code",
   "execution_count": null,
   "metadata": {},
   "outputs": [],
   "source": []
  }
 ],
 "metadata": {
  "kernelspec": {
   "display_name": "Python 3",
   "language": "python",
   "name": "python3"
  },
  "language_info": {
   "codemirror_mode": {
    "name": "ipython",
    "version": 3
   },
   "file_extension": ".py",
   "mimetype": "text/x-python",
   "name": "python",
   "nbconvert_exporter": "python",
   "pygments_lexer": "ipython3",
   "version": "3.7.4"
  }
 },
 "nbformat": 4,
 "nbformat_minor": 2
}
