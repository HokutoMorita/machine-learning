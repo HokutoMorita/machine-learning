{
 "cells": [
  {
   "cell_type": "markdown",
   "metadata": {},
   "source": [
    "# 決定木学習\n",
    "\n",
    "決定木分類器は、意味解釈可能性（得られた結果の意味を解釈しやすいかどうか）に配慮する場合に魅力てきなモデルである。\n",
    "\n",
    "「決定木」という名前が示唆するように、このモデルについては、一連の質問に基づいて決断を下すという方法により、データを分類するモデルである。"
   ]
  },
  {
   "cell_type": "code",
   "execution_count": null,
   "metadata": {},
   "outputs": [],
   "source": []
  }
 ],
 "metadata": {
  "kernelspec": {
   "display_name": "Python 3",
   "language": "python",
   "name": "python3"
  },
  "language_info": {
   "codemirror_mode": {
    "name": "ipython",
    "version": 3
   },
   "file_extension": ".py",
   "mimetype": "text/x-python",
   "name": "python",
   "nbconvert_exporter": "python",
   "pygments_lexer": "ipython3",
   "version": "3.7.4"
  }
 },
 "nbformat": 4,
 "nbformat_minor": 2
}
