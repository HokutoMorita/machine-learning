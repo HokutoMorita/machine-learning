{
 "cells": [
  {
   "cell_type": "markdown",
   "metadata": {},
   "source": [
    "# 分析モデルの永続化"
   ]
  },
  {
   "cell_type": "code",
   "execution_count": 1,
   "metadata": {},
   "outputs": [
    {
     "name": "stderr",
     "output_type": "stream",
     "text": [
      "/opt/anaconda3/lib/python3.7/site-packages/lightgbm/__init__.py:48: UserWarning: Starting from version 2.2.1, the library file in distribution wheels for macOS is built by the Apple Clang (Xcode_8.3.3) compiler.\n",
      "This means that in case of installing LightGBM from PyPI via the ``pip install lightgbm`` command, you don't need to install the gcc compiler anymore.\n",
      "Instead of that, you need to install the OpenMP library, which is required for running LightGBM on the system with the Apple Clang compiler.\n",
      "You can install the OpenMP library by the following command: ``brew install libomp``.\n",
      "  \"You can install the OpenMP library by the following command: ``brew install libomp``.\", UserWarning)\n"
     ]
    }
   ],
   "source": [
    "import pickle\n",
    "import os\n",
    "\n",
    "import numpy as np\n",
    "import pandas as pd\n",
    "\n",
    "# GBDT(勾配ブースティング木)を構成するライブラリ\n",
    "import xgboost as xgb\n",
    "import lightgbm as lgb\n",
    "\n",
    "from sklearn.metrics import log_loss\n",
    "from sklearn.model_selection import KFold"
   ]
  },
  {
   "cell_type": "markdown",
   "metadata": {},
   "source": [
    "## 永続化した分析モデルを保管するディレクトリの作成"
   ]
  },
  {
   "cell_type": "code",
   "execution_count": 2,
   "metadata": {},
   "outputs": [],
   "source": [
    "dest = os.path.join('pkl_objects')\n",
    "if not os.path.exists(dest):\n",
    "    os.makedirs(dest)"
   ]
  },
  {
   "cell_type": "markdown",
   "metadata": {},
   "source": [
    "## 分析モデルの作成"
   ]
  },
  {
   "cell_type": "code",
   "execution_count": 3,
   "metadata": {},
   "outputs": [],
   "source": [
    "# train_xは学習データ、train_yは目的変数、test_xはテストデータ\n",
    "train = pd.read_csv('train_preprocessed.csv')\n",
    "test = pd.read_csv('test_preprocessed.csv')"
   ]
  },
  {
   "cell_type": "code",
   "execution_count": 4,
   "metadata": {},
   "outputs": [
    {
     "data": {
      "text/html": [
       "<div>\n",
       "<style scoped>\n",
       "    .dataframe tbody tr th:only-of-type {\n",
       "        vertical-align: middle;\n",
       "    }\n",
       "\n",
       "    .dataframe tbody tr th {\n",
       "        vertical-align: top;\n",
       "    }\n",
       "\n",
       "    .dataframe thead th {\n",
       "        text-align: right;\n",
       "    }\n",
       "</style>\n",
       "<table border=\"1\" class=\"dataframe\">\n",
       "  <thead>\n",
       "    <tr style=\"text-align: right;\">\n",
       "      <th></th>\n",
       "      <th>age</th>\n",
       "      <th>sex</th>\n",
       "      <th>height</th>\n",
       "      <th>weight</th>\n",
       "      <th>product</th>\n",
       "      <th>amount</th>\n",
       "      <th>medical_info_a1</th>\n",
       "      <th>medical_info_a2</th>\n",
       "      <th>medical_info_a3</th>\n",
       "      <th>medical_info_b1</th>\n",
       "      <th>...</th>\n",
       "      <th>medical_keyword_6</th>\n",
       "      <th>medical_keyword_7</th>\n",
       "      <th>medical_keyword_8</th>\n",
       "      <th>medical_keyword_9</th>\n",
       "      <th>medical_keyword_10</th>\n",
       "      <th>year</th>\n",
       "      <th>month</th>\n",
       "      <th>day</th>\n",
       "      <th>yearmonth</th>\n",
       "      <th>target</th>\n",
       "    </tr>\n",
       "  </thead>\n",
       "  <tbody>\n",
       "    <tr>\n",
       "      <td>0</td>\n",
       "      <td>50</td>\n",
       "      <td>1</td>\n",
       "      <td>166.445608</td>\n",
       "      <td>65.016732</td>\n",
       "      <td>9</td>\n",
       "      <td>7000000</td>\n",
       "      <td>134</td>\n",
       "      <td>202</td>\n",
       "      <td>1</td>\n",
       "      <td>11</td>\n",
       "      <td>...</td>\n",
       "      <td>1</td>\n",
       "      <td>0</td>\n",
       "      <td>1</td>\n",
       "      <td>0</td>\n",
       "      <td>0</td>\n",
       "      <td>2015</td>\n",
       "      <td>2</td>\n",
       "      <td>3</td>\n",
       "      <td>24182</td>\n",
       "      <td>0</td>\n",
       "    </tr>\n",
       "    <tr>\n",
       "      <td>1</td>\n",
       "      <td>68</td>\n",
       "      <td>0</td>\n",
       "      <td>164.334615</td>\n",
       "      <td>56.544217</td>\n",
       "      <td>0</td>\n",
       "      <td>7000000</td>\n",
       "      <td>438</td>\n",
       "      <td>263</td>\n",
       "      <td>3</td>\n",
       "      <td>14</td>\n",
       "      <td>...</td>\n",
       "      <td>0</td>\n",
       "      <td>1</td>\n",
       "      <td>1</td>\n",
       "      <td>0</td>\n",
       "      <td>0</td>\n",
       "      <td>2015</td>\n",
       "      <td>5</td>\n",
       "      <td>9</td>\n",
       "      <td>24185</td>\n",
       "      <td>0</td>\n",
       "    </tr>\n",
       "    <tr>\n",
       "      <td>2</td>\n",
       "      <td>77</td>\n",
       "      <td>1</td>\n",
       "      <td>167.462917</td>\n",
       "      <td>54.242267</td>\n",
       "      <td>2</td>\n",
       "      <td>6000000</td>\n",
       "      <td>313</td>\n",
       "      <td>325</td>\n",
       "      <td>1</td>\n",
       "      <td>18</td>\n",
       "      <td>...</td>\n",
       "      <td>1</td>\n",
       "      <td>0</td>\n",
       "      <td>1</td>\n",
       "      <td>0</td>\n",
       "      <td>0</td>\n",
       "      <td>2016</td>\n",
       "      <td>2</td>\n",
       "      <td>13</td>\n",
       "      <td>24194</td>\n",
       "      <td>1</td>\n",
       "    </tr>\n",
       "    <tr>\n",
       "      <td>3</td>\n",
       "      <td>17</td>\n",
       "      <td>1</td>\n",
       "      <td>177.097725</td>\n",
       "      <td>71.147762</td>\n",
       "      <td>3</td>\n",
       "      <td>8000000</td>\n",
       "      <td>342</td>\n",
       "      <td>213</td>\n",
       "      <td>2</td>\n",
       "      <td>11</td>\n",
       "      <td>...</td>\n",
       "      <td>0</td>\n",
       "      <td>0</td>\n",
       "      <td>1</td>\n",
       "      <td>0</td>\n",
       "      <td>0</td>\n",
       "      <td>2015</td>\n",
       "      <td>7</td>\n",
       "      <td>6</td>\n",
       "      <td>24187</td>\n",
       "      <td>0</td>\n",
       "    </tr>\n",
       "    <tr>\n",
       "      <td>4</td>\n",
       "      <td>62</td>\n",
       "      <td>0</td>\n",
       "      <td>158.165788</td>\n",
       "      <td>65.240697</td>\n",
       "      <td>1</td>\n",
       "      <td>9000000</td>\n",
       "      <td>327</td>\n",
       "      <td>102</td>\n",
       "      <td>0</td>\n",
       "      <td>14</td>\n",
       "      <td>...</td>\n",
       "      <td>0</td>\n",
       "      <td>1</td>\n",
       "      <td>1</td>\n",
       "      <td>1</td>\n",
       "      <td>0</td>\n",
       "      <td>2016</td>\n",
       "      <td>9</td>\n",
       "      <td>17</td>\n",
       "      <td>24201</td>\n",
       "      <td>1</td>\n",
       "    </tr>\n",
       "  </tbody>\n",
       "</table>\n",
       "<p>5 rows × 29 columns</p>\n",
       "</div>"
      ],
      "text/plain": [
       "   age  sex      height     weight  product   amount  medical_info_a1  \\\n",
       "0   50    1  166.445608  65.016732        9  7000000              134   \n",
       "1   68    0  164.334615  56.544217        0  7000000              438   \n",
       "2   77    1  167.462917  54.242267        2  6000000              313   \n",
       "3   17    1  177.097725  71.147762        3  8000000              342   \n",
       "4   62    0  158.165788  65.240697        1  9000000              327   \n",
       "\n",
       "   medical_info_a2  medical_info_a3  medical_info_b1  ...  medical_keyword_6  \\\n",
       "0              202                1               11  ...                  1   \n",
       "1              263                3               14  ...                  0   \n",
       "2              325                1               18  ...                  1   \n",
       "3              213                2               11  ...                  0   \n",
       "4              102                0               14  ...                  0   \n",
       "\n",
       "   medical_keyword_7  medical_keyword_8  medical_keyword_9  \\\n",
       "0                  0                  1                  0   \n",
       "1                  1                  1                  0   \n",
       "2                  0                  1                  0   \n",
       "3                  0                  1                  0   \n",
       "4                  1                  1                  1   \n",
       "\n",
       "   medical_keyword_10  year  month  day  yearmonth  target  \n",
       "0                   0  2015      2    3      24182       0  \n",
       "1                   0  2015      5    9      24185       0  \n",
       "2                   0  2016      2   13      24194       1  \n",
       "3                   0  2015      7    6      24187       0  \n",
       "4                   0  2016      9   17      24201       1  \n",
       "\n",
       "[5 rows x 29 columns]"
      ]
     },
     "execution_count": 4,
     "metadata": {},
     "output_type": "execute_result"
    }
   ],
   "source": [
    "train.head()"
   ]
  },
  {
   "cell_type": "code",
   "execution_count": 5,
   "metadata": {},
   "outputs": [],
   "source": [
    "train_x = train.iloc[:, :28]\n",
    "train_y = train['target']\n",
    "test_x = test.copy()"
   ]
  },
  {
   "cell_type": "code",
   "execution_count": 6,
   "metadata": {},
   "outputs": [],
   "source": [
    "# KFoldクロスバリデーションによる分割の1つを使用し、学習データとバリデーションデータに分ける\n",
    "kf = KFold(n_splits=4, shuffle=True, random_state=71)\n",
    "##  トレーニングデータセットとテストデータセットにそれぞれ振り分けた要素番号のリスト\n",
    "tr_idx, va_idx = list(kf.split(train_x))[0]\n",
    "tr_x, va_x = train_x.iloc[tr_idx], train_x.iloc[va_idx]\n",
    "tr_y, va_y = train_y.iloc[tr_idx], train_y.iloc[va_idx]"
   ]
  },
  {
   "cell_type": "code",
   "execution_count": 7,
   "metadata": {},
   "outputs": [],
   "source": [
    "# 特徴量と目的変数をlightgbmのデータ構造に変換する\n",
    "lgb_train = lgb.Dataset(tr_x, tr_y)\n",
    "lgb_eval = lgb.Dataset(va_x, va_y)"
   ]
  },
  {
   "cell_type": "code",
   "execution_count": 8,
   "metadata": {},
   "outputs": [],
   "source": [
    "# ハイパーパラメータの設定\n",
    "params = {'objective': 'binary', 'metrics': 'binary_logloss'}\n",
    "num_round = 500"
   ]
  },
  {
   "cell_type": "code",
   "execution_count": 9,
   "metadata": {},
   "outputs": [
    {
     "name": "stdout",
     "output_type": "stream",
     "text": [
      "[1]\ttrain's binary_logloss: 0.454308\tvalid's binary_logloss: 0.465515\n",
      "Training until validation scores don't improve for 10 rounds\n",
      "[2]\ttrain's binary_logloss: 0.429565\tvalid's binary_logloss: 0.443444\n",
      "[3]\ttrain's binary_logloss: 0.410077\tvalid's binary_logloss: 0.425543\n",
      "[4]\ttrain's binary_logloss: 0.39358\tvalid's binary_logloss: 0.410625\n",
      "[5]\ttrain's binary_logloss: 0.379354\tvalid's binary_logloss: 0.397666\n",
      "[6]\ttrain's binary_logloss: 0.365913\tvalid's binary_logloss: 0.387422\n",
      "[7]\ttrain's binary_logloss: 0.354309\tvalid's binary_logloss: 0.376037\n",
      "[8]\ttrain's binary_logloss: 0.344354\tvalid's binary_logloss: 0.366734\n",
      "[9]\ttrain's binary_logloss: 0.334834\tvalid's binary_logloss: 0.35898\n",
      "[10]\ttrain's binary_logloss: 0.326209\tvalid's binary_logloss: 0.351612\n",
      "[11]\ttrain's binary_logloss: 0.317809\tvalid's binary_logloss: 0.34563\n",
      "[12]\ttrain's binary_logloss: 0.310845\tvalid's binary_logloss: 0.340564\n",
      "[13]\ttrain's binary_logloss: 0.30401\tvalid's binary_logloss: 0.334274\n",
      "[14]\ttrain's binary_logloss: 0.296333\tvalid's binary_logloss: 0.327911\n",
      "[15]\ttrain's binary_logloss: 0.290137\tvalid's binary_logloss: 0.324239\n",
      "[16]\ttrain's binary_logloss: 0.283293\tvalid's binary_logloss: 0.317865\n",
      "[17]\ttrain's binary_logloss: 0.277823\tvalid's binary_logloss: 0.314412\n",
      "[18]\ttrain's binary_logloss: 0.272322\tvalid's binary_logloss: 0.310773\n",
      "[19]\ttrain's binary_logloss: 0.26705\tvalid's binary_logloss: 0.307374\n",
      "[20]\ttrain's binary_logloss: 0.262091\tvalid's binary_logloss: 0.303946\n",
      "[21]\ttrain's binary_logloss: 0.257394\tvalid's binary_logloss: 0.301154\n",
      "[22]\ttrain's binary_logloss: 0.253115\tvalid's binary_logloss: 0.298085\n",
      "[23]\ttrain's binary_logloss: 0.24878\tvalid's binary_logloss: 0.294533\n",
      "[24]\ttrain's binary_logloss: 0.243951\tvalid's binary_logloss: 0.291832\n",
      "[25]\ttrain's binary_logloss: 0.240469\tvalid's binary_logloss: 0.289538\n",
      "[26]\ttrain's binary_logloss: 0.236038\tvalid's binary_logloss: 0.285777\n",
      "[27]\ttrain's binary_logloss: 0.231149\tvalid's binary_logloss: 0.281554\n",
      "[28]\ttrain's binary_logloss: 0.227936\tvalid's binary_logloss: 0.279469\n",
      "[29]\ttrain's binary_logloss: 0.224501\tvalid's binary_logloss: 0.278255\n",
      "[30]\ttrain's binary_logloss: 0.221476\tvalid's binary_logloss: 0.27687\n",
      "[31]\ttrain's binary_logloss: 0.218174\tvalid's binary_logloss: 0.274434\n",
      "[32]\ttrain's binary_logloss: 0.214462\tvalid's binary_logloss: 0.272274\n",
      "[33]\ttrain's binary_logloss: 0.21088\tvalid's binary_logloss: 0.269122\n",
      "[34]\ttrain's binary_logloss: 0.207684\tvalid's binary_logloss: 0.266756\n",
      "[35]\ttrain's binary_logloss: 0.205168\tvalid's binary_logloss: 0.265291\n",
      "[36]\ttrain's binary_logloss: 0.202792\tvalid's binary_logloss: 0.264635\n",
      "[37]\ttrain's binary_logloss: 0.200275\tvalid's binary_logloss: 0.263032\n",
      "[38]\ttrain's binary_logloss: 0.19745\tvalid's binary_logloss: 0.261202\n",
      "[39]\ttrain's binary_logloss: 0.194507\tvalid's binary_logloss: 0.25904\n",
      "[40]\ttrain's binary_logloss: 0.192425\tvalid's binary_logloss: 0.257587\n",
      "[41]\ttrain's binary_logloss: 0.190121\tvalid's binary_logloss: 0.256767\n",
      "[42]\ttrain's binary_logloss: 0.187834\tvalid's binary_logloss: 0.255625\n",
      "[43]\ttrain's binary_logloss: 0.184909\tvalid's binary_logloss: 0.254088\n",
      "[44]\ttrain's binary_logloss: 0.181938\tvalid's binary_logloss: 0.252355\n",
      "[45]\ttrain's binary_logloss: 0.180014\tvalid's binary_logloss: 0.251427\n",
      "[46]\ttrain's binary_logloss: 0.177952\tvalid's binary_logloss: 0.250039\n",
      "[47]\ttrain's binary_logloss: 0.175486\tvalid's binary_logloss: 0.248749\n",
      "[48]\ttrain's binary_logloss: 0.17332\tvalid's binary_logloss: 0.247716\n",
      "[49]\ttrain's binary_logloss: 0.171233\tvalid's binary_logloss: 0.247249\n",
      "[50]\ttrain's binary_logloss: 0.168808\tvalid's binary_logloss: 0.245712\n",
      "[51]\ttrain's binary_logloss: 0.166901\tvalid's binary_logloss: 0.244631\n",
      "[52]\ttrain's binary_logloss: 0.164701\tvalid's binary_logloss: 0.243459\n",
      "[53]\ttrain's binary_logloss: 0.162987\tvalid's binary_logloss: 0.242513\n",
      "[54]\ttrain's binary_logloss: 0.161101\tvalid's binary_logloss: 0.24179\n",
      "[55]\ttrain's binary_logloss: 0.159227\tvalid's binary_logloss: 0.240958\n",
      "[56]\ttrain's binary_logloss: 0.157179\tvalid's binary_logloss: 0.23982\n",
      "[57]\ttrain's binary_logloss: 0.155645\tvalid's binary_logloss: 0.239127\n",
      "[58]\ttrain's binary_logloss: 0.153637\tvalid's binary_logloss: 0.237746\n",
      "[59]\ttrain's binary_logloss: 0.152156\tvalid's binary_logloss: 0.237403\n",
      "[60]\ttrain's binary_logloss: 0.150492\tvalid's binary_logloss: 0.236752\n",
      "[61]\ttrain's binary_logloss: 0.14833\tvalid's binary_logloss: 0.235299\n",
      "[62]\ttrain's binary_logloss: 0.146708\tvalid's binary_logloss: 0.234711\n",
      "[63]\ttrain's binary_logloss: 0.145146\tvalid's binary_logloss: 0.234231\n",
      "[64]\ttrain's binary_logloss: 0.143475\tvalid's binary_logloss: 0.233571\n",
      "[65]\ttrain's binary_logloss: 0.141857\tvalid's binary_logloss: 0.233159\n",
      "[66]\ttrain's binary_logloss: 0.140617\tvalid's binary_logloss: 0.232806\n",
      "[67]\ttrain's binary_logloss: 0.139349\tvalid's binary_logloss: 0.232361\n",
      "[68]\ttrain's binary_logloss: 0.137656\tvalid's binary_logloss: 0.231805\n",
      "[69]\ttrain's binary_logloss: 0.13622\tvalid's binary_logloss: 0.231595\n",
      "[70]\ttrain's binary_logloss: 0.134909\tvalid's binary_logloss: 0.231123\n",
      "[71]\ttrain's binary_logloss: 0.133365\tvalid's binary_logloss: 0.23016\n",
      "[72]\ttrain's binary_logloss: 0.131928\tvalid's binary_logloss: 0.22954\n",
      "[73]\ttrain's binary_logloss: 0.130743\tvalid's binary_logloss: 0.2294\n",
      "[74]\ttrain's binary_logloss: 0.129119\tvalid's binary_logloss: 0.228424\n",
      "[75]\ttrain's binary_logloss: 0.127482\tvalid's binary_logloss: 0.227763\n",
      "[76]\ttrain's binary_logloss: 0.126147\tvalid's binary_logloss: 0.227717\n",
      "[77]\ttrain's binary_logloss: 0.124614\tvalid's binary_logloss: 0.226361\n",
      "[78]\ttrain's binary_logloss: 0.123468\tvalid's binary_logloss: 0.226123\n",
      "[79]\ttrain's binary_logloss: 0.121894\tvalid's binary_logloss: 0.224743\n",
      "[80]\ttrain's binary_logloss: 0.120732\tvalid's binary_logloss: 0.224614\n",
      "[81]\ttrain's binary_logloss: 0.119582\tvalid's binary_logloss: 0.224197\n",
      "[82]\ttrain's binary_logloss: 0.118468\tvalid's binary_logloss: 0.223638\n",
      "[83]\ttrain's binary_logloss: 0.117333\tvalid's binary_logloss: 0.223198\n",
      "[84]\ttrain's binary_logloss: 0.116301\tvalid's binary_logloss: 0.223096\n",
      "[85]\ttrain's binary_logloss: 0.11519\tvalid's binary_logloss: 0.222564\n",
      "[86]\ttrain's binary_logloss: 0.114083\tvalid's binary_logloss: 0.222174\n",
      "[87]\ttrain's binary_logloss: 0.112979\tvalid's binary_logloss: 0.222011\n",
      "[88]\ttrain's binary_logloss: 0.11165\tvalid's binary_logloss: 0.220694\n",
      "[89]\ttrain's binary_logloss: 0.110383\tvalid's binary_logloss: 0.220025\n",
      "[90]\ttrain's binary_logloss: 0.109327\tvalid's binary_logloss: 0.219546\n",
      "[91]\ttrain's binary_logloss: 0.108284\tvalid's binary_logloss: 0.218836\n",
      "[92]\ttrain's binary_logloss: 0.107136\tvalid's binary_logloss: 0.21845\n",
      "[93]\ttrain's binary_logloss: 0.106131\tvalid's binary_logloss: 0.218435\n",
      "[94]\ttrain's binary_logloss: 0.105149\tvalid's binary_logloss: 0.218246\n",
      "[95]\ttrain's binary_logloss: 0.104193\tvalid's binary_logloss: 0.218185\n",
      "[96]\ttrain's binary_logloss: 0.103162\tvalid's binary_logloss: 0.217907\n",
      "[97]\ttrain's binary_logloss: 0.102197\tvalid's binary_logloss: 0.217536\n",
      "[98]\ttrain's binary_logloss: 0.101254\tvalid's binary_logloss: 0.217335\n",
      "[99]\ttrain's binary_logloss: 0.100266\tvalid's binary_logloss: 0.217277\n",
      "[100]\ttrain's binary_logloss: 0.0994527\tvalid's binary_logloss: 0.217264\n",
      "[101]\ttrain's binary_logloss: 0.0984582\tvalid's binary_logloss: 0.217421\n",
      "[102]\ttrain's binary_logloss: 0.0975699\tvalid's binary_logloss: 0.217796\n",
      "[103]\ttrain's binary_logloss: 0.0967684\tvalid's binary_logloss: 0.217607\n",
      "[104]\ttrain's binary_logloss: 0.0959507\tvalid's binary_logloss: 0.217597\n",
      "[105]\ttrain's binary_logloss: 0.0949572\tvalid's binary_logloss: 0.217595\n",
      "[106]\ttrain's binary_logloss: 0.0939988\tvalid's binary_logloss: 0.217479\n",
      "[107]\ttrain's binary_logloss: 0.0930806\tvalid's binary_logloss: 0.217188\n",
      "[108]\ttrain's binary_logloss: 0.091694\tvalid's binary_logloss: 0.215699\n",
      "[109]\ttrain's binary_logloss: 0.0909406\tvalid's binary_logloss: 0.215406\n",
      "[110]\ttrain's binary_logloss: 0.0901812\tvalid's binary_logloss: 0.215404\n",
      "[111]\ttrain's binary_logloss: 0.0890411\tvalid's binary_logloss: 0.214838\n",
      "[112]\ttrain's binary_logloss: 0.0882834\tvalid's binary_logloss: 0.214922\n",
      "[113]\ttrain's binary_logloss: 0.0875157\tvalid's binary_logloss: 0.214831\n",
      "[114]\ttrain's binary_logloss: 0.086729\tvalid's binary_logloss: 0.214685\n",
      "[115]\ttrain's binary_logloss: 0.0860699\tvalid's binary_logloss: 0.214667\n",
      "[116]\ttrain's binary_logloss: 0.0853666\tvalid's binary_logloss: 0.214367\n",
      "[117]\ttrain's binary_logloss: 0.084511\tvalid's binary_logloss: 0.214262\n",
      "[118]\ttrain's binary_logloss: 0.0837485\tvalid's binary_logloss: 0.214242\n",
      "[119]\ttrain's binary_logloss: 0.0829976\tvalid's binary_logloss: 0.214152\n",
      "[120]\ttrain's binary_logloss: 0.082245\tvalid's binary_logloss: 0.213931\n",
      "[121]\ttrain's binary_logloss: 0.0814593\tvalid's binary_logloss: 0.213654\n",
      "[122]\ttrain's binary_logloss: 0.0806696\tvalid's binary_logloss: 0.213535\n",
      "[123]\ttrain's binary_logloss: 0.0799197\tvalid's binary_logloss: 0.213655\n",
      "[124]\ttrain's binary_logloss: 0.0793165\tvalid's binary_logloss: 0.213653\n",
      "[125]\ttrain's binary_logloss: 0.0785481\tvalid's binary_logloss: 0.213472\n",
      "[126]\ttrain's binary_logloss: 0.0779227\tvalid's binary_logloss: 0.213633\n",
      "[127]\ttrain's binary_logloss: 0.0771509\tvalid's binary_logloss: 0.213437\n",
      "[128]\ttrain's binary_logloss: 0.0764563\tvalid's binary_logloss: 0.212943\n",
      "[129]\ttrain's binary_logloss: 0.0758855\tvalid's binary_logloss: 0.21303\n",
      "[130]\ttrain's binary_logloss: 0.075231\tvalid's binary_logloss: 0.212851\n"
     ]
    },
    {
     "name": "stdout",
     "output_type": "stream",
     "text": [
      "[131]\ttrain's binary_logloss: 0.074473\tvalid's binary_logloss: 0.212178\n",
      "[132]\ttrain's binary_logloss: 0.0738179\tvalid's binary_logloss: 0.211958\n",
      "[133]\ttrain's binary_logloss: 0.0732225\tvalid's binary_logloss: 0.211775\n",
      "[134]\ttrain's binary_logloss: 0.0725873\tvalid's binary_logloss: 0.211546\n",
      "[135]\ttrain's binary_logloss: 0.071945\tvalid's binary_logloss: 0.211122\n",
      "[136]\ttrain's binary_logloss: 0.0714022\tvalid's binary_logloss: 0.211088\n",
      "[137]\ttrain's binary_logloss: 0.0708807\tvalid's binary_logloss: 0.211445\n",
      "[138]\ttrain's binary_logloss: 0.0700744\tvalid's binary_logloss: 0.210563\n",
      "[139]\ttrain's binary_logloss: 0.0695329\tvalid's binary_logloss: 0.210665\n",
      "[140]\ttrain's binary_logloss: 0.0690487\tvalid's binary_logloss: 0.210766\n",
      "[141]\ttrain's binary_logloss: 0.0684624\tvalid's binary_logloss: 0.210647\n",
      "[142]\ttrain's binary_logloss: 0.0679562\tvalid's binary_logloss: 0.210728\n",
      "[143]\ttrain's binary_logloss: 0.067303\tvalid's binary_logloss: 0.210724\n",
      "[144]\ttrain's binary_logloss: 0.0667676\tvalid's binary_logloss: 0.211084\n",
      "[145]\ttrain's binary_logloss: 0.0662361\tvalid's binary_logloss: 0.211097\n",
      "[146]\ttrain's binary_logloss: 0.065744\tvalid's binary_logloss: 0.211218\n",
      "[147]\ttrain's binary_logloss: 0.0650035\tvalid's binary_logloss: 0.21058\n",
      "[148]\ttrain's binary_logloss: 0.0644377\tvalid's binary_logloss: 0.21052\n",
      "[149]\ttrain's binary_logloss: 0.0639\tvalid's binary_logloss: 0.210466\n",
      "[150]\ttrain's binary_logloss: 0.0633971\tvalid's binary_logloss: 0.21029\n",
      "[151]\ttrain's binary_logloss: 0.0627998\tvalid's binary_logloss: 0.210587\n",
      "[152]\ttrain's binary_logloss: 0.0623205\tvalid's binary_logloss: 0.21058\n",
      "[153]\ttrain's binary_logloss: 0.0618731\tvalid's binary_logloss: 0.210718\n",
      "[154]\ttrain's binary_logloss: 0.0613518\tvalid's binary_logloss: 0.210897\n",
      "[155]\ttrain's binary_logloss: 0.0606809\tvalid's binary_logloss: 0.210511\n",
      "[156]\ttrain's binary_logloss: 0.0602291\tvalid's binary_logloss: 0.21081\n",
      "[157]\ttrain's binary_logloss: 0.0597253\tvalid's binary_logloss: 0.210371\n",
      "[158]\ttrain's binary_logloss: 0.0592399\tvalid's binary_logloss: 0.210537\n",
      "[159]\ttrain's binary_logloss: 0.0587393\tvalid's binary_logloss: 0.210385\n",
      "[160]\ttrain's binary_logloss: 0.0583301\tvalid's binary_logloss: 0.210368\n",
      "Early stopping, best iteration is:\n",
      "[150]\ttrain's binary_logloss: 0.0633971\tvalid's binary_logloss: 0.21029\n"
     ]
    }
   ],
   "source": [
    "# 学習の実行\n",
    "# カテゴリ変数をパラメータで指定している\n",
    "# バリデーションデータもモデルに渡し、学習の進行とともにスコアがどう変わるかモニタリングする\n",
    "categorical_features = []\n",
    "\n",
    "# num_boost_round: ブースティングの反復回数。\n",
    "# early_stopping_rounds: \n",
    "model = lgb.train(params, \n",
    "                                 lgb_train, \n",
    "                                 num_boost_round=num_round, \n",
    "                                 #categorical_feature=categorical_features,\n",
    "                                 valid_names=['train', 'valid'], \n",
    "                                 valid_sets=[lgb_train, lgb_eval], \n",
    "                                 early_stopping_rounds=10)"
   ]
  },
  {
   "cell_type": "code",
   "execution_count": 10,
   "metadata": {},
   "outputs": [
    {
     "name": "stdout",
     "output_type": "stream",
     "text": [
      "logloss: 0.2103\n"
     ]
    }
   ],
   "source": [
    "# バリデーションデータでのスコアの確認\n",
    "va_pred = model.predict(va_x)\n",
    "score = log_loss(va_y, va_pred)\n",
    "print(f'logloss: {score:.4f}')"
   ]
  },
  {
   "cell_type": "code",
   "execution_count": 11,
   "metadata": {},
   "outputs": [],
   "source": [
    "# 予測\n",
    "pred = model.predict(test_x)"
   ]
  },
  {
   "cell_type": "code",
   "execution_count": 12,
   "metadata": {},
   "outputs": [
    {
     "data": {
      "text/plain": [
       "array([9.64145464e-02, 4.82369617e-02, 3.77019674e-03, ...,\n",
       "       8.68562307e-01, 7.84682997e-04, 3.91142663e-01])"
      ]
     },
     "execution_count": 12,
     "metadata": {},
     "output_type": "execute_result"
    }
   ],
   "source": [
    "pred"
   ]
  },
  {
   "cell_type": "markdown",
   "metadata": {},
   "source": [
    "## 分析モデルの永続化\n",
    "\n",
    "- pickleのdump関数は学習させたモデルをシリアライズする。"
   ]
  },
  {
   "cell_type": "code",
   "execution_count": 13,
   "metadata": {},
   "outputs": [],
   "source": [
    "pickle.dump(model, \n",
    "                      open(os.path.join(dest, 'lightgbm_classifier.pkl'), 'wb'), \n",
    "                      protocol=4)"
   ]
  },
  {
   "cell_type": "markdown",
   "metadata": {},
   "source": [
    "## 永続化させた分析モデルを使用する。"
   ]
  },
  {
   "cell_type": "code",
   "execution_count": 14,
   "metadata": {},
   "outputs": [],
   "source": [
    "current_dir = os.getcwd()\n",
    "lightgbm_classifier = pickle.load(open(os.path.join(current_dir, 'pkl_objects', 'lightgbm_classifier.pkl'), 'rb'))"
   ]
  },
  {
   "cell_type": "markdown",
   "metadata": {},
   "source": [
    "### 永続化した分析モデルが永続化する前と同じバリデーションスコアになるか確認"
   ]
  },
  {
   "cell_type": "code",
   "execution_count": 15,
   "metadata": {},
   "outputs": [
    {
     "name": "stdout",
     "output_type": "stream",
     "text": [
      "logloss: 0.2103\n"
     ]
    }
   ],
   "source": [
    "# バリデーションデータでのスコアの確認\n",
    "va_pred_persistence = lightgbm_classifier.predict(va_x)\n",
    "score_persistence = log_loss(va_y, va_pred_persistence)\n",
    "print(f'logloss: {score_persistence:.4f}')"
   ]
  },
  {
   "cell_type": "markdown",
   "metadata": {},
   "source": [
    "### 永続化した分析モデルが永続化する前と同じ予測を行うかを確認"
   ]
  },
  {
   "cell_type": "code",
   "execution_count": 16,
   "metadata": {},
   "outputs": [],
   "source": [
    "# predict関数を使用\n",
    "pred_persistence = lightgbm_classifier.predict(test_x)"
   ]
  },
  {
   "cell_type": "code",
   "execution_count": 17,
   "metadata": {},
   "outputs": [
    {
     "data": {
      "text/plain": [
       "array([9.64145464e-02, 4.82369617e-02, 3.77019674e-03, ...,\n",
       "       8.68562307e-01, 7.84682997e-04, 3.91142663e-01])"
      ]
     },
     "execution_count": 17,
     "metadata": {},
     "output_type": "execute_result"
    }
   ],
   "source": [
    "pred_persistence"
   ]
  },
  {
   "cell_type": "code",
   "execution_count": 18,
   "metadata": {},
   "outputs": [],
   "source": [
    "# predict_proba関数を使用"
   ]
  },
  {
   "cell_type": "code",
   "execution_count": null,
   "metadata": {},
   "outputs": [],
   "source": []
  }
 ],
 "metadata": {
  "kernelspec": {
   "display_name": "Python 3",
   "language": "python",
   "name": "python3"
  },
  "language_info": {
   "codemirror_mode": {
    "name": "ipython",
    "version": 3
   },
   "file_extension": ".py",
   "mimetype": "text/x-python",
   "name": "python",
   "nbconvert_exporter": "python",
   "pygments_lexer": "ipython3",
   "version": "3.7.4"
  }
 },
 "nbformat": 4,
 "nbformat_minor": 2
}
