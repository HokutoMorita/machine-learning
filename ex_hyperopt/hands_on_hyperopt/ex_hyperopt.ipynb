{
 "cells": [
  {
   "cell_type": "markdown",
   "metadata": {},
   "source": [
    "# ベイズ最適化（hyperopt）でのパラメータ探索"
   ]
  },
  {
   "cell_type": "markdown",
   "metadata": {},
   "source": [
    "## 必要なライブラリのインポート"
   ]
  },
  {
   "cell_type": "code",
   "execution_count": 14,
   "metadata": {},
   "outputs": [],
   "source": [
    "import numpy as np\n",
    "import pandas as pd\n",
    "\n",
    "from hyperopt import hp, fmin, tpe, STATUS_OK, Trials\n",
    "\n",
    "from sklearn.model_selection import KFold\n",
    "from sklearn.metrics import log_loss"
   ]
  },
  {
   "cell_type": "markdown",
   "metadata": {},
   "source": [
    "## データセットの取得\n",
    "\n",
    "データセットはこちらのURLにアップデートされているものを使用\\\n",
    "https://github.com/ghmagazine/kagglebook/tree/master/input/sample-data"
   ]
  },
  {
   "cell_type": "code",
   "execution_count": 5,
   "metadata": {},
   "outputs": [],
   "source": [
    "# train_xは学習データ、train_yは目的変数、test_xはテストデータ\n",
    "train = pd.read_csv('train_preprocessed.csv')\n",
    "test = pd.read_csv('test_preprocessed.csv')"
   ]
  },
  {
   "cell_type": "code",
   "execution_count": 6,
   "metadata": {},
   "outputs": [
    {
     "data": {
      "text/html": [
       "<div>\n",
       "<style scoped>\n",
       "    .dataframe tbody tr th:only-of-type {\n",
       "        vertical-align: middle;\n",
       "    }\n",
       "\n",
       "    .dataframe tbody tr th {\n",
       "        vertical-align: top;\n",
       "    }\n",
       "\n",
       "    .dataframe thead th {\n",
       "        text-align: right;\n",
       "    }\n",
       "</style>\n",
       "<table border=\"1\" class=\"dataframe\">\n",
       "  <thead>\n",
       "    <tr style=\"text-align: right;\">\n",
       "      <th></th>\n",
       "      <th>age</th>\n",
       "      <th>sex</th>\n",
       "      <th>height</th>\n",
       "      <th>weight</th>\n",
       "      <th>product</th>\n",
       "      <th>amount</th>\n",
       "      <th>medical_info_a1</th>\n",
       "      <th>medical_info_a2</th>\n",
       "      <th>medical_info_a3</th>\n",
       "      <th>medical_info_b1</th>\n",
       "      <th>...</th>\n",
       "      <th>medical_keyword_6</th>\n",
       "      <th>medical_keyword_7</th>\n",
       "      <th>medical_keyword_8</th>\n",
       "      <th>medical_keyword_9</th>\n",
       "      <th>medical_keyword_10</th>\n",
       "      <th>year</th>\n",
       "      <th>month</th>\n",
       "      <th>day</th>\n",
       "      <th>yearmonth</th>\n",
       "      <th>target</th>\n",
       "    </tr>\n",
       "  </thead>\n",
       "  <tbody>\n",
       "    <tr>\n",
       "      <td>0</td>\n",
       "      <td>50</td>\n",
       "      <td>1</td>\n",
       "      <td>166.445608</td>\n",
       "      <td>65.016732</td>\n",
       "      <td>9</td>\n",
       "      <td>7000000</td>\n",
       "      <td>134</td>\n",
       "      <td>202</td>\n",
       "      <td>1</td>\n",
       "      <td>11</td>\n",
       "      <td>...</td>\n",
       "      <td>1</td>\n",
       "      <td>0</td>\n",
       "      <td>1</td>\n",
       "      <td>0</td>\n",
       "      <td>0</td>\n",
       "      <td>2015</td>\n",
       "      <td>2</td>\n",
       "      <td>3</td>\n",
       "      <td>24182</td>\n",
       "      <td>0</td>\n",
       "    </tr>\n",
       "    <tr>\n",
       "      <td>1</td>\n",
       "      <td>68</td>\n",
       "      <td>0</td>\n",
       "      <td>164.334615</td>\n",
       "      <td>56.544217</td>\n",
       "      <td>0</td>\n",
       "      <td>7000000</td>\n",
       "      <td>438</td>\n",
       "      <td>263</td>\n",
       "      <td>3</td>\n",
       "      <td>14</td>\n",
       "      <td>...</td>\n",
       "      <td>0</td>\n",
       "      <td>1</td>\n",
       "      <td>1</td>\n",
       "      <td>0</td>\n",
       "      <td>0</td>\n",
       "      <td>2015</td>\n",
       "      <td>5</td>\n",
       "      <td>9</td>\n",
       "      <td>24185</td>\n",
       "      <td>0</td>\n",
       "    </tr>\n",
       "    <tr>\n",
       "      <td>2</td>\n",
       "      <td>77</td>\n",
       "      <td>1</td>\n",
       "      <td>167.462917</td>\n",
       "      <td>54.242267</td>\n",
       "      <td>2</td>\n",
       "      <td>6000000</td>\n",
       "      <td>313</td>\n",
       "      <td>325</td>\n",
       "      <td>1</td>\n",
       "      <td>18</td>\n",
       "      <td>...</td>\n",
       "      <td>1</td>\n",
       "      <td>0</td>\n",
       "      <td>1</td>\n",
       "      <td>0</td>\n",
       "      <td>0</td>\n",
       "      <td>2016</td>\n",
       "      <td>2</td>\n",
       "      <td>13</td>\n",
       "      <td>24194</td>\n",
       "      <td>1</td>\n",
       "    </tr>\n",
       "    <tr>\n",
       "      <td>3</td>\n",
       "      <td>17</td>\n",
       "      <td>1</td>\n",
       "      <td>177.097725</td>\n",
       "      <td>71.147762</td>\n",
       "      <td>3</td>\n",
       "      <td>8000000</td>\n",
       "      <td>342</td>\n",
       "      <td>213</td>\n",
       "      <td>2</td>\n",
       "      <td>11</td>\n",
       "      <td>...</td>\n",
       "      <td>0</td>\n",
       "      <td>0</td>\n",
       "      <td>1</td>\n",
       "      <td>0</td>\n",
       "      <td>0</td>\n",
       "      <td>2015</td>\n",
       "      <td>7</td>\n",
       "      <td>6</td>\n",
       "      <td>24187</td>\n",
       "      <td>0</td>\n",
       "    </tr>\n",
       "    <tr>\n",
       "      <td>4</td>\n",
       "      <td>62</td>\n",
       "      <td>0</td>\n",
       "      <td>158.165788</td>\n",
       "      <td>65.240697</td>\n",
       "      <td>1</td>\n",
       "      <td>9000000</td>\n",
       "      <td>327</td>\n",
       "      <td>102</td>\n",
       "      <td>0</td>\n",
       "      <td>14</td>\n",
       "      <td>...</td>\n",
       "      <td>0</td>\n",
       "      <td>1</td>\n",
       "      <td>1</td>\n",
       "      <td>1</td>\n",
       "      <td>0</td>\n",
       "      <td>2016</td>\n",
       "      <td>9</td>\n",
       "      <td>17</td>\n",
       "      <td>24201</td>\n",
       "      <td>1</td>\n",
       "    </tr>\n",
       "  </tbody>\n",
       "</table>\n",
       "<p>5 rows × 29 columns</p>\n",
       "</div>"
      ],
      "text/plain": [
       "   age  sex      height     weight  product   amount  medical_info_a1  \\\n",
       "0   50    1  166.445608  65.016732        9  7000000              134   \n",
       "1   68    0  164.334615  56.544217        0  7000000              438   \n",
       "2   77    1  167.462917  54.242267        2  6000000              313   \n",
       "3   17    1  177.097725  71.147762        3  8000000              342   \n",
       "4   62    0  158.165788  65.240697        1  9000000              327   \n",
       "\n",
       "   medical_info_a2  medical_info_a3  medical_info_b1  ...  medical_keyword_6  \\\n",
       "0              202                1               11  ...                  1   \n",
       "1              263                3               14  ...                  0   \n",
       "2              325                1               18  ...                  1   \n",
       "3              213                2               11  ...                  0   \n",
       "4              102                0               14  ...                  0   \n",
       "\n",
       "   medical_keyword_7  medical_keyword_8  medical_keyword_9  \\\n",
       "0                  0                  1                  0   \n",
       "1                  1                  1                  0   \n",
       "2                  0                  1                  0   \n",
       "3                  0                  1                  0   \n",
       "4                  1                  1                  1   \n",
       "\n",
       "   medical_keyword_10  year  month  day  yearmonth  target  \n",
       "0                   0  2015      2    3      24182       0  \n",
       "1                   0  2015      5    9      24185       0  \n",
       "2                   0  2016      2   13      24194       1  \n",
       "3                   0  2015      7    6      24187       0  \n",
       "4                   0  2016      9   17      24201       1  \n",
       "\n",
       "[5 rows x 29 columns]"
      ]
     },
     "execution_count": 6,
     "metadata": {},
     "output_type": "execute_result"
    }
   ],
   "source": [
    "train.head()"
   ]
  },
  {
   "cell_type": "code",
   "execution_count": 7,
   "metadata": {},
   "outputs": [
    {
     "data": {
      "text/plain": [
       "(10000, 29)"
      ]
     },
     "execution_count": 7,
     "metadata": {},
     "output_type": "execute_result"
    }
   ],
   "source": [
    "train.shape"
   ]
  },
  {
   "cell_type": "code",
   "execution_count": 8,
   "metadata": {},
   "outputs": [],
   "source": [
    "train_x = train.iloc[:, :28]\n",
    "train_y = train['target']\n",
    "test_x = test.copy()"
   ]
  },
  {
   "cell_type": "code",
   "execution_count": 11,
   "metadata": {},
   "outputs": [],
   "source": [
    "# KFoldクロスバリデーションによる分割の1つを使用し、学習データとバリデーションデータに分ける\n",
    "kf = KFold(n_splits=4, shuffle=True, random_state=71)\n",
    "##  トレーニングデータセットとテストデータセットにそれぞれ振り分けた要素番号のリスト\n",
    "tr_idx, va_idx = list(kf.split(train_x))[0]\n",
    "tr_x, va_x = train_x.iloc[tr_idx], train_x.iloc[va_idx]\n",
    "tr_y, va_y = train_y.iloc[tr_idx], train_y.iloc[va_idx]"
   ]
  },
  {
   "cell_type": "markdown",
   "metadata": {},
   "source": [
    "## hyperoptライブラリの使用"
   ]
  },
  {
   "cell_type": "code",
   "execution_count": 12,
   "metadata": {},
   "outputs": [],
   "source": [
    "# hp.choiceでは、複数の選択肢から選ぶ\n",
    "# hp.uniformでは、下限・上限を指定した一様分布から抽出する。引数は下限・上限\n",
    "# hp.quniformでは、下限・上限を指定した一様分布のうち一定の間隔ごとの点から抽出する。引数は下限・上限\n",
    "# hp.loguniformでは、下限・上限を指定した対数が一様分布に従う分布から抽出する。引数は下限・上限の対数をとった値\n",
    "\n",
    "space = {\n",
    "    'activation': hp.choice('activation', ['prelu', 'relu']),\n",
    "    'dropout': hp.uniform('dropout', 0, 0.2),\n",
    "    'units': hp.quniform('units', 32, 256, 32),\n",
    "    'learning_rate': hp.loguniform('learning_rate', np.log(0.00001), np.log(0.01)),\n",
    "}"
   ]
  },
  {
   "cell_type": "markdown",
   "metadata": {},
   "source": [
    "hyperoptを使用したパラメータ探索は、以下のようになる。\n",
    "1. チューニングしたいパラメータを引数にとり、最小化したい評価指標のスコアを返す関数を作成する。\n",
    "  - その関数では、モデルを引数のパラメータで学習させ、バリデーションデータへの予測を行い、評価指標のスコアを計算する処理を行う。\n",
    "2. hyperoptのfmin関数に、その作成した関数、探索するパラメータの空間、探索回数などを指定することで探索する。"
   ]
  },
  {
   "cell_type": "code",
   "execution_count": 17,
   "metadata": {},
   "outputs": [],
   "source": [
    "def score(params):\n",
    "    # パラメータを与えたときに最小化する評価指標を指定する\n",
    "    # 具体的には、モデルにパラメータを指定して学習・予測させた場合のスコアを返すようにする\n",
    "    \n",
    "    # max_depthの型を整数型に修正する\n",
    "    params['max_depth'] = int(params['max_depth'])\n",
    "    \n",
    "    # Modelクラスを定義しているものとする\n",
    "    ## Modelクラスは、fitで学習し、predictで予測値の確率を出力する\n",
    "    model = Model(params)\n",
    "    model.fit(tr_x, tr_y, va_x, va_y)\n",
    "    \n",
    "    va_pred = model.predict(va_x)\n",
    "    score = log_loss(va_y, va_pred)\n",
    "    print(f'pramas: {params}, logloss: {score:.4f}')\n",
    "    \n",
    "    # 情報を記録しておく\n",
    "    history.append((params, score))\n",
    "    \n",
    "    return {'loss': score, 'status': STATUS_OK}\n",
    "\n"
   ]
  },
  {
   "cell_type": "code",
   "execution_count": null,
   "metadata": {},
   "outputs": [],
   "source": [
    "# 探索するパラメータの空間を指定する\n",
    "space2 = {\n",
    "    'min_child_weight': hp.quniform('min_child_weight', 1, 5, 1),\n",
    "    'max_depth': hp.quniform('max_depth', 3, 9, 1),\n",
    "    'gamma': hp.quniform('gamma', 0, 0.4, 0.1)\n",
    "}\n",
    "\n",
    "# hyperoptによるパラメータ探索の実行\n",
    "max_evals = 10\n",
    "trials = Trials()\n",
    "history = []\n",
    "fmin(score, space2, algo=tpe.suggest, trials=trials, max_evals=max_evals)\n",
    "\n",
    "# 記録した情報からパラメータとスコアを出力する\n",
    "# (trialsからも情報を取得できるが、パラメータの取得がやや行いづらいため)\n",
    "history = sorted(history, key=lambda tpl: tpl[1])\n",
    "best = history[0]\n",
    "print(f'best params: {best[0]}, score: {best[1]:.4f}')"
   ]
  },
  {
   "cell_type": "code",
   "execution_count": null,
   "metadata": {},
   "outputs": [],
   "source": []
  }
 ],
 "metadata": {
  "kernelspec": {
   "display_name": "Python 3",
   "language": "python",
   "name": "python3"
  },
  "language_info": {
   "codemirror_mode": {
    "name": "ipython",
    "version": 3
   },
   "file_extension": ".py",
   "mimetype": "text/x-python",
   "name": "python",
   "nbconvert_exporter": "python",
   "pygments_lexer": "ipython3",
   "version": "3.7.4"
  }
 },
 "nbformat": 4,
 "nbformat_minor": 2
}
