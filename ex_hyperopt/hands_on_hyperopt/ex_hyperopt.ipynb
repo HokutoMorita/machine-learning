{
 "cells": [
  {
   "cell_type": "markdown",
   "metadata": {},
   "source": [
    "# ベイズ最適化（hyperopt）でのパラメータ探索\n",
    "\n",
    "参考資料\n",
    "- https://qiita.com/nazoking@github/items/f67f92dc60001a43b7dc"
   ]
  },
  {
   "cell_type": "markdown",
   "metadata": {},
   "source": [
    "## 必要なライブラリのインポート"
   ]
  },
  {
   "cell_type": "code",
   "execution_count": 20,
   "metadata": {},
   "outputs": [],
   "source": [
    "import numpy as np\n",
    "import pandas as pd\n",
    "\n",
    "from hyperopt import hp, fmin, tpe, STATUS_OK, Trials\n",
    "\n",
    "from sklearn.model_selection import KFold\n",
    "from sklearn.metrics import log_loss\n",
    "\n",
    "import xgboost as xgb"
   ]
  },
  {
   "cell_type": "markdown",
   "metadata": {},
   "source": [
    "## データセットの取得\n",
    "\n",
    "データセットはこちらのURLにアップデートされているものを使用\\\n",
    "https://github.com/ghmagazine/kagglebook/tree/master/input/sample-data"
   ]
  },
  {
   "cell_type": "code",
   "execution_count": 5,
   "metadata": {},
   "outputs": [],
   "source": [
    "# train_xは学習データ、train_yは目的変数、test_xはテストデータ\n",
    "train = pd.read_csv('train_preprocessed.csv')\n",
    "test = pd.read_csv('test_preprocessed.csv')"
   ]
  },
  {
   "cell_type": "code",
   "execution_count": 6,
   "metadata": {},
   "outputs": [
    {
     "data": {
      "text/html": [
       "<div>\n",
       "<style scoped>\n",
       "    .dataframe tbody tr th:only-of-type {\n",
       "        vertical-align: middle;\n",
       "    }\n",
       "\n",
       "    .dataframe tbody tr th {\n",
       "        vertical-align: top;\n",
       "    }\n",
       "\n",
       "    .dataframe thead th {\n",
       "        text-align: right;\n",
       "    }\n",
       "</style>\n",
       "<table border=\"1\" class=\"dataframe\">\n",
       "  <thead>\n",
       "    <tr style=\"text-align: right;\">\n",
       "      <th></th>\n",
       "      <th>age</th>\n",
       "      <th>sex</th>\n",
       "      <th>height</th>\n",
       "      <th>weight</th>\n",
       "      <th>product</th>\n",
       "      <th>amount</th>\n",
       "      <th>medical_info_a1</th>\n",
       "      <th>medical_info_a2</th>\n",
       "      <th>medical_info_a3</th>\n",
       "      <th>medical_info_b1</th>\n",
       "      <th>...</th>\n",
       "      <th>medical_keyword_6</th>\n",
       "      <th>medical_keyword_7</th>\n",
       "      <th>medical_keyword_8</th>\n",
       "      <th>medical_keyword_9</th>\n",
       "      <th>medical_keyword_10</th>\n",
       "      <th>year</th>\n",
       "      <th>month</th>\n",
       "      <th>day</th>\n",
       "      <th>yearmonth</th>\n",
       "      <th>target</th>\n",
       "    </tr>\n",
       "  </thead>\n",
       "  <tbody>\n",
       "    <tr>\n",
       "      <td>0</td>\n",
       "      <td>50</td>\n",
       "      <td>1</td>\n",
       "      <td>166.445608</td>\n",
       "      <td>65.016732</td>\n",
       "      <td>9</td>\n",
       "      <td>7000000</td>\n",
       "      <td>134</td>\n",
       "      <td>202</td>\n",
       "      <td>1</td>\n",
       "      <td>11</td>\n",
       "      <td>...</td>\n",
       "      <td>1</td>\n",
       "      <td>0</td>\n",
       "      <td>1</td>\n",
       "      <td>0</td>\n",
       "      <td>0</td>\n",
       "      <td>2015</td>\n",
       "      <td>2</td>\n",
       "      <td>3</td>\n",
       "      <td>24182</td>\n",
       "      <td>0</td>\n",
       "    </tr>\n",
       "    <tr>\n",
       "      <td>1</td>\n",
       "      <td>68</td>\n",
       "      <td>0</td>\n",
       "      <td>164.334615</td>\n",
       "      <td>56.544217</td>\n",
       "      <td>0</td>\n",
       "      <td>7000000</td>\n",
       "      <td>438</td>\n",
       "      <td>263</td>\n",
       "      <td>3</td>\n",
       "      <td>14</td>\n",
       "      <td>...</td>\n",
       "      <td>0</td>\n",
       "      <td>1</td>\n",
       "      <td>1</td>\n",
       "      <td>0</td>\n",
       "      <td>0</td>\n",
       "      <td>2015</td>\n",
       "      <td>5</td>\n",
       "      <td>9</td>\n",
       "      <td>24185</td>\n",
       "      <td>0</td>\n",
       "    </tr>\n",
       "    <tr>\n",
       "      <td>2</td>\n",
       "      <td>77</td>\n",
       "      <td>1</td>\n",
       "      <td>167.462917</td>\n",
       "      <td>54.242267</td>\n",
       "      <td>2</td>\n",
       "      <td>6000000</td>\n",
       "      <td>313</td>\n",
       "      <td>325</td>\n",
       "      <td>1</td>\n",
       "      <td>18</td>\n",
       "      <td>...</td>\n",
       "      <td>1</td>\n",
       "      <td>0</td>\n",
       "      <td>1</td>\n",
       "      <td>0</td>\n",
       "      <td>0</td>\n",
       "      <td>2016</td>\n",
       "      <td>2</td>\n",
       "      <td>13</td>\n",
       "      <td>24194</td>\n",
       "      <td>1</td>\n",
       "    </tr>\n",
       "    <tr>\n",
       "      <td>3</td>\n",
       "      <td>17</td>\n",
       "      <td>1</td>\n",
       "      <td>177.097725</td>\n",
       "      <td>71.147762</td>\n",
       "      <td>3</td>\n",
       "      <td>8000000</td>\n",
       "      <td>342</td>\n",
       "      <td>213</td>\n",
       "      <td>2</td>\n",
       "      <td>11</td>\n",
       "      <td>...</td>\n",
       "      <td>0</td>\n",
       "      <td>0</td>\n",
       "      <td>1</td>\n",
       "      <td>0</td>\n",
       "      <td>0</td>\n",
       "      <td>2015</td>\n",
       "      <td>7</td>\n",
       "      <td>6</td>\n",
       "      <td>24187</td>\n",
       "      <td>0</td>\n",
       "    </tr>\n",
       "    <tr>\n",
       "      <td>4</td>\n",
       "      <td>62</td>\n",
       "      <td>0</td>\n",
       "      <td>158.165788</td>\n",
       "      <td>65.240697</td>\n",
       "      <td>1</td>\n",
       "      <td>9000000</td>\n",
       "      <td>327</td>\n",
       "      <td>102</td>\n",
       "      <td>0</td>\n",
       "      <td>14</td>\n",
       "      <td>...</td>\n",
       "      <td>0</td>\n",
       "      <td>1</td>\n",
       "      <td>1</td>\n",
       "      <td>1</td>\n",
       "      <td>0</td>\n",
       "      <td>2016</td>\n",
       "      <td>9</td>\n",
       "      <td>17</td>\n",
       "      <td>24201</td>\n",
       "      <td>1</td>\n",
       "    </tr>\n",
       "  </tbody>\n",
       "</table>\n",
       "<p>5 rows × 29 columns</p>\n",
       "</div>"
      ],
      "text/plain": [
       "   age  sex      height     weight  product   amount  medical_info_a1  \\\n",
       "0   50    1  166.445608  65.016732        9  7000000              134   \n",
       "1   68    0  164.334615  56.544217        0  7000000              438   \n",
       "2   77    1  167.462917  54.242267        2  6000000              313   \n",
       "3   17    1  177.097725  71.147762        3  8000000              342   \n",
       "4   62    0  158.165788  65.240697        1  9000000              327   \n",
       "\n",
       "   medical_info_a2  medical_info_a3  medical_info_b1  ...  medical_keyword_6  \\\n",
       "0              202                1               11  ...                  1   \n",
       "1              263                3               14  ...                  0   \n",
       "2              325                1               18  ...                  1   \n",
       "3              213                2               11  ...                  0   \n",
       "4              102                0               14  ...                  0   \n",
       "\n",
       "   medical_keyword_7  medical_keyword_8  medical_keyword_9  \\\n",
       "0                  0                  1                  0   \n",
       "1                  1                  1                  0   \n",
       "2                  0                  1                  0   \n",
       "3                  0                  1                  0   \n",
       "4                  1                  1                  1   \n",
       "\n",
       "   medical_keyword_10  year  month  day  yearmonth  target  \n",
       "0                   0  2015      2    3      24182       0  \n",
       "1                   0  2015      5    9      24185       0  \n",
       "2                   0  2016      2   13      24194       1  \n",
       "3                   0  2015      7    6      24187       0  \n",
       "4                   0  2016      9   17      24201       1  \n",
       "\n",
       "[5 rows x 29 columns]"
      ]
     },
     "execution_count": 6,
     "metadata": {},
     "output_type": "execute_result"
    }
   ],
   "source": [
    "train.head()"
   ]
  },
  {
   "cell_type": "code",
   "execution_count": 7,
   "metadata": {},
   "outputs": [
    {
     "data": {
      "text/plain": [
       "(10000, 29)"
      ]
     },
     "execution_count": 7,
     "metadata": {},
     "output_type": "execute_result"
    }
   ],
   "source": [
    "train.shape"
   ]
  },
  {
   "cell_type": "code",
   "execution_count": 8,
   "metadata": {},
   "outputs": [],
   "source": [
    "train_x = train.iloc[:, :28]\n",
    "train_y = train['target']\n",
    "test_x = test.copy()"
   ]
  },
  {
   "cell_type": "code",
   "execution_count": 11,
   "metadata": {},
   "outputs": [],
   "source": [
    "# KFoldクロスバリデーションによる分割の1つを使用し、学習データとバリデーションデータに分ける\n",
    "kf = KFold(n_splits=4, shuffle=True, random_state=71)\n",
    "##  トレーニングデータセットとテストデータセットにそれぞれ振り分けた要素番号のリスト\n",
    "tr_idx, va_idx = list(kf.split(train_x))[0]\n",
    "tr_x, va_x = train_x.iloc[tr_idx], train_x.iloc[va_idx]\n",
    "tr_y, va_y = train_y.iloc[tr_idx], train_y.iloc[va_idx]"
   ]
  },
  {
   "cell_type": "markdown",
   "metadata": {},
   "source": [
    "## hyperoptライブラリの使用"
   ]
  },
  {
   "cell_type": "code",
   "execution_count": 21,
   "metadata": {},
   "outputs": [],
   "source": [
    "class Model:\n",
    "\n",
    "    def __init__(self, params=None):\n",
    "        self.model = None\n",
    "        if params is None:\n",
    "            self.params = {}\n",
    "        else:\n",
    "            self.params = params\n",
    "\n",
    "    def fit(self, tr_x, tr_y, va_x, va_y):\n",
    "        params = {'objective': 'binary:logistic', 'silent': 1, 'random_state': 71}\n",
    "        params.update(self.params)\n",
    "        num_round = 10\n",
    "        dtrain = xgb.DMatrix(tr_x, label=tr_y)\n",
    "        dvalid = xgb.DMatrix(va_x, label=va_y)\n",
    "        watchlist = [(dtrain, 'train'), (dvalid, 'eval')]\n",
    "        self.model = xgb.train(params, dtrain, num_round, evals=watchlist)\n",
    "\n",
    "    def predict(self, x):\n",
    "        data = xgb.DMatrix(x)\n",
    "        pred = self.model.predict(data)\n",
    "        return pred"
   ]
  },
  {
   "cell_type": "code",
   "execution_count": 12,
   "metadata": {},
   "outputs": [],
   "source": [
    "# hp.choiceでは、複数の選択肢から選ぶ\n",
    "# hp.uniformでは、下限・上限を指定した一様分布から抽出する。引数は下限・上限\n",
    "# hp.quniformでは、下限・上限を指定した一様分布のうち一定の間隔ごとの点から抽出する。引数は下限・上限\n",
    "# hp.loguniformでは、下限・上限を指定した対数が一様分布に従う分布から抽出する。引数は下限・上限の対数をとった値\n",
    "\n",
    "space = {\n",
    "    'activation': hp.choice('activation', ['prelu', 'relu']),\n",
    "    'dropout': hp.uniform('dropout', 0, 0.2),\n",
    "    'units': hp.quniform('units', 32, 256, 32),\n",
    "    'learning_rate': hp.loguniform('learning_rate', np.log(0.00001), np.log(0.01)),\n",
    "}"
   ]
  },
  {
   "cell_type": "markdown",
   "metadata": {},
   "source": [
    "hyperoptを使用したパラメータ探索は、以下のようになる。\n",
    "1. チューニングしたいパラメータを引数にとり、最小化したい評価指標のスコアを返す関数を作成する。\n",
    "  - その関数では、モデルを引数のパラメータで学習させ、バリデーションデータへの予測を行い、評価指標のスコアを計算する処理を行う。\n",
    "2. hyperoptのfmin関数に、その作成した関数、探索するパラメータの空間、探索回数などを指定することで探索する。"
   ]
  },
  {
   "cell_type": "code",
   "execution_count": 17,
   "metadata": {},
   "outputs": [],
   "source": [
    "def score(params):\n",
    "    # パラメータを与えたときに最小化する評価指標を指定する\n",
    "    # 具体的には、モデルにパラメータを指定して学習・予測させた場合のスコアを返すようにする\n",
    "    \n",
    "    # max_depthの型を整数型に修正する\n",
    "    params['max_depth'] = int(params['max_depth'])\n",
    "    \n",
    "    # Modelクラスを定義しているものとする\n",
    "    ## Modelクラスは、fitで学習し、predictで予測値の確率を出力する\n",
    "    model = Model(params)\n",
    "    model.fit(tr_x, tr_y, va_x, va_y)\n",
    "    \n",
    "    va_pred = model.predict(va_x)\n",
    "    score = log_loss(va_y, va_pred)\n",
    "    print(f'pramas: {params}, logloss: {score:.4f}')\n",
    "    \n",
    "    # 情報を記録しておく\n",
    "    history.append((params, score))\n",
    "    \n",
    "    return {'loss': score, 'status': STATUS_OK}\n",
    "\n"
   ]
  },
  {
   "cell_type": "code",
   "execution_count": 22,
   "metadata": {},
   "outputs": [
    {
     "name": "stdout",
     "output_type": "stream",
     "text": [
      "[0]\ttrain-error:0.122533\teval-error:0.1424            \n",
      "\n",
      "[1]\ttrain-error:0.108\teval-error:0.1328               \n",
      "\n",
      "[2]\ttrain-error:0.101333\teval-error:0.1356            \n",
      "\n",
      "[3]\ttrain-error:0.0932\teval-error:0.13                \n",
      "\n",
      "[4]\ttrain-error:0.0884\teval-error:0.1284              \n",
      "\n",
      "[5]\ttrain-error:0.079867\teval-error:0.126             \n",
      "\n",
      "  0%|          | 0/10 [00:00<?, ?trial/s, best loss=?]"
     ]
    },
    {
     "name": "stderr",
     "output_type": "stream",
     "text": [
      "/opt/anaconda3/lib/python3.7/site-packages/xgboost/core.py:587: FutureWarning: Series.base is deprecated and will be removed in a future version\n",
      "  if getattr(data, 'base', None) is not None and \\\n",
      "\n"
     ]
    },
    {
     "name": "stdout",
     "output_type": "stream",
     "text": [
      "[6]\ttrain-error:0.0744\teval-error:0.1212              \n",
      "\n",
      "[7]\ttrain-error:0.067467\teval-error:0.1164            \n",
      "\n",
      "[8]\ttrain-error:0.066133\teval-error:0.1168            \n",
      "\n",
      "[9]\ttrain-error:0.060533\teval-error:0.112             \n",
      "\n",
      "pramas: {'gamma': 0.1, 'max_depth': 9, 'min_child_weight': 5.0}, logloss: 0.2800\n",
      "[0]\ttrain-error:0.154\teval-error:0.1624                                         \n",
      "\n",
      "[1]\ttrain-error:0.1476\teval-error:0.1604                                        \n",
      "\n",
      "[2]\ttrain-error:0.1388\teval-error:0.1512                                        \n",
      "\n",
      "[3]\ttrain-error:0.1416\teval-error:0.1516                                        \n",
      "\n",
      "[4]\ttrain-error:0.135067\teval-error:0.1456                                      \n",
      "\n",
      "[5]\ttrain-error:0.130267\teval-error:0.1428                                      \n",
      "\n",
      "[6]\ttrain-error:0.1272\teval-error:0.1408                                        \n",
      "\n",
      "[7]\ttrain-error:0.123333\teval-error:0.1416                                      \n",
      "\n",
      "[8]\ttrain-error:0.116933\teval-error:0.134                                       \n",
      "\n",
      "[9]\ttrain-error:0.1136\teval-error:0.1328                                        \n",
      "\n",
      "pramas: {'gamma': 0.1, 'max_depth': 4, 'min_child_weight': 2.0}, logloss: 0.3219\n",
      " 20%|██        | 2/10 [00:00<00:02,  3.24trial/s, best loss: 0.2799878002092242]"
     ]
    },
    {
     "name": "stderr",
     "output_type": "stream",
     "text": [
      "/opt/anaconda3/lib/python3.7/site-packages/xgboost/core.py:587: FutureWarning: Series.base is deprecated and will be removed in a future version\n",
      "  if getattr(data, 'base', None) is not None and \\\n",
      "\n",
      "/opt/anaconda3/lib/python3.7/site-packages/xgboost/core.py:587: FutureWarning: Series.base is deprecated and will be removed in a future version\n",
      "  if getattr(data, 'base', None) is not None and \\\n",
      "\n"
     ]
    },
    {
     "name": "stdout",
     "output_type": "stream",
     "text": [
      "[0]\ttrain-error:0.142133\teval-error:0.1564                                      \n",
      "\n",
      "[1]\ttrain-error:0.134933\teval-error:0.1524                                      \n",
      "\n",
      "[2]\ttrain-error:0.125867\teval-error:0.1416                                      \n",
      "\n",
      "[3]\ttrain-error:0.123067\teval-error:0.142                                       \n",
      "\n",
      "[4]\ttrain-error:0.116533\teval-error:0.1424                                      \n",
      "\n",
      "[5]\ttrain-error:0.114133\teval-error:0.142                                       \n",
      "\n",
      "[6]\ttrain-error:0.110133\teval-error:0.1364                                      \n",
      "\n",
      "[7]\ttrain-error:0.105333\teval-error:0.1316                                      \n",
      "\n",
      "[8]\ttrain-error:0.103333\teval-error:0.1288                                      \n",
      "\n",
      "[9]\ttrain-error:0.098267\teval-error:0.1272                                      \n",
      "\n",
      "pramas: {'gamma': 0.30000000000000004, 'max_depth': 5, 'min_child_weight': 4.0}, logloss: 0.3147\n",
      "[0]\ttrain-error:0.131333\teval-error:0.1544                                      \n",
      "\n",
      "[1]\ttrain-error:0.119733\teval-error:0.146                                       \n",
      "\n",
      "[2]\ttrain-error:0.113733\teval-error:0.138                                       \n",
      "\n",
      "[3]\ttrain-error:0.1076\teval-error:0.1392                                        \n",
      "\n",
      "[4]\ttrain-error:0.101333\teval-error:0.1364                                      \n",
      "\n",
      "[5]\ttrain-error:0.099867\teval-error:0.1368                                      \n",
      "\n",
      "[6]\ttrain-error:0.096133\teval-error:0.1288                                      \n",
      "\n",
      "[7]\ttrain-error:0.091467\teval-error:0.132                                       \n",
      "\n",
      "[8]\ttrain-error:0.087067\teval-error:0.1284                                      \n",
      "\n",
      " 30%|███       | 3/10 [00:00<00:01,  3.60trial/s, best loss: 0.2799878002092242]"
     ]
    },
    {
     "name": "stderr",
     "output_type": "stream",
     "text": [
      "/opt/anaconda3/lib/python3.7/site-packages/xgboost/core.py:587: FutureWarning: Series.base is deprecated and will be removed in a future version\n",
      "  if getattr(data, 'base', None) is not None and \\\n",
      "\n"
     ]
    },
    {
     "name": "stdout",
     "output_type": "stream",
     "text": [
      "[9]\ttrain-error:0.080267\teval-error:0.1224                                      \n",
      "\n",
      "pramas: {'gamma': 0.30000000000000004, 'max_depth': 6, 'min_child_weight': 3.0}, logloss: 0.3009\n",
      "[0]\ttrain-error:0.106133\teval-error:0.144                                       \n",
      "\n",
      "[1]\ttrain-error:0.091333\teval-error:0.1428                                      \n",
      "\n",
      "[2]\ttrain-error:0.0808\teval-error:0.1384                                        \n",
      "\n",
      "[3]\ttrain-error:0.076533\teval-error:0.1356                                      \n",
      "\n",
      "[4]\ttrain-error:0.071733\teval-error:0.1304                                      \n",
      "\n",
      "[5]\ttrain-error:0.062533\teval-error:0.1216                                      \n",
      "\n",
      " 40%|████      | 4/10 [00:01<00:01,  3.78trial/s, best loss: 0.2799878002092242]"
     ]
    },
    {
     "name": "stderr",
     "output_type": "stream",
     "text": [
      "/opt/anaconda3/lib/python3.7/site-packages/xgboost/core.py:587: FutureWarning: Series.base is deprecated and will be removed in a future version\n",
      "  if getattr(data, 'base', None) is not None and \\\n",
      "\n"
     ]
    },
    {
     "name": "stdout",
     "output_type": "stream",
     "text": [
      "[6]\ttrain-error:0.054267\teval-error:0.1236                                      \n",
      "\n",
      "[7]\ttrain-error:0.049867\teval-error:0.1208                                      \n",
      "\n",
      "[8]\ttrain-error:0.045867\teval-error:0.118                                       \n",
      "\n",
      "[9]\ttrain-error:0.040267\teval-error:0.1188                                      \n",
      "\n",
      "pramas: {'gamma': 0.4, 'max_depth': 9, 'min_child_weight': 2.0}, logloss: 0.2809\n",
      "[0]\ttrain-error:0.141867\teval-error:0.1564                                      \n",
      "\n",
      "[1]\ttrain-error:0.135333\teval-error:0.1516                                      \n",
      "\n",
      "[2]\ttrain-error:0.1272\teval-error:0.1488                                        \n",
      "\n",
      "[3]\ttrain-error:0.1228\teval-error:0.1424                                        \n",
      "\n",
      "[4]\ttrain-error:0.118533\teval-error:0.144                                       \n",
      "\n",
      "[5]\ttrain-error:0.112933\teval-error:0.1384                                      \n",
      "\n",
      "[6]\ttrain-error:0.108667\teval-error:0.1332                                      \n",
      "\n",
      "[7]\ttrain-error:0.104933\teval-error:0.1336                                      \n",
      "\n",
      "[8]\ttrain-error:0.0996\teval-error:0.1284                                        \n",
      "\n",
      "[9]\ttrain-error:0.0972\teval-error:0.126                                         \n",
      "\n",
      " 50%|█████     | 5/10 [00:01<00:01,  3.61trial/s, best loss: 0.2799878002092242]"
     ]
    },
    {
     "name": "stderr",
     "output_type": "stream",
     "text": [
      "/opt/anaconda3/lib/python3.7/site-packages/xgboost/core.py:587: FutureWarning: Series.base is deprecated and will be removed in a future version\n",
      "  if getattr(data, 'base', None) is not None and \\\n",
      "\n"
     ]
    },
    {
     "name": "stdout",
     "output_type": "stream",
     "text": [
      "pramas: {'gamma': 0.30000000000000004, 'max_depth': 5, 'min_child_weight': 2.0}, logloss: 0.3093\n",
      "[0]\ttrain-error:0.106133\teval-error:0.144                                       \n",
      "\n",
      "[1]\ttrain-error:0.090933\teval-error:0.1428                                      \n",
      "\n",
      "[2]\ttrain-error:0.080133\teval-error:0.1384                                      \n",
      "\n",
      "[3]\ttrain-error:0.074667\teval-error:0.1332                                      \n",
      "\n",
      "[4]\ttrain-error:0.068667\teval-error:0.1292                                      \n",
      "\n",
      "[5]\ttrain-error:0.062133\teval-error:0.13                                        \n",
      "\n",
      " 60%|██████    | 6/10 [00:01<00:01,  3.89trial/s, best loss: 0.2799878002092242]"
     ]
    },
    {
     "name": "stderr",
     "output_type": "stream",
     "text": [
      "/opt/anaconda3/lib/python3.7/site-packages/xgboost/core.py:587: FutureWarning: Series.base is deprecated and will be removed in a future version\n",
      "  if getattr(data, 'base', None) is not None and \\\n",
      "\n"
     ]
    },
    {
     "name": "stdout",
     "output_type": "stream",
     "text": [
      "[6]\ttrain-error:0.053867\teval-error:0.1272                                      \n",
      "\n",
      "[7]\ttrain-error:0.0492\teval-error:0.1236                                        \n",
      "\n",
      "[8]\ttrain-error:0.0436\teval-error:0.1204                                        \n",
      "\n",
      "[9]\ttrain-error:0.038\teval-error:0.12                                           \n",
      "\n",
      "pramas: {'gamma': 0.0, 'max_depth': 9, 'min_child_weight': 2.0}, logloss: 0.2849\n",
      "[0]\ttrain-error:0.128533\teval-error:0.1516                                      \n",
      "\n",
      "[1]\ttrain-error:0.115333\teval-error:0.146                                       \n",
      "\n",
      "[2]\ttrain-error:0.109333\teval-error:0.1376                                      \n",
      "\n",
      "[3]\ttrain-error:0.105333\teval-error:0.1364                                      \n",
      "\n",
      "[4]\ttrain-error:0.096933\teval-error:0.1384                                      \n",
      "\n",
      "[5]\ttrain-error:0.094667\teval-error:0.1364                                      \n",
      "\n",
      "[6]\ttrain-error:0.087333\teval-error:0.1296                                      \n",
      "\n",
      "[7]\ttrain-error:0.084933\teval-error:0.1244                                      \n",
      "\n",
      "[8]\ttrain-error:0.078133\teval-error:0.1208                                      \n",
      "\n",
      " 70%|███████   | 7/10 [00:02<00:00,  3.68trial/s, best loss: 0.2799878002092242]"
     ]
    },
    {
     "name": "stderr",
     "output_type": "stream",
     "text": [
      "/opt/anaconda3/lib/python3.7/site-packages/xgboost/core.py:587: FutureWarning: Series.base is deprecated and will be removed in a future version\n",
      "  if getattr(data, 'base', None) is not None and \\\n",
      "\n"
     ]
    },
    {
     "name": "stdout",
     "output_type": "stream",
     "text": [
      "[9]\ttrain-error:0.073733\teval-error:0.1172                                      \n",
      "\n",
      "pramas: {'gamma': 0.0, 'max_depth': 6, 'min_child_weight': 1.0}, logloss: 0.3009\n",
      "[0]\ttrain-error:0.121067\teval-error:0.1408                                      \n",
      "\n",
      "[1]\ttrain-error:0.111067\teval-error:0.1404                                      \n",
      "\n",
      "[2]\ttrain-error:0.105733\teval-error:0.1376                                      \n",
      "\n",
      "[3]\ttrain-error:0.096\teval-error:0.1312                                         \n",
      "\n",
      "[4]\ttrain-error:0.0892\teval-error:0.1292                                        \n",
      "\n",
      "[5]\ttrain-error:0.084933\teval-error:0.1248                                      \n",
      "\n",
      "[6]\ttrain-error:0.080267\teval-error:0.124                                       \n",
      "\n",
      "[7]\ttrain-error:0.076533\teval-error:0.12                                        \n",
      "\n",
      " 80%|████████  | 8/10 [00:02<00:00,  3.85trial/s, best loss: 0.2799878002092242]"
     ]
    },
    {
     "name": "stderr",
     "output_type": "stream",
     "text": [
      "/opt/anaconda3/lib/python3.7/site-packages/xgboost/core.py:587: FutureWarning: Series.base is deprecated and will be removed in a future version\n",
      "  if getattr(data, 'base', None) is not None and \\\n",
      "\n"
     ]
    },
    {
     "name": "stdout",
     "output_type": "stream",
     "text": [
      "[8]\ttrain-error:0.072133\teval-error:0.1192                                      \n",
      "\n",
      "[9]\ttrain-error:0.068667\teval-error:0.1208                                      \n",
      "\n",
      "pramas: {'gamma': 0.2, 'max_depth': 7, 'min_child_weight': 3.0}, logloss: 0.2927\n",
      "[0]\ttrain-error:0.107867\teval-error:0.1424                                      \n",
      "\n",
      "[1]\ttrain-error:0.0952\teval-error:0.1412                                        \n",
      "\n",
      "[2]\ttrain-error:0.081067\teval-error:0.1312                                      \n",
      "\n",
      "[3]\ttrain-error:0.073467\teval-error:0.1268                                      \n",
      "\n",
      "[4]\ttrain-error:0.0684\teval-error:0.124                                         \n",
      "\n",
      "[5]\ttrain-error:0.060933\teval-error:0.1224                                      \n",
      "\n",
      "[6]\ttrain-error:0.055467\teval-error:0.1212                                      \n",
      "\n",
      " 90%|█████████ | 9/10 [00:02<00:00,  3.89trial/s, best loss: 0.2799878002092242]"
     ]
    },
    {
     "name": "stderr",
     "output_type": "stream",
     "text": [
      "/opt/anaconda3/lib/python3.7/site-packages/xgboost/core.py:587: FutureWarning: Series.base is deprecated and will be removed in a future version\n",
      "  if getattr(data, 'base', None) is not None and \\\n",
      "\n"
     ]
    },
    {
     "name": "stdout",
     "output_type": "stream",
     "text": [
      "[7]\ttrain-error:0.050533\teval-error:0.114                                       \n",
      "\n",
      "[8]\ttrain-error:0.045067\teval-error:0.1092                                      \n",
      "\n",
      "[9]\ttrain-error:0.0416\teval-error:0.11                                          \n",
      "\n",
      "pramas: {'gamma': 0.1, 'max_depth': 8, 'min_child_weight': 1.0}, logloss: 0.2798\n",
      "100%|██████████| 10/10 [00:02<00:00,  3.88trial/s, best loss: 0.2797985085770488]\n",
      "best params: {'gamma': 0.1, 'max_depth': 8, 'min_child_weight': 1.0}, score: 0.2798\n"
     ]
    }
   ],
   "source": [
    "# 探索するパラメータの空間を指定する\n",
    "space2 = {\n",
    "    'min_child_weight': hp.quniform('min_child_weight', 1, 5, 1),\n",
    "    'max_depth': hp.quniform('max_depth', 3, 9, 1),\n",
    "    'gamma': hp.quniform('gamma', 0, 0.4, 0.1)\n",
    "}\n",
    "\n",
    "# hyperoptによるパラメータ探索の実行\n",
    "## max_evals: 何回探索するかを指定\n",
    "max_evals = 10\n",
    "\n",
    "# Trialsは探索中に計算されたすべての戻り値を検査する。\n",
    "## trials.trials: 検索のすべてを表す辞書のリスト\n",
    "## trials.results: 検索中に 'objective'によって返された辞書のリスト\n",
    "## trials.losses(): 損失の浮動小数点リスト（STATUS_OKとなった場合のscore）\n",
    "## trials.statuses(): ステータス文字列のリスト\n",
    "trials = Trials()\n",
    "history = []\n",
    "fmin(score, space2, algo=tpe.suggest, trials=trials, max_evals=max_evals)\n",
    "\n",
    "# 記録した情報からパラメータとスコアを出力する\n",
    "# (trialsからも情報を取得できるが、パラメータの取得がやや行いづらいため)\n",
    "history = sorted(history, key=lambda tpl: tpl[1])\n",
    "best = history[0]\n",
    "print(f'best params: {best[0]}, score: {best[1]:.4f}')"
   ]
  },
  {
   "cell_type": "code",
   "execution_count": null,
   "metadata": {},
   "outputs": [],
   "source": []
  }
 ],
 "metadata": {
  "kernelspec": {
   "display_name": "Python 3",
   "language": "python",
   "name": "python3"
  },
  "language_info": {
   "codemirror_mode": {
    "name": "ipython",
    "version": 3
   },
   "file_extension": ".py",
   "mimetype": "text/x-python",
   "name": "python",
   "nbconvert_exporter": "python",
   "pygments_lexer": "ipython3",
   "version": "3.7.4"
  }
 },
 "nbformat": 4,
 "nbformat_minor": 2
}
