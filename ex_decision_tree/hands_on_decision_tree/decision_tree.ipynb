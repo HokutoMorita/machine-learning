{
 "cells": [
  {
   "cell_type": "markdown",
   "metadata": {},
   "source": [
    "# 決定木"
   ]
  },
  {
   "cell_type": "code",
   "execution_count": 26,
   "metadata": {},
   "outputs": [],
   "source": [
    "import pandas as pd\n",
    "import numpy as np\n",
    "from matplotlib import pyplot as plt\n",
    "# ジュピターノートブック上でグラフを表示させるための処理\n",
    "%matplotlib inline\n",
    "\n",
    "import mglearn\n",
    "\n",
    "from sklearn.datasets import load_breast_cancer\n",
    "from sklearn.datasets import make_moons\n",
    "from sklearn.model_selection import train_test_split\n",
    "from sklearn.tree import DecisionTreeClassifier\n",
    "from sklearn.ensemble import RandomForestClassifier\n",
    "\n",
    "# 決定木の可視化をするために必要\n",
    "from sklearn.tree import export_graphviz\n",
    "import pydotplus\n",
    "from IPython.display import Image\n",
    "import graphviz"
   ]
  },
  {
   "cell_type": "markdown",
   "metadata": {},
   "source": [
    "## データセットの準備"
   ]
  },
  {
   "cell_type": "code",
   "execution_count": 2,
   "metadata": {},
   "outputs": [
    {
     "name": "stdout",
     "output_type": "stream",
     "text": [
      "[[ 9.96346605  4.59676542]\n",
      " [11.0329545  -0.16816717]\n",
      " [11.54155807  5.21116083]\n",
      " [ 8.69289001  1.54322016]\n",
      " [ 8.1062269   4.28695977]\n",
      " [ 8.30988863  4.80623966]\n",
      " [11.93027136  4.64866327]\n",
      " [ 9.67284681 -0.20283165]\n",
      " [ 8.34810316  5.13415623]\n",
      " [ 8.67494727  4.47573059]\n",
      " [ 9.17748385  5.09283177]\n",
      " [10.24028948  2.45544401]\n",
      " [ 8.68937095  1.48709629]\n",
      " [ 8.92229526 -0.63993225]\n",
      " [ 9.49123469  4.33224792]\n",
      " [ 9.25694192  5.13284858]\n",
      " [ 7.99815287  4.8525051 ]\n",
      " [ 8.18378052  1.29564214]\n",
      " [ 8.7337095   2.49162431]\n",
      " [ 9.32298256  5.09840649]\n",
      " [10.06393839  0.99078055]\n",
      " [ 9.50048972 -0.26430318]\n",
      " [ 8.34468785  1.63824349]\n",
      " [ 9.50169345  1.93824624]\n",
      " [ 9.15072323  5.49832246]\n",
      " [11.563957    1.3389402 ]]\n"
     ]
    },
    {
     "name": "stderr",
     "output_type": "stream",
     "text": [
      "/opt/anaconda3/lib/python3.7/site-packages/sklearn/utils/deprecation.py:85: DeprecationWarning: Function make_blobs is deprecated; Please import make_blobs directly from scikit-learn\n",
      "  warnings.warn(msg, category=DeprecationWarning)\n"
     ]
    }
   ],
   "source": [
    "# データセットの生成\n",
    "X, y = mglearn.datasets.make_forge()\n",
    "\n",
    "print(X)"
   ]
  },
  {
   "cell_type": "code",
   "execution_count": 3,
   "metadata": {},
   "outputs": [
    {
     "name": "stderr",
     "output_type": "stream",
     "text": [
      "findfont: Font family ['IPAexGothic'] not found. Falling back to DejaVu Sans.\n"
     ]
    },
    {
     "name": "stdout",
     "output_type": "stream",
     "text": [
      "X.shape: (26, 2)\n"
     ]
    },
    {
     "data": {
      "image/png": "[encoded data removed]",
      "text/plain": [
       "<Figure size 432x288 with 1 Axes>"
      ]
     },
     "metadata": {
      "needs_background": "light"
     },
     "output_type": "display_data"
    }
   ],
   "source": [
    "# データセットをプロット\n",
    "mglearn.discrete_scatter(X[:, 0], X[:, 1], y)\n",
    "plt.legend([\"Class 0\", \"Class 1\"], loc=4)\n",
    "plt.xlabel(\"First feature\")\n",
    "plt.ylabel(\"Second feature\")\n",
    "print(\"X.shape: {}\".format(X.shape))"
   ]
  },
  {
   "cell_type": "markdown",
   "metadata": {},
   "source": [
    "⬆︎ X.shapeからわかるように、このデータセットは、2つの特徴量を持つ26のデータポイントで構成されている。"
   ]
  },
  {
   "cell_type": "code",
   "execution_count": 5,
   "metadata": {},
   "outputs": [
    {
     "name": "stdout",
     "output_type": "stream",
     "text": [
      "cancer.keys(): \n",
      "dict_keys(['data', 'target', 'target_names', 'DESCR', 'feature_names', 'filename'])\n"
     ]
    }
   ],
   "source": [
    "cancer = load_breast_cancer()\n",
    "print(\"cancer.keys(): \\n{}\".format(cancer.keys()))"
   ]
  },
  {
   "cell_type": "code",
   "execution_count": 6,
   "metadata": {},
   "outputs": [
    {
     "name": "stdout",
     "output_type": "stream",
     "text": [
      "Shape of cancer data: (569, 30)\n"
     ]
    }
   ],
   "source": [
    "print(\"Shape of cancer data: {}\".format(cancer.data.shape))"
   ]
  },
  {
   "cell_type": "markdown",
   "metadata": {},
   "source": [
    "⬆︎このデータセットは、30の特徴量を持つ569のデータポイントで構成されている。"
   ]
  },
  {
   "cell_type": "code",
   "execution_count": 8,
   "metadata": {},
   "outputs": [
    {
     "name": "stdout",
     "output_type": "stream",
     "text": [
      "Sample counts per class:\n",
      "{'malignant': 212, 'benign': 357}\n"
     ]
    }
   ],
   "source": [
    "print(\"Sample counts per class:\\n{}\".format({n: v for n, v in zip(cancer.target_names, np.bincount(cancer.target))}))"
   ]
  },
  {
   "cell_type": "markdown",
   "metadata": {},
   "source": [
    "⬆︎ 569のデータポイントのうち、212が悪性で357が良性である。\\\n",
    "\n",
    "Sample counts per class: クラスごとのサンプルの個数\\\n",
    "benign: 357\\\n",
    "malignant: 212"
   ]
  },
  {
   "cell_type": "code",
   "execution_count": 9,
   "metadata": {},
   "outputs": [
    {
     "name": "stdout",
     "output_type": "stream",
     "text": [
      "Feature names:\n",
      "['mean radius' 'mean texture' 'mean perimeter' 'mean area'\n",
      " 'mean smoothness' 'mean compactness' 'mean concavity'\n",
      " 'mean concave points' 'mean symmetry' 'mean fractal dimension'\n",
      " 'radius error' 'texture error' 'perimeter error' 'area error'\n",
      " 'smoothness error' 'compactness error' 'concavity error'\n",
      " 'concave points error' 'symmetry error' 'fractal dimension error'\n",
      " 'worst radius' 'worst texture' 'worst perimeter' 'worst area'\n",
      " 'worst smoothness' 'worst compactness' 'worst concavity'\n",
      " 'worst concave points' 'worst symmetry' 'worst fractal dimension']\n"
     ]
    }
   ],
   "source": [
    "print(\"Feature names:\\n{}\".format(cancer.feature_names))"
   ]
  },
  {
   "cell_type": "markdown",
   "metadata": {},
   "source": [
    "⬆︎個々の特徴量の意味を示す記述は、feature_names属性に格納されている。"
   ]
  },
  {
   "cell_type": "code",
   "execution_count": 12,
   "metadata": {},
   "outputs": [],
   "source": [
    "# トレーニングデータセットとテストデータセットに分割\n",
    "X_train, X_test, y_train, y_test = train_test_split(cancer.data, cancer.target, stratify=cancer.target, random_state=42)"
   ]
  },
  {
   "cell_type": "markdown",
   "metadata": {},
   "source": [
    "## 決定木の解析"
   ]
  },
  {
   "cell_type": "code",
   "execution_count": 10,
   "metadata": {},
   "outputs": [
    {
     "data": {
      "image/png": "[encoded data removed]",
      "text/plain": [
       "<Figure size 432x288 with 1 Axes>"
      ]
     },
     "metadata": {
      "needs_background": "light"
     },
     "output_type": "display_data"
    }
   ],
   "source": [
    "mglearn.plots.plot_animal_tree()"
   ]
  },
  {
   "cell_type": "markdown",
   "metadata": {},
   "source": [
    "### 決定木の葉をピュア(純粋、過学習)の状態にしてモデルを作成"
   ]
  },
  {
   "cell_type": "code",
   "execution_count": 13,
   "metadata": {},
   "outputs": [
    {
     "data": {
      "text/plain": [
       "DecisionTreeClassifier(class_weight=None, criterion='gini', max_depth=None,\n",
       "                       max_features=None, max_leaf_nodes=None,\n",
       "                       min_impurity_decrease=0.0, min_impurity_split=None,\n",
       "                       min_samples_leaf=1, min_samples_split=2,\n",
       "                       min_weight_fraction_leaf=0.0, presort=False,\n",
       "                       random_state=0, splitter='best')"
      ]
     },
     "execution_count": 13,
     "metadata": {},
     "output_type": "execute_result"
    }
   ],
   "source": [
    "tree = DecisionTreeClassifier(random_state=0)\n",
    "tree.fit(X_train, y_train)"
   ]
  },
  {
   "cell_type": "code",
   "execution_count": 14,
   "metadata": {},
   "outputs": [
    {
     "name": "stdout",
     "output_type": "stream",
     "text": [
      "Accuracy on training set: 1.000\n",
      "Accuracy on test set: 0.937\n"
     ]
    }
   ],
   "source": [
    "print(\"Accuracy on training set: {:.3f}\".format(tree.score(X_train, y_train)))\n",
    "print(\"Accuracy on test set: {:.3f}\".format(tree.score(X_test, y_test)))"
   ]
  },
  {
   "cell_type": "markdown",
   "metadata": {},
   "source": [
    "### 決定木の深さを指定して過学習を防ぐ"
   ]
  },
  {
   "cell_type": "code",
   "execution_count": 15,
   "metadata": {},
   "outputs": [
    {
     "data": {
      "text/plain": [
       "DecisionTreeClassifier(class_weight=None, criterion='gini', max_depth=4,\n",
       "                       max_features=None, max_leaf_nodes=None,\n",
       "                       min_impurity_decrease=0.0, min_impurity_split=None,\n",
       "                       min_samples_leaf=1, min_samples_split=2,\n",
       "                       min_weight_fraction_leaf=0.0, presort=False,\n",
       "                       random_state=0, splitter='best')"
      ]
     },
     "execution_count": 15,
     "metadata": {},
     "output_type": "execute_result"
    }
   ],
   "source": [
    "tree2 = DecisionTreeClassifier(max_depth=4, random_state=0)\n",
    "tree2.fit(X_train, y_train)"
   ]
  },
  {
   "cell_type": "code",
   "execution_count": 16,
   "metadata": {},
   "outputs": [
    {
     "name": "stdout",
     "output_type": "stream",
     "text": [
      "Accuracy on training set: 0.988\n",
      "Accuracy on test set: 0.951\n"
     ]
    }
   ],
   "source": [
    "print(\"Accuracy on training set: {:.3f}\".format(tree2.score(X_train, y_train)))\n",
    "print(\"Accuracy on test set: {:.3f}\".format(tree2.score(X_test, y_test)))"
   ]
  },
  {
   "cell_type": "markdown",
   "metadata": {},
   "source": [
    "### 決定木の可視化"
   ]
  },
  {
   "cell_type": "code",
   "execution_count": 18,
   "metadata": {},
   "outputs": [],
   "source": [
    "export_graphviz(tree2, \n",
    "                              out_file=\"tree.dot\", \n",
    "                              class_names=[\"malignant\", \"benign\"], \n",
    "                              feature_names=cancer.feature_names, \n",
    "                              impurity=False, \n",
    "                              filled=True)"
   ]
  },
  {
   "cell_type": "code",
   "execution_count": 20,
   "metadata": {},
   "outputs": [
    {
     "data": {
      "image/svg+xml": [
       "<?xml version=\"1.0\" encoding=\"UTF-8\" standalone=\"no\"?>\n",
       "<!DOCTYPE svg PUBLIC \"-//W3C//DTD SVG 1.1//EN\"\n",
       " \"http://www.w3.org/Graphics/SVG/1.1/DTD/svg11.dtd\">\n",
       "<!-- Generated by graphviz version 2.43.0 (0)\n",
       " -->\n",
       "<!-- Title: Tree Pages: 1 -->\n",
       "<svg width=\"1031pt\" height=\"458pt\"\n",
       " viewBox=\"0.00 0.00 1031.15 458.00\" xmlns=\"http://www.w3.org/2000/svg\" xmlns:xlink=\"http://www.w3.org/1999/xlink\">\n",
       "<g id=\"graph0\" class=\"graph\" transform=\"scale(1 1) rotate(0) translate(4 454)\">\n",
       "<title>Tree</title>\n",
       "<polygon fill=\"white\" stroke=\"transparent\" points=\"-4,4 -4,-454 1027.15,-454 1027.15,4 -4,4\"/>\n",
       "<!-- 0 -->\n",
       "<g id=\"node1\" class=\"node\">\n",
       "<title>0</title>\n",
       "<polygon fill=\"#afd7f4\" stroke=\"black\" points=\"641.22,-450 494.99,-450 494.99,-386 641.22,-386 641.22,-450\"/>\n",
       "<text text-anchor=\"middle\" x=\"568.11\" y=\"-434.8\" font-family=\"Times,serif\" font-size=\"14.00\">worst radius &lt;= 16.795</text>\n",
       "<text text-anchor=\"middle\" x=\"568.11\" y=\"-420.8\" font-family=\"Times,serif\" font-size=\"14.00\">samples = 426</text>\n",
       "<text text-anchor=\"middle\" x=\"568.11\" y=\"-406.8\" font-family=\"Times,serif\" font-size=\"14.00\">value = [159, 267]</text>\n",
       "<text text-anchor=\"middle\" x=\"568.11\" y=\"-392.8\" font-family=\"Times,serif\" font-size=\"14.00\">class = benign</text>\n",
       "</g>\n",
       "<!-- 1 -->\n",
       "<g id=\"node2\" class=\"node\">\n",
       "<title>1</title>\n",
       "<polygon fill=\"#4ca6e8\" stroke=\"black\" points=\"551.59,-350 362.62,-350 362.62,-286 551.59,-286 551.59,-350\"/>\n",
       "<text text-anchor=\"middle\" x=\"457.11\" y=\"-334.8\" font-family=\"Times,serif\" font-size=\"14.00\">worst concave points &lt;= 0.136</text>\n",
       "<text text-anchor=\"middle\" x=\"457.11\" y=\"-320.8\" font-family=\"Times,serif\" font-size=\"14.00\">samples = 284</text>\n",
       "<text text-anchor=\"middle\" x=\"457.11\" y=\"-306.8\" font-family=\"Times,serif\" font-size=\"14.00\">value = [25, 259]</text>\n",
       "<text text-anchor=\"middle\" x=\"457.11\" y=\"-292.8\" font-family=\"Times,serif\" font-size=\"14.00\">class = benign</text>\n",
       "</g>\n",
       "<!-- 0&#45;&gt;1 -->\n",
       "<g id=\"edge1\" class=\"edge\">\n",
       "<title>0&#45;&gt;1</title>\n",
       "<path fill=\"none\" stroke=\"black\" d=\"M532.99,-385.99C522.56,-376.79 511.02,-366.6 500.15,-357\"/>\n",
       "<polygon fill=\"black\" stroke=\"black\" points=\"502.19,-354.14 492.38,-350.14 497.56,-359.38 502.19,-354.14\"/>\n",
       "<text text-anchor=\"middle\" x=\"493.93\" y=\"-370.89\" font-family=\"Times,serif\" font-size=\"14.00\">True</text>\n",
       "</g>\n",
       "<!-- 14 -->\n",
       "<g id=\"node15\" class=\"node\">\n",
       "<title>14</title>\n",
       "<polygon fill=\"#e78945\" stroke=\"black\" points=\"719.97,-350 580.25,-350 580.25,-286 719.97,-286 719.97,-350\"/>\n",
       "<text text-anchor=\"middle\" x=\"650.11\" y=\"-334.8\" font-family=\"Times,serif\" font-size=\"14.00\">texture error &lt;= 0.473</text>\n",
       "<text text-anchor=\"middle\" x=\"650.11\" y=\"-320.8\" font-family=\"Times,serif\" font-size=\"14.00\">samples = 142</text>\n",
       "<text text-anchor=\"middle\" x=\"650.11\" y=\"-306.8\" font-family=\"Times,serif\" font-size=\"14.00\">value = [134, 8]</text>\n",
       "<text text-anchor=\"middle\" x=\"650.11\" y=\"-292.8\" font-family=\"Times,serif\" font-size=\"14.00\">class = malignant</text>\n",
       "</g>\n",
       "<!-- 0&#45;&gt;14 -->\n",
       "<g id=\"edge14\" class=\"edge\">\n",
       "<title>0&#45;&gt;14</title>\n",
       "<path fill=\"none\" stroke=\"black\" d=\"M594.05,-385.99C601.53,-377.06 609.78,-367.19 617.61,-357.84\"/>\n",
       "<polygon fill=\"black\" stroke=\"black\" points=\"620.32,-360.06 624.05,-350.14 614.95,-355.57 620.32,-360.06\"/>\n",
       "<text text-anchor=\"middle\" x=\"626.26\" y=\"-370.84\" font-family=\"Times,serif\" font-size=\"14.00\">False</text>\n",
       "</g>\n",
       "<!-- 2 -->\n",
       "<g id=\"node3\" class=\"node\">\n",
       "<title>2</title>\n",
       "<polygon fill=\"#3c9fe5\" stroke=\"black\" points=\"354.81,-250 219.4,-250 219.4,-186 354.81,-186 354.81,-250\"/>\n",
       "<text text-anchor=\"middle\" x=\"287.11\" y=\"-234.8\" font-family=\"Times,serif\" font-size=\"14.00\">radius error &lt;= 1.048</text>\n",
       "<text text-anchor=\"middle\" x=\"287.11\" y=\"-220.8\" font-family=\"Times,serif\" font-size=\"14.00\">samples = 252</text>\n",
       "<text text-anchor=\"middle\" x=\"287.11\" y=\"-206.8\" font-family=\"Times,serif\" font-size=\"14.00\">value = [4, 248]</text>\n",
       "<text text-anchor=\"middle\" x=\"287.11\" y=\"-192.8\" font-family=\"Times,serif\" font-size=\"14.00\">class = benign</text>\n",
       "</g>\n",
       "<!-- 1&#45;&gt;2 -->\n",
       "<g id=\"edge2\" class=\"edge\">\n",
       "<title>1&#45;&gt;2</title>\n",
       "<path fill=\"none\" stroke=\"black\" d=\"M403.32,-285.99C386.42,-276.25 367.61,-265.41 350.13,-255.33\"/>\n",
       "<polygon fill=\"black\" stroke=\"black\" points=\"351.54,-252.1 341.13,-250.14 348.04,-258.17 351.54,-252.1\"/>\n",
       "</g>\n",
       "<!-- 7 -->\n",
       "<g id=\"node8\" class=\"node\">\n",
       "<title>7</title>\n",
       "<polygon fill=\"#f3c3a1\" stroke=\"black\" points=\"528.88,-250 385.34,-250 385.34,-186 528.88,-186 528.88,-250\"/>\n",
       "<text text-anchor=\"middle\" x=\"457.11\" y=\"-234.8\" font-family=\"Times,serif\" font-size=\"14.00\">worst texture &lt;= 25.62</text>\n",
       "<text text-anchor=\"middle\" x=\"457.11\" y=\"-220.8\" font-family=\"Times,serif\" font-size=\"14.00\">samples = 32</text>\n",
       "<text text-anchor=\"middle\" x=\"457.11\" y=\"-206.8\" font-family=\"Times,serif\" font-size=\"14.00\">value = [21, 11]</text>\n",
       "<text text-anchor=\"middle\" x=\"457.11\" y=\"-192.8\" font-family=\"Times,serif\" font-size=\"14.00\">class = malignant</text>\n",
       "</g>\n",
       "<!-- 1&#45;&gt;7 -->\n",
       "<g id=\"edge7\" class=\"edge\">\n",
       "<title>1&#45;&gt;7</title>\n",
       "<path fill=\"none\" stroke=\"black\" d=\"M457.11,-285.99C457.11,-277.86 457.11,-268.96 457.11,-260.38\"/>\n",
       "<polygon fill=\"black\" stroke=\"black\" points=\"460.61,-260.14 457.11,-250.14 453.61,-260.14 460.61,-260.14\"/>\n",
       "</g>\n",
       "<!-- 3 -->\n",
       "<g id=\"node4\" class=\"node\">\n",
       "<title>3</title>\n",
       "<polygon fill=\"#3b9ee5\" stroke=\"black\" points=\"212.44,-150 45.78,-150 45.78,-86 212.44,-86 212.44,-150\"/>\n",
       "<text text-anchor=\"middle\" x=\"129.11\" y=\"-134.8\" font-family=\"Times,serif\" font-size=\"14.00\">smoothness error &lt;= 0.003</text>\n",
       "<text text-anchor=\"middle\" x=\"129.11\" y=\"-120.8\" font-family=\"Times,serif\" font-size=\"14.00\">samples = 251</text>\n",
       "<text text-anchor=\"middle\" x=\"129.11\" y=\"-106.8\" font-family=\"Times,serif\" font-size=\"14.00\">value = [3, 248]</text>\n",
       "<text text-anchor=\"middle\" x=\"129.11\" y=\"-92.8\" font-family=\"Times,serif\" font-size=\"14.00\">class = benign</text>\n",
       "</g>\n",
       "<!-- 2&#45;&gt;3 -->\n",
       "<g id=\"edge3\" class=\"edge\">\n",
       "<title>2&#45;&gt;3</title>\n",
       "<path fill=\"none\" stroke=\"black\" d=\"M237.11,-185.99C221.55,-176.34 204.25,-165.61 188.13,-155.61\"/>\n",
       "<polygon fill=\"black\" stroke=\"black\" points=\"189.66,-152.44 179.32,-150.14 185.97,-158.39 189.66,-152.44\"/>\n",
       "</g>\n",
       "<!-- 6 -->\n",
       "<g id=\"node7\" class=\"node\">\n",
       "<title>6</title>\n",
       "<polygon fill=\"#e58139\" stroke=\"black\" points=\"344.2,-143 230.01,-143 230.01,-93 344.2,-93 344.2,-143\"/>\n",
       "<text text-anchor=\"middle\" x=\"287.11\" y=\"-127.8\" font-family=\"Times,serif\" font-size=\"14.00\">samples = 1</text>\n",
       "<text text-anchor=\"middle\" x=\"287.11\" y=\"-113.8\" font-family=\"Times,serif\" font-size=\"14.00\">value = [1, 0]</text>\n",
       "<text text-anchor=\"middle\" x=\"287.11\" y=\"-99.8\" font-family=\"Times,serif\" font-size=\"14.00\">class = malignant</text>\n",
       "</g>\n",
       "<!-- 2&#45;&gt;6 -->\n",
       "<g id=\"edge6\" class=\"edge\">\n",
       "<title>2&#45;&gt;6</title>\n",
       "<path fill=\"none\" stroke=\"black\" d=\"M287.11,-185.99C287.11,-175.65 287.11,-164.06 287.11,-153.46\"/>\n",
       "<polygon fill=\"black\" stroke=\"black\" points=\"290.61,-153.29 287.11,-143.29 283.61,-153.29 290.61,-153.29\"/>\n",
       "</g>\n",
       "<!-- 4 -->\n",
       "<g id=\"node5\" class=\"node\">\n",
       "<title>4</title>\n",
       "<polygon fill=\"#7bbeee\" stroke=\"black\" points=\"96.32,-50 -0.11,-50 -0.11,0 96.32,0 96.32,-50\"/>\n",
       "<text text-anchor=\"middle\" x=\"48.11\" y=\"-34.8\" font-family=\"Times,serif\" font-size=\"14.00\">samples = 4</text>\n",
       "<text text-anchor=\"middle\" x=\"48.11\" y=\"-20.8\" font-family=\"Times,serif\" font-size=\"14.00\">value = [1, 3]</text>\n",
       "<text text-anchor=\"middle\" x=\"48.11\" y=\"-6.8\" font-family=\"Times,serif\" font-size=\"14.00\">class = benign</text>\n",
       "</g>\n",
       "<!-- 3&#45;&gt;4 -->\n",
       "<g id=\"edge4\" class=\"edge\">\n",
       "<title>3&#45;&gt;4</title>\n",
       "<path fill=\"none\" stroke=\"black\" d=\"M101.46,-85.94C93.29,-76.77 84.35,-66.72 76.16,-57.52\"/>\n",
       "<polygon fill=\"black\" stroke=\"black\" points=\"78.76,-55.17 69.5,-50.03 73.53,-59.83 78.76,-55.17\"/>\n",
       "</g>\n",
       "<!-- 5 -->\n",
       "<g id=\"node6\" class=\"node\">\n",
       "<title>5</title>\n",
       "<polygon fill=\"#3b9ee5\" stroke=\"black\" points=\"219.64,-50 114.57,-50 114.57,0 219.64,0 219.64,-50\"/>\n",
       "<text text-anchor=\"middle\" x=\"167.11\" y=\"-34.8\" font-family=\"Times,serif\" font-size=\"14.00\">samples = 247</text>\n",
       "<text text-anchor=\"middle\" x=\"167.11\" y=\"-20.8\" font-family=\"Times,serif\" font-size=\"14.00\">value = [2, 245]</text>\n",
       "<text text-anchor=\"middle\" x=\"167.11\" y=\"-6.8\" font-family=\"Times,serif\" font-size=\"14.00\">class = benign</text>\n",
       "</g>\n",
       "<!-- 3&#45;&gt;5 -->\n",
       "<g id=\"edge5\" class=\"edge\">\n",
       "<title>3&#45;&gt;5</title>\n",
       "<path fill=\"none\" stroke=\"black\" d=\"M142.08,-85.94C145.64,-77.41 149.52,-68.12 153.13,-59.47\"/>\n",
       "<polygon fill=\"black\" stroke=\"black\" points=\"156.45,-60.61 157.07,-50.03 149.99,-57.91 156.45,-60.61\"/>\n",
       "</g>\n",
       "<!-- 8 -->\n",
       "<g id=\"node9\" class=\"node\">\n",
       "<title>8</title>\n",
       "<polygon fill=\"#7bbeee\" stroke=\"black\" points=\"532.35,-150 361.87,-150 361.87,-86 532.35,-86 532.35,-150\"/>\n",
       "<text text-anchor=\"middle\" x=\"447.11\" y=\"-134.8\" font-family=\"Times,serif\" font-size=\"14.00\">worst smoothness &lt;= 0.179</text>\n",
       "<text text-anchor=\"middle\" x=\"447.11\" y=\"-120.8\" font-family=\"Times,serif\" font-size=\"14.00\">samples = 12</text>\n",
       "<text text-anchor=\"middle\" x=\"447.11\" y=\"-106.8\" font-family=\"Times,serif\" font-size=\"14.00\">value = [3, 9]</text>\n",
       "<text text-anchor=\"middle\" x=\"447.11\" y=\"-92.8\" font-family=\"Times,serif\" font-size=\"14.00\">class = benign</text>\n",
       "</g>\n",
       "<!-- 7&#45;&gt;8 -->\n",
       "<g id=\"edge8\" class=\"edge\">\n",
       "<title>7&#45;&gt;8</title>\n",
       "<path fill=\"none\" stroke=\"black\" d=\"M453.94,-185.99C453.1,-177.77 452.18,-168.76 451.3,-160.09\"/>\n",
       "<polygon fill=\"black\" stroke=\"black\" points=\"454.78,-159.74 450.28,-150.14 447.82,-160.45 454.78,-159.74\"/>\n",
       "</g>\n",
       "<!-- 11 -->\n",
       "<g id=\"node12\" class=\"node\">\n",
       "<title>11</title>\n",
       "<polygon fill=\"#e88f4f\" stroke=\"black\" points=\"711.5,-150 550.71,-150 550.71,-86 711.5,-86 711.5,-150\"/>\n",
       "<text text-anchor=\"middle\" x=\"631.11\" y=\"-134.8\" font-family=\"Times,serif\" font-size=\"14.00\">worst symmetry &lt;= 0.268</text>\n",
       "<text text-anchor=\"middle\" x=\"631.11\" y=\"-120.8\" font-family=\"Times,serif\" font-size=\"14.00\">samples = 20</text>\n",
       "<text text-anchor=\"middle\" x=\"631.11\" y=\"-106.8\" font-family=\"Times,serif\" font-size=\"14.00\">value = [18, 2]</text>\n",
       "<text text-anchor=\"middle\" x=\"631.11\" y=\"-92.8\" font-family=\"Times,serif\" font-size=\"14.00\">class = malignant</text>\n",
       "</g>\n",
       "<!-- 7&#45;&gt;11 -->\n",
       "<g id=\"edge11\" class=\"edge\">\n",
       "<title>7&#45;&gt;11</title>\n",
       "<path fill=\"none\" stroke=\"black\" d=\"M512.16,-185.99C529.62,-176.16 549.06,-165.21 567.09,-155.05\"/>\n",
       "<polygon fill=\"black\" stroke=\"black\" points=\"568.82,-158.1 575.81,-150.14 565.38,-152 568.82,-158.1\"/>\n",
       "</g>\n",
       "<!-- 9 -->\n",
       "<g id=\"node10\" class=\"node\">\n",
       "<title>9</title>\n",
       "<polygon fill=\"#4fa8e8\" stroke=\"black\" points=\"372.32,-50 275.89,-50 275.89,0 372.32,0 372.32,-50\"/>\n",
       "<text text-anchor=\"middle\" x=\"324.11\" y=\"-34.8\" font-family=\"Times,serif\" font-size=\"14.00\">samples = 10</text>\n",
       "<text text-anchor=\"middle\" x=\"324.11\" y=\"-20.8\" font-family=\"Times,serif\" font-size=\"14.00\">value = [1, 9]</text>\n",
       "<text text-anchor=\"middle\" x=\"324.11\" y=\"-6.8\" font-family=\"Times,serif\" font-size=\"14.00\">class = benign</text>\n",
       "</g>\n",
       "<!-- 8&#45;&gt;9 -->\n",
       "<g id=\"edge9\" class=\"edge\">\n",
       "<title>8&#45;&gt;9</title>\n",
       "<path fill=\"none\" stroke=\"black\" d=\"M405.12,-85.94C392.1,-76.31 377.79,-65.72 364.86,-56.15\"/>\n",
       "<polygon fill=\"black\" stroke=\"black\" points=\"366.71,-53.16 356.59,-50.03 362.54,-58.79 366.71,-53.16\"/>\n",
       "</g>\n",
       "<!-- 10 -->\n",
       "<g id=\"node11\" class=\"node\">\n",
       "<title>10</title>\n",
       "<polygon fill=\"#e58139\" stroke=\"black\" points=\"504.2,-50 390.01,-50 390.01,0 504.2,0 504.2,-50\"/>\n",
       "<text text-anchor=\"middle\" x=\"447.11\" y=\"-34.8\" font-family=\"Times,serif\" font-size=\"14.00\">samples = 2</text>\n",
       "<text text-anchor=\"middle\" x=\"447.11\" y=\"-20.8\" font-family=\"Times,serif\" font-size=\"14.00\">value = [2, 0]</text>\n",
       "<text text-anchor=\"middle\" x=\"447.11\" y=\"-6.8\" font-family=\"Times,serif\" font-size=\"14.00\">class = malignant</text>\n",
       "</g>\n",
       "<!-- 8&#45;&gt;10 -->\n",
       "<g id=\"edge10\" class=\"edge\">\n",
       "<title>8&#45;&gt;10</title>\n",
       "<path fill=\"none\" stroke=\"black\" d=\"M447.11,-85.94C447.11,-77.68 447.11,-68.72 447.11,-60.31\"/>\n",
       "<polygon fill=\"black\" stroke=\"black\" points=\"450.61,-60.03 447.11,-50.03 443.61,-60.03 450.61,-60.03\"/>\n",
       "</g>\n",
       "<!-- 12 -->\n",
       "<g id=\"node13\" class=\"node\">\n",
       "<title>12</title>\n",
       "<polygon fill=\"#9ccef2\" stroke=\"black\" points=\"618.32,-50 521.89,-50 521.89,0 618.32,0 618.32,-50\"/>\n",
       "<text text-anchor=\"middle\" x=\"570.11\" y=\"-34.8\" font-family=\"Times,serif\" font-size=\"14.00\">samples = 3</text>\n",
       "<text text-anchor=\"middle\" x=\"570.11\" y=\"-20.8\" font-family=\"Times,serif\" font-size=\"14.00\">value = [1, 2]</text>\n",
       "<text text-anchor=\"middle\" x=\"570.11\" y=\"-6.8\" font-family=\"Times,serif\" font-size=\"14.00\">class = benign</text>\n",
       "</g>\n",
       "<!-- 11&#45;&gt;12 -->\n",
       "<g id=\"edge12\" class=\"edge\">\n",
       "<title>11&#45;&gt;12</title>\n",
       "<path fill=\"none\" stroke=\"black\" d=\"M610.28,-85.94C604.32,-77.04 597.81,-67.32 591.79,-58.35\"/>\n",
       "<polygon fill=\"black\" stroke=\"black\" points=\"594.69,-56.39 586.21,-50.03 588.88,-60.29 594.69,-56.39\"/>\n",
       "</g>\n",
       "<!-- 13 -->\n",
       "<g id=\"node14\" class=\"node\">\n",
       "<title>13</title>\n",
       "<polygon fill=\"#e58139\" stroke=\"black\" points=\"750.2,-50 636.01,-50 636.01,0 750.2,0 750.2,-50\"/>\n",
       "<text text-anchor=\"middle\" x=\"693.11\" y=\"-34.8\" font-family=\"Times,serif\" font-size=\"14.00\">samples = 17</text>\n",
       "<text text-anchor=\"middle\" x=\"693.11\" y=\"-20.8\" font-family=\"Times,serif\" font-size=\"14.00\">value = [17, 0]</text>\n",
       "<text text-anchor=\"middle\" x=\"693.11\" y=\"-6.8\" font-family=\"Times,serif\" font-size=\"14.00\">class = malignant</text>\n",
       "</g>\n",
       "<!-- 11&#45;&gt;13 -->\n",
       "<g id=\"edge13\" class=\"edge\">\n",
       "<title>11&#45;&gt;13</title>\n",
       "<path fill=\"none\" stroke=\"black\" d=\"M652.27,-85.94C658.33,-77.04 664.95,-67.32 671.06,-58.35\"/>\n",
       "<polygon fill=\"black\" stroke=\"black\" points=\"674,-60.26 676.73,-50.03 668.21,-56.32 674,-60.26\"/>\n",
       "</g>\n",
       "<!-- 15 -->\n",
       "<g id=\"node16\" class=\"node\">\n",
       "<title>15</title>\n",
       "<polygon fill=\"#399de5\" stroke=\"black\" points=\"698.32,-243 601.89,-243 601.89,-193 698.32,-193 698.32,-243\"/>\n",
       "<text text-anchor=\"middle\" x=\"650.11\" y=\"-227.8\" font-family=\"Times,serif\" font-size=\"14.00\">samples = 5</text>\n",
       "<text text-anchor=\"middle\" x=\"650.11\" y=\"-213.8\" font-family=\"Times,serif\" font-size=\"14.00\">value = [0, 5]</text>\n",
       "<text text-anchor=\"middle\" x=\"650.11\" y=\"-199.8\" font-family=\"Times,serif\" font-size=\"14.00\">class = benign</text>\n",
       "</g>\n",
       "<!-- 14&#45;&gt;15 -->\n",
       "<g id=\"edge15\" class=\"edge\">\n",
       "<title>14&#45;&gt;15</title>\n",
       "<path fill=\"none\" stroke=\"black\" d=\"M650.11,-285.99C650.11,-275.65 650.11,-264.06 650.11,-253.46\"/>\n",
       "<polygon fill=\"black\" stroke=\"black\" points=\"653.61,-253.29 650.11,-243.29 646.61,-253.29 653.61,-253.29\"/>\n",
       "</g>\n",
       "<!-- 16 -->\n",
       "<g id=\"node17\" class=\"node\">\n",
       "<title>16</title>\n",
       "<polygon fill=\"#e6843d\" stroke=\"black\" points=\"895.93,-250 736.28,-250 736.28,-186 895.93,-186 895.93,-250\"/>\n",
       "<text text-anchor=\"middle\" x=\"816.11\" y=\"-234.8\" font-family=\"Times,serif\" font-size=\"14.00\">worst concavity &lt;= 0.191</text>\n",
       "<text text-anchor=\"middle\" x=\"816.11\" y=\"-220.8\" font-family=\"Times,serif\" font-size=\"14.00\">samples = 137</text>\n",
       "<text text-anchor=\"middle\" x=\"816.11\" y=\"-206.8\" font-family=\"Times,serif\" font-size=\"14.00\">value = [134, 3]</text>\n",
       "<text text-anchor=\"middle\" x=\"816.11\" y=\"-192.8\" font-family=\"Times,serif\" font-size=\"14.00\">class = malignant</text>\n",
       "</g>\n",
       "<!-- 14&#45;&gt;16 -->\n",
       "<g id=\"edge16\" class=\"edge\">\n",
       "<title>14&#45;&gt;16</title>\n",
       "<path fill=\"none\" stroke=\"black\" d=\"M702.63,-285.99C719.13,-276.25 737.5,-265.41 754.57,-255.33\"/>\n",
       "<polygon fill=\"black\" stroke=\"black\" points=\"756.52,-258.24 763.35,-250.14 752.96,-252.21 756.52,-258.24\"/>\n",
       "</g>\n",
       "<!-- 17 -->\n",
       "<g id=\"node18\" class=\"node\">\n",
       "<title>17</title>\n",
       "<polygon fill=\"#bddef6\" stroke=\"black\" points=\"891.38,-150 740.84,-150 740.84,-86 891.38,-86 891.38,-150\"/>\n",
       "<text text-anchor=\"middle\" x=\"816.11\" y=\"-134.8\" font-family=\"Times,serif\" font-size=\"14.00\">worst texture &lt;= 30.975</text>\n",
       "<text text-anchor=\"middle\" x=\"816.11\" y=\"-120.8\" font-family=\"Times,serif\" font-size=\"14.00\">samples = 5</text>\n",
       "<text text-anchor=\"middle\" x=\"816.11\" y=\"-106.8\" font-family=\"Times,serif\" font-size=\"14.00\">value = [2, 3]</text>\n",
       "<text text-anchor=\"middle\" x=\"816.11\" y=\"-92.8\" font-family=\"Times,serif\" font-size=\"14.00\">class = benign</text>\n",
       "</g>\n",
       "<!-- 16&#45;&gt;17 -->\n",
       "<g id=\"edge17\" class=\"edge\">\n",
       "<title>16&#45;&gt;17</title>\n",
       "<path fill=\"none\" stroke=\"black\" d=\"M816.11,-185.99C816.11,-177.86 816.11,-168.96 816.11,-160.38\"/>\n",
       "<polygon fill=\"black\" stroke=\"black\" points=\"819.61,-160.14 816.11,-150.14 812.61,-160.14 819.61,-160.14\"/>\n",
       "</g>\n",
       "<!-- 20 -->\n",
       "<g id=\"node21\" class=\"node\">\n",
       "<title>20</title>\n",
       "<polygon fill=\"#e58139\" stroke=\"black\" points=\"1023.2,-143 909.01,-143 909.01,-93 1023.2,-93 1023.2,-143\"/>\n",
       "<text text-anchor=\"middle\" x=\"966.11\" y=\"-127.8\" font-family=\"Times,serif\" font-size=\"14.00\">samples = 132</text>\n",
       "<text text-anchor=\"middle\" x=\"966.11\" y=\"-113.8\" font-family=\"Times,serif\" font-size=\"14.00\">value = [132, 0]</text>\n",
       "<text text-anchor=\"middle\" x=\"966.11\" y=\"-99.8\" font-family=\"Times,serif\" font-size=\"14.00\">class = malignant</text>\n",
       "</g>\n",
       "<!-- 16&#45;&gt;20 -->\n",
       "<g id=\"edge20\" class=\"edge\">\n",
       "<title>16&#45;&gt;20</title>\n",
       "<path fill=\"none\" stroke=\"black\" d=\"M863.57,-185.99C881.71,-174.14 902.36,-160.65 920.34,-148.9\"/>\n",
       "<polygon fill=\"black\" stroke=\"black\" points=\"922.47,-151.69 928.93,-143.29 918.65,-145.83 922.47,-151.69\"/>\n",
       "</g>\n",
       "<!-- 18 -->\n",
       "<g id=\"node19\" class=\"node\">\n",
       "<title>18</title>\n",
       "<polygon fill=\"#399de5\" stroke=\"black\" points=\"864.32,-50 767.89,-50 767.89,0 864.32,0 864.32,-50\"/>\n",
       "<text text-anchor=\"middle\" x=\"816.11\" y=\"-34.8\" font-family=\"Times,serif\" font-size=\"14.00\">samples = 3</text>\n",
       "<text text-anchor=\"middle\" x=\"816.11\" y=\"-20.8\" font-family=\"Times,serif\" font-size=\"14.00\">value = [0, 3]</text>\n",
       "<text text-anchor=\"middle\" x=\"816.11\" y=\"-6.8\" font-family=\"Times,serif\" font-size=\"14.00\">class = benign</text>\n",
       "</g>\n",
       "<!-- 17&#45;&gt;18 -->\n",
       "<g id=\"edge18\" class=\"edge\">\n",
       "<title>17&#45;&gt;18</title>\n",
       "<path fill=\"none\" stroke=\"black\" d=\"M816.11,-85.94C816.11,-77.68 816.11,-68.72 816.11,-60.31\"/>\n",
       "<polygon fill=\"black\" stroke=\"black\" points=\"819.61,-60.03 816.11,-50.03 812.61,-60.03 819.61,-60.03\"/>\n",
       "</g>\n",
       "<!-- 19 -->\n",
       "<g id=\"node20\" class=\"node\">\n",
       "<title>19</title>\n",
       "<polygon fill=\"#e58139\" stroke=\"black\" points=\"996.2,-50 882.01,-50 882.01,0 996.2,0 996.2,-50\"/>\n",
       "<text text-anchor=\"middle\" x=\"939.11\" y=\"-34.8\" font-family=\"Times,serif\" font-size=\"14.00\">samples = 2</text>\n",
       "<text text-anchor=\"middle\" x=\"939.11\" y=\"-20.8\" font-family=\"Times,serif\" font-size=\"14.00\">value = [2, 0]</text>\n",
       "<text text-anchor=\"middle\" x=\"939.11\" y=\"-6.8\" font-family=\"Times,serif\" font-size=\"14.00\">class = malignant</text>\n",
       "</g>\n",
       "<!-- 17&#45;&gt;19 -->\n",
       "<g id=\"edge19\" class=\"edge\">\n",
       "<title>17&#45;&gt;19</title>\n",
       "<path fill=\"none\" stroke=\"black\" d=\"M858.09,-85.94C871.11,-76.31 885.43,-65.72 898.36,-56.15\"/>\n",
       "<polygon fill=\"black\" stroke=\"black\" points=\"900.67,-58.79 906.63,-50.03 896.51,-53.16 900.67,-58.79\"/>\n",
       "</g>\n",
       "</g>\n",
       "</svg>\n"
      ],
      "text/plain": [
       "<graphviz.files.Source at 0x1c24362750>"
      ]
     },
     "execution_count": 20,
     "metadata": {},
     "output_type": "execute_result"
    }
   ],
   "source": [
    "with open(\"tree.dot\") as f:\n",
    "    dot_graph = f.read()\n",
    "graphviz.Source(dot_graph)"
   ]
  },
  {
   "cell_type": "markdown",
   "metadata": {},
   "source": [
    "⬆︎ 決定木を検証するよい方法の1つは、`大多数のデータがたどるパス`を見つけることである。\n",
    "\n",
    "図の内のパラメータについて\n",
    "- samplesはそのノードにあるサンプルの個数を示す。\n",
    "- valueはクラスごとのサンプルの個数を示す。"
   ]
  },
  {
   "cell_type": "markdown",
   "metadata": {},
   "source": [
    "### 決定木の特徴量の重要性\n",
    "\n",
    "決定木全体を見るのは大変なので、決定木から導出できる、決定木の挙動を要約する特性値を調べる。\n",
    "\n",
    "要約に最もよく使われるのは、特徴量の重要度(feature importance)と呼ばれる、決定木が行う判断にとって、個々の特徴量がどの程度重要かを示す割合である。\n",
    "  - それぞれの特徴量に対する0と1の間の数で、0は「まったく使われていない」、1は「完全にターゲットを予想できる」を意味する。\n",
    "  - 特徴量の重要度の和は常に1になる。"
   ]
  },
  {
   "cell_type": "code",
   "execution_count": 21,
   "metadata": {},
   "outputs": [
    {
     "name": "stdout",
     "output_type": "stream",
     "text": [
      "Feature importances:\n",
      "[0.         0.00752597 0.         0.         0.00903116 0.\n",
      " 0.00752597 0.         0.         0.         0.00975731 0.04630969\n",
      " 0.         0.00238745 0.00231135 0.         0.         0.\n",
      " 0.         0.00668975 0.69546322 0.05383211 0.         0.01354675\n",
      " 0.         0.         0.01740312 0.11684357 0.01137258 0.        ]\n"
     ]
    }
   ],
   "source": [
    "print(\"Feature importances:\\n{}\".format(tree.feature_importances_))"
   ]
  },
  {
   "cell_type": "markdown",
   "metadata": {},
   "source": [
    "#### 特徴量の重要度の可視化"
   ]
  },
  {
   "cell_type": "code",
   "execution_count": 22,
   "metadata": {},
   "outputs": [],
   "source": [
    "def plot_feature_importances_cancer(model):\n",
    "    n_features = cancer.data.shape[1]\n",
    "    plt.barh(range(n_features), model.feature_importances_, align='center')\n",
    "    plt.yticks(np.arange(n_features), cancer.feature_names)\n",
    "    plt.xlabel(\"Feature importance\")\n",
    "    plt.ylabel(\"Feature\")"
   ]
  },
  {
   "cell_type": "code",
   "execution_count": 23,
   "metadata": {},
   "outputs": [
    {
     "data": {
      "image/png": "[encoded data removed]",
      "text/plain": [
       "<Figure size 432x288 with 1 Axes>"
      ]
     },
     "metadata": {
      "needs_background": "light"
     },
     "output_type": "display_data"
    }
   ],
   "source": [
    "plot_feature_importances_cancer(tree2)"
   ]
  },
  {
   "cell_type": "code",
   "execution_count": 25,
   "metadata": {},
   "outputs": [
    {
     "name": "stdout",
     "output_type": "stream",
     "text": [
      "Feature importances: [0. 1.]\n"
     ]
    },
    {
     "data": {
      "image/svg+xml": [
       "<?xml version=\"1.0\" encoding=\"UTF-8\" standalone=\"no\"?>\n",
       "<!DOCTYPE svg PUBLIC \"-//W3C//DTD SVG 1.1//EN\"\n",
       " \"http://www.w3.org/Graphics/SVG/1.1/DTD/svg11.dtd\">\n",
       "<!-- Generated by graphviz version 2.43.0 (0)\n",
       " -->\n",
       "<!-- Title: Tree Pages: 1 -->\n",
       "<svg width=\"285pt\" height=\"216pt\"\n",
       " viewBox=\"0.00 0.00 284.54 216.00\" xmlns=\"http://www.w3.org/2000/svg\" xmlns:xlink=\"http://www.w3.org/1999/xlink\">\n",
       "<g id=\"graph0\" class=\"graph\" transform=\"scale(1 1) rotate(0) translate(4 212)\">\n",
       "<title>Tree</title>\n",
       "<polygon fill=\"white\" stroke=\"transparent\" points=\"-4,4 -4,-212 280.54,-212 280.54,4 -4,4\"/>\n",
       "<!-- 0 -->\n",
       "<g id=\"node1\" class=\"node\">\n",
       "<title>0</title>\n",
       "<polygon fill=\"#ffffff\" stroke=\"black\" points=\"161.81,-208 56.73,-208 56.73,-158 161.81,-158 161.81,-208\"/>\n",
       "<text text-anchor=\"middle\" x=\"109.27\" y=\"-192.8\" font-family=\"Times,serif\" font-size=\"14.00\">X[1] &lt;= &#45;5.814</text>\n",
       "<text text-anchor=\"middle\" x=\"109.27\" y=\"-178.8\" font-family=\"Times,serif\" font-size=\"14.00\">samples = 100</text>\n",
       "<text text-anchor=\"middle\" x=\"109.27\" y=\"-164.8\" font-family=\"Times,serif\" font-size=\"14.00\">value = [50, 50]</text>\n",
       "</g>\n",
       "<!-- 1 -->\n",
       "<g id=\"node2\" class=\"node\">\n",
       "<title>1</title>\n",
       "<polygon fill=\"#e58139\" stroke=\"black\" points=\"98.31,-115 0.23,-115 0.23,-79 98.31,-79 98.31,-115\"/>\n",
       "<text text-anchor=\"middle\" x=\"49.27\" y=\"-99.8\" font-family=\"Times,serif\" font-size=\"14.00\">samples = 25</text>\n",
       "<text text-anchor=\"middle\" x=\"49.27\" y=\"-85.8\" font-family=\"Times,serif\" font-size=\"14.00\">value = [25, 0]</text>\n",
       "</g>\n",
       "<!-- 0&#45;&gt;1 -->\n",
       "<g id=\"edge1\" class=\"edge\">\n",
       "<title>0&#45;&gt;1</title>\n",
       "<path fill=\"none\" stroke=\"black\" d=\"M91.91,-157.7C84.21,-146.92 75.15,-134.24 67.37,-123.34\"/>\n",
       "<polygon fill=\"black\" stroke=\"black\" points=\"70.11,-121.15 61.45,-115.05 64.41,-125.22 70.11,-121.15\"/>\n",
       "<text text-anchor=\"middle\" x=\"57.34\" y=\"-135.51\" font-family=\"Times,serif\" font-size=\"14.00\">True</text>\n",
       "</g>\n",
       "<!-- 2 -->\n",
       "<g id=\"node3\" class=\"node\">\n",
       "<title>2</title>\n",
       "<polygon fill=\"#9ccef2\" stroke=\"black\" points=\"221.81,-122 116.73,-122 116.73,-72 221.81,-72 221.81,-122\"/>\n",
       "<text text-anchor=\"middle\" x=\"169.27\" y=\"-106.8\" font-family=\"Times,serif\" font-size=\"14.00\">X[1] &lt;= 5.348</text>\n",
       "<text text-anchor=\"middle\" x=\"169.27\" y=\"-92.8\" font-family=\"Times,serif\" font-size=\"14.00\">samples = 75</text>\n",
       "<text text-anchor=\"middle\" x=\"169.27\" y=\"-78.8\" font-family=\"Times,serif\" font-size=\"14.00\">value = [25, 50]</text>\n",
       "</g>\n",
       "<!-- 0&#45;&gt;2 -->\n",
       "<g id=\"edge2\" class=\"edge\">\n",
       "<title>0&#45;&gt;2</title>\n",
       "<path fill=\"none\" stroke=\"black\" d=\"M126.62,-157.7C132.66,-149.26 139.52,-139.64 145.96,-130.64\"/>\n",
       "<polygon fill=\"black\" stroke=\"black\" points=\"148.99,-132.41 151.95,-122.24 143.29,-128.34 148.99,-132.41\"/>\n",
       "<text text-anchor=\"middle\" x=\"156.06\" y=\"-142.7\" font-family=\"Times,serif\" font-size=\"14.00\">False</text>\n",
       "</g>\n",
       "<!-- 3 -->\n",
       "<g id=\"node4\" class=\"node\">\n",
       "<title>3</title>\n",
       "<polygon fill=\"#399de5\" stroke=\"black\" points=\"159.31,-36 61.23,-36 61.23,0 159.31,0 159.31,-36\"/>\n",
       "<text text-anchor=\"middle\" x=\"110.27\" y=\"-20.8\" font-family=\"Times,serif\" font-size=\"14.00\">samples = 50</text>\n",
       "<text text-anchor=\"middle\" x=\"110.27\" y=\"-6.8\" font-family=\"Times,serif\" font-size=\"14.00\">value = [0, 50]</text>\n",
       "</g>\n",
       "<!-- 2&#45;&gt;3 -->\n",
       "<g id=\"edge3\" class=\"edge\">\n",
       "<title>2&#45;&gt;3</title>\n",
       "<path fill=\"none\" stroke=\"black\" d=\"M150.6,-71.64C143.95,-62.96 136.44,-53.16 129.73,-44.4\"/>\n",
       "<polygon fill=\"black\" stroke=\"black\" points=\"132.44,-42.19 123.58,-36.38 126.89,-46.44 132.44,-42.19\"/>\n",
       "</g>\n",
       "<!-- 4 -->\n",
       "<g id=\"node5\" class=\"node\">\n",
       "<title>4</title>\n",
       "<polygon fill=\"#e58139\" stroke=\"black\" points=\"276.31,-36 178.23,-36 178.23,0 276.31,0 276.31,-36\"/>\n",
       "<text text-anchor=\"middle\" x=\"227.27\" y=\"-20.8\" font-family=\"Times,serif\" font-size=\"14.00\">samples = 25</text>\n",
       "<text text-anchor=\"middle\" x=\"227.27\" y=\"-6.8\" font-family=\"Times,serif\" font-size=\"14.00\">value = [25, 0]</text>\n",
       "</g>\n",
       "<!-- 2&#45;&gt;4 -->\n",
       "<g id=\"edge4\" class=\"edge\">\n",
       "<title>2&#45;&gt;4</title>\n",
       "<path fill=\"none\" stroke=\"black\" d=\"M187.62,-71.64C194.16,-62.96 201.54,-53.16 208.14,-44.4\"/>\n",
       "<polygon fill=\"black\" stroke=\"black\" points=\"210.96,-46.47 214.18,-36.38 205.37,-42.26 210.96,-46.47\"/>\n",
       "</g>\n",
       "</g>\n",
       "</svg>\n"
      ],
      "text/plain": [
       "<graphviz.files.Source at 0x10bdb1590>"
      ]
     },
     "metadata": {},
     "output_type": "display_data"
    },
    {
     "data": {
      "image/png": "[encoded data removed]",
      "text/plain": [
       "<Figure size 432x288 with 1 Axes>"
      ]
     },
     "metadata": {},
     "output_type": "display_data"
    }
   ],
   "source": [
    "tree3 = mglearn.plots.plot_tree_not_monotone()\n",
    "display(tree3)"
   ]
  },
  {
   "cell_type": "markdown",
   "metadata": {},
   "source": [
    "## 決定木のアンサンブル法\n",
    "\n",
    "アンサンブル法(Ensembles)とは、複数の機械学習モデルを組み合わせることで、より強力なモデルを構築する手法である。"
   ]
  },
  {
   "cell_type": "markdown",
   "metadata": {},
   "source": [
    "## ランダムフォレスト\n",
    "\n",
    "決定木の最大の問題点は訓練データに対して過剰適合してしまうことにある。ランダムフォレストはこの問題に対応する手法の1つである。\n",
    "\n",
    "ランダムフォレストとは、少しずつ異なる決定木をたくさん集めたものである。ランダムフォレストは、個々の決定木は比較的うまく予測できているが、一部のデータに対して過剰適合してしまっているという考えに基づいている。\n",
    "\n",
    "それぞれ異なった方向に過剰適合した決定木をたくさん作れば、`その結果の平均`を取ることで過剰適合の度合いを減らすことができる。"
   ]
  },
  {
   "cell_type": "markdown",
   "metadata": {},
   "source": [
    "### ランダムフォレストの解析"
   ]
  },
  {
   "cell_type": "code",
   "execution_count": 27,
   "metadata": {},
   "outputs": [],
   "source": [
    "X2, y2 = make_moons(n_samples=100, noise=0.25, random_state=3)\n",
    "X_train2, X_test2, y_train2, y_test2 = train_test_split(X2, y2, stratify=y2, random_state=42)"
   ]
  },
  {
   "cell_type": "code",
   "execution_count": 28,
   "metadata": {},
   "outputs": [
    {
     "data": {
      "text/plain": [
       "RandomForestClassifier(bootstrap=True, class_weight=None, criterion='gini',\n",
       "                       max_depth=None, max_features='auto', max_leaf_nodes=None,\n",
       "                       min_impurity_decrease=0.0, min_impurity_split=None,\n",
       "                       min_samples_leaf=1, min_samples_split=2,\n",
       "                       min_weight_fraction_leaf=0.0, n_estimators=5,\n",
       "                       n_jobs=None, oob_score=False, random_state=2, verbose=0,\n",
       "                       warm_start=False)"
      ]
     },
     "execution_count": 28,
     "metadata": {},
     "output_type": "execute_result"
    }
   ],
   "source": [
    "forest = RandomForestClassifier(n_estimators=5, random_state=2)\n",
    "forest.fit(X_train2, y_train2)"
   ]
  },
  {
   "cell_type": "markdown",
   "metadata": {},
   "source": [
    "⬆︎ ランダムフォレストの一部として構築された決定木はestimator_属性に格納されている。"
   ]
  },
  {
   "cell_type": "markdown",
   "metadata": {},
   "source": [
    "#### それぞれの決定木で学習された決定境界とランダムフォレストによって行われる集合的な予測を可視化"
   ]
  },
  {
   "cell_type": "code",
   "execution_count": 29,
   "metadata": {},
   "outputs": [
    {
     "data": {
      "text/plain": [
       "[<matplotlib.lines.Line2D at 0x1c245a2290>,\n",
       " <matplotlib.lines.Line2D at 0x1c24644bd0>]"
      ]
     },
     "execution_count": 29,
     "metadata": {},
     "output_type": "execute_result"
    },
    {
     "name": "stderr",
     "output_type": "stream",
     "text": [
      "findfont: Font family ['IPAexGothic'] not found. Falling back to DejaVu Sans.\n"
     ]
    },
    {
     "data": {
      "image/png": "[encoded data removed]",
      "text/plain": [
       "<Figure size 1440x720 with 6 Axes>"
      ]
     },
     "metadata": {},
     "output_type": "display_data"
    }
   ],
   "source": [
    "fig, axes = plt.subplots(2, 3, figsize=(20, 10))\n",
    "for i, (ax, tree) in enumerate(zip(axes.ravel(), forest.estimators_)):\n",
    "    ax.set_title(\"Tree {}\".format(i))\n",
    "    mglearn.plots.plot_tree_partition(X_train2, y_train2, tree, ax=ax)\n",
    "    \n",
    "mglearn.plots.plot_2d_separator(forest, X_train2, fill=True, ax=axes[-1, -1], alpha=.4)\n",
    "axes[-1, -1].set_title(\"Random Forest\")\n",
    "mglearn.discrete_scatter(X_train2[:, 0], X_train2[:, 1], y_train2)"
   ]
  },
  {
   "cell_type": "markdown",
   "metadata": {},
   "source": [
    "⬆︎5つのランダム化された決定木による決定境界と、それらを平均して得られた決定境界"
   ]
  },
  {
   "cell_type": "markdown",
   "metadata": {},
   "source": [
    "#### cancerデータセットを用いてランダムフォレストを適用する"
   ]
  },
  {
   "cell_type": "code",
   "execution_count": 30,
   "metadata": {},
   "outputs": [
    {
     "data": {
      "text/plain": [
       "RandomForestClassifier(bootstrap=True, class_weight=None, criterion='gini',\n",
       "                       max_depth=None, max_features='auto', max_leaf_nodes=None,\n",
       "                       min_impurity_decrease=0.0, min_impurity_split=None,\n",
       "                       min_samples_leaf=1, min_samples_split=2,\n",
       "                       min_weight_fraction_leaf=0.0, n_estimators=100,\n",
       "                       n_jobs=None, oob_score=False, random_state=0, verbose=0,\n",
       "                       warm_start=False)"
      ]
     },
     "execution_count": 30,
     "metadata": {},
     "output_type": "execute_result"
    }
   ],
   "source": [
    "forest2 = RandomForestClassifier(n_estimators=100, random_state=0)\n",
    "forest2.fit(X_train, y_train)"
   ]
  },
  {
   "cell_type": "code",
   "execution_count": 31,
   "metadata": {},
   "outputs": [
    {
     "name": "stdout",
     "output_type": "stream",
     "text": [
      "Accuracy on training set: 1.000\n",
      "Accuracy on test set: 0.958\n"
     ]
    }
   ],
   "source": [
    "print(\"Accuracy on training set: {:.3f}\".format(forest2.score(X_train, y_train)))\n",
    "print(\"Accuracy on test set: {:.3f}\".format(forest2.score(X_test, y_test)))"
   ]
  },
  {
   "cell_type": "markdown",
   "metadata": {},
   "source": [
    "### ランダムフォレストによる特徴量の重要度の可視化\n",
    "\n",
    "ランダムフォレストによる特徴量の重要度は個々の決定木の特徴量の重要度を平均したものである。"
   ]
  },
  {
   "cell_type": "code",
   "execution_count": 32,
   "metadata": {},
   "outputs": [
    {
     "data": {
      "image/png": "[encoded data removed]",
      "text/plain": [
       "<Figure size 432x288 with 1 Axes>"
      ]
     },
     "metadata": {
      "needs_background": "light"
     },
     "output_type": "display_data"
    }
   ],
   "source": [
    "plot_feature_importances_cancer(forest2)"
   ]
  },
  {
   "cell_type": "code",
   "execution_count": null,
   "metadata": {},
   "outputs": [],
   "source": []
  },
  {
   "cell_type": "code",
   "execution_count": null,
   "metadata": {},
   "outputs": [],
   "source": []
  }
 ],
 "metadata": {
  "kernelspec": {
   "display_name": "Python 3",
   "language": "python",
   "name": "python3"
  },
  "language_info": {
   "codemirror_mode": {
    "name": "ipython",
    "version": 3
   },
   "file_extension": ".py",
   "mimetype": "text/x-python",
   "name": "python",
   "nbconvert_exporter": "python",
   "pygments_lexer": "ipython3",
   "version": "3.7.4"
  }
 },
 "nbformat": 4,
 "nbformat_minor": 2
}
