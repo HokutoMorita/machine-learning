{
 "cells": [
  {
   "cell_type": "markdown",
   "metadata": {},
   "source": [
    "# 様々な性能評価指標"
   ]
  },
  {
   "cell_type": "code",
   "execution_count": 6,
   "metadata": {},
   "outputs": [],
   "source": [
    "import pandas as pd\n",
    "import numpy as np\n",
    "from matplotlib import pyplot as plt\n",
    "# ジュピターノートブック上でグラフを表示させるための処理\n",
    "%matplotlib inline\n",
    "\n",
    "from sklearn import datasets\n",
    "from sklearn.model_selection import train_test_split\n",
    "from sklearn.model_selection import StratifiedKFold\n",
    "from sklearn.model_selection import cross_val_score\n",
    "from sklearn.model_selection import learning_curve\n",
    "from sklearn.model_selection import validation_curve\n",
    "from sklearn.model_selection import GridSearchCV\n",
    "from sklearn.decomposition import PCA\n",
    "from sklearn.linear_model import LogisticRegression\n",
    "from sklearn.pipeline import Pipeline\n",
    "from sklearn.preprocessing import StandardScaler\n",
    "from sklearn.svm import SVC\n",
    "from sklearn.metrics import confusion_matrix\n",
    "from sklearn.metrics import precision_score\n",
    "from sklearn.metrics import recall_score\n",
    "from sklearn.metrics import  f1_score"
   ]
  },
  {
   "cell_type": "markdown",
   "metadata": {},
   "source": [
    "## Breast Cancer Wisconsinデータセットの読み込み\n",
    "\n",
    "このデータセットには、悪性腫瘍細胞と良性腫瘍細胞の569のサンプルが含まれている。\n",
    "\n",
    "このデータセットの最初の2つの列には、サンプルの一意なIDとそれに対応する診断結果が含まれている。診断結果の`M`は悪性(malignant)を示し、`B`は良性(benign)を示す。\n",
    "\n",
    "3列目から32列目には、細胞核のデジタル画像から算出された30個の実数値の特徴量が含まれている。\n",
    "\n",
    "これらは腫瘍が良性か悪性かを予測するモデルの構築に利用できる。"
   ]
  },
  {
   "cell_type": "code",
   "execution_count": 3,
   "metadata": {},
   "outputs": [
    {
     "name": "stdout",
     "output_type": "stream",
     "text": [
      "[1 1 1 1 1]\n",
      "[1 0]\n"
     ]
    }
   ],
   "source": [
    "# データセットの読み込み\n",
    "df = pd.read_csv('https://archive.ics.uci.edu/ml/machine-learning-databases/breast-cancer-wisconsin/wdbc.data', header=None)\n",
    "# 30個の特徴量をnumpy配列のオブジェクトXに割り当てる。\n",
    "# LabelEncoderを使って、元のクラスラベルの文字列表現(MおよびB)を整数に変換する。\n",
    "from sklearn.preprocessing import LabelEncoder\n",
    "X = df.loc[:, 2:].values\n",
    "y = df.loc[:, 1].values\n",
    "le = LabelEncoder()\n",
    "# 配列yに格納されたクラスラベル（診断結果）エンコードした後は、悪性腫瘍はクラス1、良性腫瘍はクラス2で表される。\n",
    "y = le.fit_transform(y)\n",
    "print(y[:5])\n",
    "print(le.fit_transform(['M', 'B']))\n",
    "\n",
    "# エンコード後のデータセットをトレーニングデータセット（データの80%）とテストデータセット（データの20%）に分割する。\n",
    "X_train, X_test, y_train, y_test = train_test_split(X, y, test_size=0.20, random_state=1)"
   ]
  },
  {
   "cell_type": "markdown",
   "metadata": {},
   "source": [
    "## 混同行列を解釈する\n",
    "\n",
    "混同行列は、分類器の真陽性（true positive）、真陰性（true negative）、偽陽性(false positive)、偽陰性（false negative）の4つの予測の個数を報告する正方行列である。\n",
    "\n",
    "真と偽は「予測が当たったかどうか」を表している。\n",
    "\n",
    "陽性と陰性は「予測されたクラス」を表している。\n",
    "\n",
    "たとえば、偽陽性は、予測されたクラスは陽性であったが、予測を間違えた（実は陰性だった）ことを表す。"
   ]
  },
  {
   "cell_type": "code",
   "execution_count": 5,
   "metadata": {},
   "outputs": [
    {
     "name": "stderr",
     "output_type": "stream",
     "text": [
      "findfont: Font family ['IPAexGothic'] not found. Falling back to DejaVu Sans.\n"
     ]
    },
    {
     "name": "stdout",
     "output_type": "stream",
     "text": [
      "[[71  1]\n",
      " [ 2 40]]\n"
     ]
    },
    {
     "data": {
      "image/png": "[encoded data removed]",
      "text/plain": [
       "<Figure size 180x180 with 1 Axes>"
      ]
     },
     "metadata": {
      "needs_background": "light"
     },
     "output_type": "display_data"
    }
   ],
   "source": [
    "pipe_svc = Pipeline([('scl', StandardScaler()), ('clf', SVC(random_state=1))])\n",
    "\n",
    "pipe_svc.fit(X_train, y_train)\n",
    "\n",
    "y_pred = pipe_svc.predict(X_test)\n",
    "\n",
    "# テストと予測のデータから混同行列を生成\n",
    "confmat = confusion_matrix(y_true=y_test, y_pred=y_pred)\n",
    "print(confmat)\n",
    "\n",
    "# 図のサイズを指定\n",
    "fig, ax = plt.subplots(figsize=(2.5, 2.5))\n",
    "\n",
    "# matshow関数で行列からヒートマップを描画\n",
    "ax.matshow(confmat, cmap=plt.cm.Blues, alpha=0.3)\n",
    "\n",
    "for i in range(confmat.shape[0]): # クラス0の繰り返し処理\n",
    "    for j in range(confmat.shape[1]): # クラス1の繰り返し処理\n",
    "        ax.text(x=j, y=i, s=confmat[i, j], va='center', ha='center') # 件数を表示\n",
    "\n",
    "plt.xlabel('predicted label')\n",
    "plt.ylabel('true label')\n",
    "plt.show()"
   ]
  },
  {
   "cell_type": "markdown",
   "metadata": {},
   "source": [
    "⬆︎\n",
    "\n",
    "この例において、クラス1(悪性)を陽性であるとすれば、このモデルはクラス0に属するサンプルの71個(真陰性)と、クラス1に属するサンプルの40個(真陽性)を正しく分類している。\n",
    "\n",
    "ただし、このモデルはクラス0の1つのサンプルをクラス1として誤分類しており（偽陽性）、悪性腫瘍である2つのサンプルを良性として予測している（偽陰性）。\n",
    "\n",
    "この情報を使ってさまざまな誤差指標を計算する方法を考える。"
   ]
  },
  {
   "cell_type": "markdown",
   "metadata": {},
   "source": [
    "## 分類モデルの適合率と再現率を最適化\n",
    "\n",
    "予測の`誤分類率(ERR)`と`正解率(ACC)`は、誤分類されるサンプルの個数に関する全体的な情報を提供する。\n",
    "\n",
    "誤分類率は、誤った予測の合計の予測の総数で割ったものとして解釈できる。\n",
    " - ERR = (FP + FN) / (FP + FN + TP + TN)\n",
    "\n",
    "正解率は、正しい予測の合計を予測の総数で割ったものとして計算できる。\n",
    " - ACC = (TP + TN) / (FP + FN + TP + TN) = (1 - ERR)\n",
    "\n",
    "`真陽性率(TPR)`と`偽陽性率(FPR)`は、不均衡なクラスの問題に特に役立つ性能指標である（以下のNは全陰性、Pは全陽性を表す）\n",
    " - TPR = TP / P = TP / (FN + TP) \n",
    " - FPR = FP / N = FP / (FP + TN)\n",
    "\n",
    "`適合率(PRE)`と`再現率(REC)`は、TPRとEPRに関連する性能指標である。実際には、RECはTPRの同義語である。\n",
    " - PRE = TP / (TP + FP)\n",
    " - REC = TPR = TP / P = TP / (FN + TP)\n",
    "\n",
    "実際には、PREとRECを組み合わせた`F1スコア`と呼ばれるものがよく使用される。\n",
    " - F1 = 2 * ((PRE * REC) / (PRE + REC))"
   ]
  },
  {
   "cell_type": "code",
   "execution_count": 7,
   "metadata": {},
   "outputs": [
    {
     "name": "stdout",
     "output_type": "stream",
     "text": [
      "Precision(適合率): 0.976\n",
      "Recall(再現率): 0.952\n",
      "F1(F1スコア): 0.964\n"
     ]
    }
   ],
   "source": [
    "# 適合率、再現率、F1スコアを出力\n",
    "print('Precision(適合率): %.3f' % precision_score(y_true=y_test, y_pred=y_pred))\n",
    "print('Recall(再現率): %.3f' % recall_score(y_true=y_test, y_pred=y_pred))\n",
    "print('F1(F1スコア): %.3f' % f1_score(y_true=y_test, y_pred=y_pred))"
   ]
  },
  {
   "cell_type": "code",
   "execution_count": null,
   "metadata": {},
   "outputs": [],
   "source": []
  }
 ],
 "metadata": {
  "kernelspec": {
   "display_name": "Python 3",
   "language": "python",
   "name": "python3"
  },
  "language_info": {
   "codemirror_mode": {
    "name": "ipython",
    "version": 3
   },
   "file_extension": ".py",
   "mimetype": "text/x-python",
   "name": "python",
   "nbconvert_exporter": "python",
   "pygments_lexer": "ipython3",
   "version": "3.7.4"
  }
 },
 "nbformat": 4,
 "nbformat_minor": 2
}
