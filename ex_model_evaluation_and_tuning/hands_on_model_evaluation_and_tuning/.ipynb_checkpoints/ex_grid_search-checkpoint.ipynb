{
 "cells": [
  {
   "cell_type": "markdown",
   "metadata": {},
   "source": [
    "# グリッドサーチ\n",
    "\n",
    "機械学習には、2種類のパラメータがある。ロジスティック回帰の重みのように、トレーニングデータから学習されるパラメータと、トレーニングデータを使用するのではなく個別に最適化される学習アルゴリズムのパラメータである。\n",
    "\n",
    "後者はモデルのチューニングパラメータであり、`ハイパーパラメータ`と呼ばれる。例えば、ロジスティック回帰の`正則化パラメータ`や決定木の`深さパラメータ`はハイパーパラメータである。\n",
    "\n",
    "グリッドサーチはハイパーパラメータの最適化手法の一つである。グリッドサーチは、ハイパーパラメータの値の「最適な」組み合わせを見つけ出すことにより、モデルの性能をさらに改善するのに役立つ。"
   ]
  },
  {
   "cell_type": "code",
   "execution_count": 4,
   "metadata": {},
   "outputs": [],
   "source": [
    "import pandas as pd\n",
    "import numpy as np\n",
    "from matplotlib import pyplot as plt\n",
    "# ジュピターノートブック上でグラフを表示させるための処理\n",
    "%matplotlib inline\n",
    "\n",
    "from sklearn import datasets\n",
    "from sklearn.model_selection import train_test_split\n",
    "from sklearn.model_selection import StratifiedKFold\n",
    "from sklearn.model_selection import cross_val_score\n",
    "from sklearn.model_selection import learning_curve\n",
    "from sklearn.model_selection import validation_curve\n",
    "from sklearn.model_selection import GridSearchCV\n",
    "from sklearn.decomposition import PCA\n",
    "from sklearn.linear_model import LogisticRegression\n",
    "from sklearn.pipeline import Pipeline\n",
    "from sklearn.preprocessing import StandardScaler\n",
    "from sklearn.svm import SVC"
   ]
  },
  {
   "cell_type": "markdown",
   "metadata": {},
   "source": [
    "## Breast Cancer Wisconsinデータセットの読み込み\n",
    "\n",
    "このデータセットには、悪性腫瘍細胞と良性腫瘍細胞の569のサンプルが含まれている。\n",
    "\n",
    "このデータセットの最初の2つの列には、サンプルの一意なIDとそれに対応する診断結果が含まれている。診断結果の`M`は悪性(malignant)を示し、`B`は良性(benign)を示す。\n",
    "\n",
    "3列目から32列目には、細胞核のデジタル画像から算出された30個の実数値の特徴量が含まれている。\n",
    "\n",
    "これらは腫瘍が良性か悪性かを予測するモデルの構築に利用できる。"
   ]
  },
  {
   "cell_type": "code",
   "execution_count": 2,
   "metadata": {},
   "outputs": [
    {
     "name": "stdout",
     "output_type": "stream",
     "text": [
      "[1 1 1 1 1]\n",
      "[1 0]\n"
     ]
    }
   ],
   "source": [
    "# データセットの読み込み\n",
    "df = pd.read_csv('https://archive.ics.uci.edu/ml/machine-learning-databases/breast-cancer-wisconsin/wdbc.data', header=None)\n",
    "# 30個の特徴量をnumpy配列のオブジェクトXに割り当てる。\n",
    "# LabelEncoderを使って、元のクラスラベルの文字列表現(MおよびB)を整数に変換する。\n",
    "from sklearn.preprocessing import LabelEncoder\n",
    "X = df.loc[:, 2:].values\n",
    "y = df.loc[:, 1].values\n",
    "le = LabelEncoder()\n",
    "# 配列yに格納されたクラスラベル（診断結果）エンコードした後は、悪性腫瘍はクラス1、良性腫瘍はクラス2で表される。\n",
    "y = le.fit_transform(y)\n",
    "print(y[:5])\n",
    "print(le.fit_transform(['M', 'B']))\n",
    "\n",
    "# エンコード後のデータセットをトレーニングデータセット（データの80%）とテストデータセット（データの20%）に分割する。\n",
    "X_train, X_test, y_train, y_test = train_test_split(X, y, test_size=0.20, random_state=1)"
   ]
  },
  {
   "cell_type": "markdown",
   "metadata": {},
   "source": [
    "## グリッドサーチを使ってハイパーパラメータをチューニングする\n",
    "\n",
    "グリッドサーチはしらみつぶしの網羅的探索手法であり、さまざまなハイパーパラメータの値からなるリストを指定すると、それらの組み合わせごとにモデルの性能を評価し、最適なハイパーパラメータの組み合わせを突き止める。"
   ]
  },
  {
   "cell_type": "code",
   "execution_count": 6,
   "metadata": {},
   "outputs": [
    {
     "name": "stdout",
     "output_type": "stream",
     "text": [
      "0.978021978021978\n",
      "{'clf__C': 0.1, 'clf__kernel': 'linear'}\n"
     ]
    },
    {
     "name": "stderr",
     "output_type": "stream",
     "text": [
      "/opt/anaconda3/lib/python3.7/site-packages/sklearn/model_selection/_search.py:814: DeprecationWarning: The default of the `iid` parameter will change from True to False in version 0.22 and will be removed in 0.24. This will change numeric results when test-set sizes are unequal.\n",
      "  DeprecationWarning)\n"
     ]
    }
   ],
   "source": [
    "pipe_svc = Pipeline([('scl', StandardScaler()), ('clf', SVC(random_state=1))])\n",
    "param_range = [0.0001, 0.001, 0.01,0.1, 1.0, 10.0, 100.0, 1000.0]\n",
    "\n",
    "param_grid = [{'clf__C' : param_range, 'clf__kernel' : ['linear']},\n",
    "                          {'clf__C' : param_range, 'clf__gamma' : param_range, 'clf__kernel' : ['rbf']}]\n",
    "\n",
    "# ハイパーパラメータ値のリストparam_gridを指定し、グリッドサーチを行うGridSearchCVクラスのインスタンス化\n",
    "gs = GridSearchCV(estimator=pipe_svc, param_grid=param_grid, scoring='accuracy', cv=10, n_jobs=-1)\n",
    "\n",
    "gs.fit(X_train, y_train)\n",
    "\n",
    "# モデルの最良スコアを出力\n",
    "print(gs.best_score_)\n",
    "\n",
    "# 最良スコアとなるパラメータ値を出力\n",
    "print(gs.best_params_)"
   ]
  },
  {
   "cell_type": "markdown",
   "metadata": {},
   "source": [
    "⬆︎\n",
    "\n",
    "このコードでは、GridSearchCVオブジェクトを初期化し、サポートベクトルマシン(SVM)のトレーニングとチューニングを行なっている。\n",
    "\n",
    "チューニングしたいパラメータを指定するには、GridSearchCVのparam_grid引数にディクショナリのリストを設定する。\n",
    "\n",
    "トレーニングデータを使ってグリッドサーチを実行した後、\n",
    "- best_score_属性を使って最も性能がよいモデルのスコアを取得する\n",
    "- best_params_属性を使って性能がよい時のモデルで使用したパラメータを取得する"
   ]
  },
  {
   "cell_type": "code",
   "execution_count": 8,
   "metadata": {},
   "outputs": [
    {
     "name": "stdout",
     "output_type": "stream",
     "text": [
      "Test accuracy: 0.965\n"
     ]
    }
   ],
   "source": [
    "# estimator(訳: 推定者)\n",
    "clf = gs.best_estimator_\n",
    "clf.fit(X_train, y_train)\n",
    "print('Test accuracy: %.3f' % clf.score(X_test, y_test))"
   ]
  },
  {
   "cell_type": "markdown",
   "metadata": {},
   "source": [
    "⬆︎\n",
    "トレーニングデータセットからは独立したテストデータセットを使って、選択されたモデルの性能を評価する。\n",
    "\n",
    "GridSearchCVオブジェクトのbest_estimator_属性を使用する。"
   ]
  },
  {
   "cell_type": "markdown",
   "metadata": {},
   "source": [
    "## 入れ子式の交差検証によるアルゴリズムの選択\n",
    "\n",
    "入れ子式の交差検証において、外側のループでは、k分割交差検証を使って、トレーニングサブセットとテストサブセットにデータを分割する。\n",
    "\n",
    "内側のループでは、トレーニングサブセットに対してk分割交差検証を行うことで、モデルを選択する。\n",
    "\n",
    "モデルを選択した後、テストサブセットを使ってモデルの性能を比較する。"
   ]
  },
  {
   "cell_type": "code",
   "execution_count": 9,
   "metadata": {},
   "outputs": [
    {
     "name": "stderr",
     "output_type": "stream",
     "text": [
      "/opt/anaconda3/lib/python3.7/site-packages/sklearn/model_selection/_search.py:814: DeprecationWarning: The default of the `iid` parameter will change from True to False in version 0.22 and will be removed in 0.24. This will change numeric results when test-set sizes are unequal.\n",
      "  DeprecationWarning)\n",
      "/opt/anaconda3/lib/python3.7/site-packages/sklearn/model_selection/_search.py:814: DeprecationWarning: The default of the `iid` parameter will change from True to False in version 0.22 and will be removed in 0.24. This will change numeric results when test-set sizes are unequal.\n",
      "  DeprecationWarning)\n",
      "/opt/anaconda3/lib/python3.7/site-packages/sklearn/model_selection/_search.py:814: DeprecationWarning: The default of the `iid` parameter will change from True to False in version 0.22 and will be removed in 0.24. This will change numeric results when test-set sizes are unequal.\n",
      "  DeprecationWarning)\n",
      "/opt/anaconda3/lib/python3.7/site-packages/sklearn/model_selection/_search.py:814: DeprecationWarning: The default of the `iid` parameter will change from True to False in version 0.22 and will be removed in 0.24. This will change numeric results when test-set sizes are unequal.\n",
      "  DeprecationWarning)\n"
     ]
    },
    {
     "name": "stdout",
     "output_type": "stream",
     "text": [
      "CV accuracy: 0.971 +/- 0.018\n"
     ]
    },
    {
     "name": "stderr",
     "output_type": "stream",
     "text": [
      "/opt/anaconda3/lib/python3.7/site-packages/sklearn/model_selection/_search.py:814: DeprecationWarning: The default of the `iid` parameter will change from True to False in version 0.22 and will be removed in 0.24. This will change numeric results when test-set sizes are unequal.\n",
      "  DeprecationWarning)\n"
     ]
    }
   ],
   "source": [
    "gs2 = GridSearchCV(estimator=pipe_svc, param_grid=param_grid, scoring='accuracy', cv=2, n_jobs=-1)\n",
    "scores = cross_val_score(gs2, X_train, y_train, scoring='accuracy', cv=5)\n",
    "\n",
    "print('CV accuracy: %.3f +/- %.3f' % (np.mean(scores), np.std(scores)))"
   ]
  },
  {
   "cell_type": "code",
   "execution_count": null,
   "metadata": {},
   "outputs": [],
   "source": []
  }
 ],
 "metadata": {
  "kernelspec": {
   "display_name": "Python 3",
   "language": "python",
   "name": "python3"
  },
  "language_info": {
   "codemirror_mode": {
    "name": "ipython",
    "version": 3
   },
   "file_extension": ".py",
   "mimetype": "text/x-python",
   "name": "python",
   "nbconvert_exporter": "python",
   "pygments_lexer": "ipython3",
   "version": "3.7.4"
  }
 },
 "nbformat": 4,
 "nbformat_minor": 2
}
